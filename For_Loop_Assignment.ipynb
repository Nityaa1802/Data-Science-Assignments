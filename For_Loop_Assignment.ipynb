{
 "cells": [
  {
   "cell_type": "code",
   "execution_count": 3,
   "id": "efb711b8-86cb-4691-a9cc-d6c9ba7b4acd",
   "metadata": {},
   "outputs": [
    {
     "name": "stdout",
     "output_type": "stream",
     "text": [
      "1 2 3 4 5 6 7 8 9 10 "
     ]
    }
   ],
   "source": [
    "# 1. Write a Python program to print the numbers from 1 to 10 using a `for` loop.\n",
    "\n",
    "for i in range(1,11):\n",
    "    print( i , end=\" \")"
   ]
  },
  {
   "cell_type": "code",
   "execution_count": 5,
   "id": "bfc700df-025f-4d48-a3ec-8bb6a133834d",
   "metadata": {},
   "outputs": [
    {
     "name": "stdout",
     "output_type": "stream",
     "text": [
      "the sum of all numbers in a list 495\n"
     ]
    }
   ],
   "source": [
    "# 2. Create a program that calculates the sum of all numbers in a list using a `for` loop.\n",
    "\n",
    "list1 = [11,22,33,44,55,66,77,88,99]\n",
    "sum=0\n",
    "for i in list1:\n",
    "    sum +=i\n",
    "print(\"the sum of all numbers in a list\",sum)"
   ]
  },
  {
   "cell_type": "code",
   "execution_count": 14,
   "id": "97d017c5-8375-447e-bae8-3e9eab00eb48",
   "metadata": {},
   "outputs": [
    {
     "name": "stdout",
     "output_type": "stream",
     "text": [
      "a a y t i N "
     ]
    }
   ],
   "source": [
    "# 3. Write a program to print the characters of a string in reverse order using a `for` loop.\n",
    "\n",
    "str1 = \"Nityaa\"\n",
    "for i in range(len(str1)-1,-1,-1):\n",
    "    print(str1[i], end=\" \")\n"
   ]
  },
  {
   "cell_type": "code",
   "execution_count": 17,
   "id": "38402ee0-b258-4dce-9866-7e5c20ea330b",
   "metadata": {},
   "outputs": [
    {
     "name": "stdin",
     "output_type": "stream",
     "text": [
      "Enter the number 6\n"
     ]
    },
    {
     "name": "stdout",
     "output_type": "stream",
     "text": [
      "factorial of a given number is 720\n"
     ]
    }
   ],
   "source": [
    "# 4. Develop a program that finds the factorial of a given number using a `for` loop.\n",
    "\n",
    "no= int(input('Enter the number'))\n",
    "prod = 1\n",
    "for i in range(1,no+1):\n",
    "    prod*= i\n",
    "print(\"factorial of a given number is\", prod)"
   ]
  },
  {
   "cell_type": "code",
   "execution_count": 19,
   "id": "35816b7a-ded0-4f30-9eba-f11ba2056b25",
   "metadata": {},
   "outputs": [
    {
     "name": "stdin",
     "output_type": "stream",
     "text": [
      "Enter the number 10\n"
     ]
    },
    {
     "name": "stdout",
     "output_type": "stream",
     "text": [
      "10 20 30 40 50 60 70 80 90 100 "
     ]
    }
   ],
   "source": [
    "# 5. Create a program to print the multiplication table of a given number using a `for` loop.\n",
    "\n",
    "no= int(input('Enter the number'))\n",
    "for i in range(1,11):\n",
    "    print(i*no,end=\" \")"
   ]
  },
  {
   "cell_type": "code",
   "execution_count": null,
   "id": "526f6b1c-84b3-4713-bd00-d26357aafec6",
   "metadata": {},
   "outputs": [
    {
     "name": "stdout",
     "output_type": "stream",
     "text": [
      "Even numbers are: [22, 44, 66, 88]\n",
      "Odd numbers are: [11, 33, 55, 77, 99]\n"
     ]
    }
   ],
   "source": [
    "# 6. Write a program that counts the number of even and odd numbers in a list using a `for` loop.\n",
    "\n",
    "list1 = [11,22,33,44,55,66,77,88,99]\n",
    "even=[]\n",
    "odd=[]\n",
    "for i in list1:\n",
    "    if( i%2==0):\n",
    "        even.append(i)\n",
    "    else:\n",
    "        odd.append(i)\n",
    "print(\"Even numbers are:\",even)\n",
    "print(\"Odd numbers are:\",odd)\n",
    "        "
   ]
  },
  {
   "cell_type": "code",
   "execution_count": 2,
   "id": "b928884b-daab-4ca0-a373-57a141737d90",
   "metadata": {},
   "outputs": [
    {
     "name": "stdout",
     "output_type": "stream",
     "text": [
      "1 4 9 16 25 "
     ]
    }
   ],
   "source": [
    "# 7. Develop a program that prints the squares of numbers from 1 to 5 using a `for` loop.\n",
    "\n",
    "for i in range(1,6):\n",
    "    print(i**2,end=\" \")"
   ]
  },
  {
   "cell_type": "code",
   "execution_count": 3,
   "id": "5cd14d30-ff32-43cb-8c5f-9ac345637a5d",
   "metadata": {},
   "outputs": [
    {
     "name": "stdin",
     "output_type": "stream",
     "text": [
      "Enter the string nityaa\n"
     ]
    },
    {
     "name": "stdout",
     "output_type": "stream",
     "text": [
      "the length of a string is 6\n"
     ]
    }
   ],
   "source": [
    "# 8. Create a program to find the length of a string without using the `len()` function.\n",
    "\n",
    "str1= input(\"Enter the string\")\n",
    "count = 0\n",
    "for i in str1:\n",
    "    count+=1\n",
    "print(\"the length of a string is\", count)"
   ]
  },
  {
   "cell_type": "code",
   "execution_count": 4,
   "id": "a6b31331-af04-4c87-be99-336a41f85cd3",
   "metadata": {},
   "outputs": [
    {
     "name": "stdout",
     "output_type": "stream",
     "text": [
      "the average of a list of numbers in a list 55.0\n"
     ]
    }
   ],
   "source": [
    "# 9. Write a program that calculates the average of a list of numbers using a `for` loop.\n",
    "\n",
    "list1 = [11,22,33,44,55,66,77,88,99]\n",
    "sum=0\n",
    "for i in list1:\n",
    "    sum +=i\n",
    "print(\"the average of a list of numbers in a list\",sum/len(list1))"
   ]
  },
  {
   "cell_type": "code",
   "execution_count": 9,
   "id": "6d531caf-8c82-4439-bd7a-b5004d2c6634",
   "metadata": {},
   "outputs": [
    {
     "name": "stdin",
     "output_type": "stream",
     "text": [
      "Enter a number 10\n"
     ]
    },
    {
     "name": "stdout",
     "output_type": "stream",
     "text": [
      "0 1 1 2 3 5 8 13 21 34 "
     ]
    }
   ],
   "source": [
    "# 10. Develop a program that prints the first `n` Fibonacci numbers using a `for` loop.\n",
    "\n",
    "n = int(input(\"Enter a number\"))\n",
    "a=0\n",
    "b=1\n",
    "print(a,b,end=\" \")\n",
    "for i in range(n-2):\n",
    "        c=a+b\n",
    "        a,b=b,c\n",
    "        print(c,end=\" \")"
   ]
  },
  {
   "cell_type": "code",
   "execution_count": 19,
   "id": "f17f405c-4e77-48aa-ab41-0fc33e375959",
   "metadata": {},
   "outputs": [
    {
     "name": "stdout",
     "output_type": "stream",
     "text": [
      "Contains Duplicates\n"
     ]
    }
   ],
   "source": [
    "# 11. Write a program to check if a given list contains any duplicates using a `for` loop.\n",
    "\n",
    "list1=[11,77,48,27,11,67,93,29]\n",
    "set1= set()\n",
    "for i in list1:\n",
    "    if(i in set1):\n",
    "        print(\"Contains Duplicates\")\n",
    "        break\n",
    "    else:\n",
    "        set1.add(i)\n",
    "else:\n",
    "    print(\"Does Not Contain Duplicates\")"
   ]
  },
  {
   "cell_type": "code",
   "execution_count": 21,
   "id": "f444bdca-4e5e-4550-b8c3-3c7e7a63e0f1",
   "metadata": {},
   "outputs": [
    {
     "name": "stdin",
     "output_type": "stream",
     "text": [
      "Enter a number 20\n"
     ]
    },
    {
     "name": "stdout",
     "output_type": "stream",
     "text": [
      "Prime Number are : [1, 2, 3, 5, 7, 11, 13, 17, 19]\n"
     ]
    }
   ],
   "source": [
    "# 12. Create a program that prints the prime numbers in a given range using a `for` loop.\n",
    "\n",
    "def isPrimeNumber(num):\n",
    "    for i in range(2,num//2+1):\n",
    "        if(num % i == 0):\n",
    "            return False    \n",
    "    else:\n",
    "        return True\n",
    "    \n",
    "primeNumbers=[]\n",
    "n = int(input(\"Enter a number\"))\n",
    "for i in range(1,n+1):\n",
    "    if(isPrimeNumber(i)):\n",
    "        primeNumbers.append(i)\n",
    "print('Prime Number are :',primeNumbers)"
   ]
  },
  {
   "cell_type": "code",
   "execution_count": 22,
   "id": "2f28fdde-dcad-44ac-8a4a-b439912b35ce",
   "metadata": {},
   "outputs": [
    {
     "name": "stdin",
     "output_type": "stream",
     "text": [
      "Enter the string nityaa\n"
     ]
    },
    {
     "name": "stdout",
     "output_type": "stream",
     "text": [
      "the number of vowels in the string is 3\n"
     ]
    }
   ],
   "source": [
    "# 13. Develop a program that counts the number of vowels in a string using a `for` loop.\n",
    "\n",
    "str1= input(\"Enter the string\")\n",
    "vowels= ['a','e','i','o','u','A','E','I','O','U']\n",
    "count=0\n",
    "for i in str1:\n",
    "    if(i in vowels):\n",
    "        count+=1\n",
    "print(\"the number of vowels in the string is\",count)\n",
    "    "
   ]
  },
  {
   "cell_type": "code",
   "execution_count": 26,
   "id": "9af2c5e7-3ee8-4e73-8d49-d1a048b68598",
   "metadata": {},
   "outputs": [
    {
     "name": "stdout",
     "output_type": "stream",
     "text": [
      "96\n"
     ]
    }
   ],
   "source": [
    "# 14. Write a program to find the maximum element in a 2D list using a nested `for` loop.\n",
    "\n",
    "list1 =[[43,56,78],[94,24,85],[23,96,54]]\n",
    "maxNum=0\n",
    "for subList in list1:\n",
    "    for x in subList:\n",
    "        if(x>maxNum):\n",
    "            maxNum=x\n",
    "print(maxNum)"
   ]
  },
  {
   "cell_type": "code",
   "execution_count": 31,
   "id": "f3ab41c5-e83c-4d46-99f7-d71734bbee6a",
   "metadata": {},
   "outputs": [
    {
     "name": "stdout",
     "output_type": "stream",
     "text": [
      "Upddated list is [77, 48, 27, 67, 93, 29]\n"
     ]
    }
   ],
   "source": [
    "# 15. Create a program that removes all occurrences of a specific element from a list using a `for` loop.\n",
    "\n",
    "list1=[11,77,48,27,11,67,93,29]\n",
    "n=11\n",
    "for i in range(list1.count(n)):\n",
    "       list1.remove(n)\n",
    "print(\"Upddated list is\",list1)"
   ]
  },
  {
   "cell_type": "code",
   "execution_count": 32,
   "id": "ddf614b6-b6f9-47cc-b2ea-010462a0305f",
   "metadata": {},
   "outputs": [
    {
     "name": "stdout",
     "output_type": "stream",
     "text": [
      "1 2 3 4 5 6 7 8 9 10 \n",
      "2 4 6 8 10 12 14 16 18 20 \n",
      "3 6 9 12 15 18 21 24 27 30 \n",
      "4 8 12 16 20 24 28 32 36 40 \n",
      "5 10 15 20 25 30 35 40 45 50 \n"
     ]
    }
   ],
   "source": [
    "# 16. Develop a program that generates a multiplication table for numbers from 1 to 5 using a nested `for` loop.\n",
    "\n",
    "for no in range(1,6):\n",
    "    for i in range(1,11):\n",
    "        print(i*no,end=\" \")\n",
    "    print()"
   ]
  },
  {
   "cell_type": "code",
   "execution_count": 35,
   "id": "9ea27099-282a-434d-bfc2-4b600720edc9",
   "metadata": {},
   "outputs": [
    {
     "name": "stdout",
     "output_type": "stream",
     "text": [
      "['51.80', '170.60', '118.40', '80.60', '51.80', '152.60', '199.40', '84.20']\n"
     ]
    }
   ],
   "source": [
    "# 17. Write a program that converts a list of Fahrenheit temperatures to Celsius using a `for` loop.\n",
    "\n",
    "list1=[11,77,48,27,11,67,93,29]\n",
    "fahrenheit=[]\n",
    "for celsius in list1:\n",
    "      fahrenheit.append( format(((celsius * 1.8) + 32),\".2f\"))\n",
    "print(fahrenheit)"
   ]
  },
  {
   "cell_type": "code",
   "execution_count": 36,
   "id": "43fba60c-51ac-41bc-8eb3-4b05c5566255",
   "metadata": {},
   "outputs": [
    {
     "name": "stdout",
     "output_type": "stream",
     "text": [
      "11 77 27 11 29 "
     ]
    }
   ],
   "source": [
    "# 18. Create a program to print the common elements from two lists using a `for` loop.\n",
    "\n",
    "list1=[11,77,48,27,11,67,93,29]\n",
    "list2=[12,77,49,27,11,66,94,29]\n",
    "\n",
    "for i in list1:\n",
    "    if(i in list2):\n",
    "        print(i,end=\" \")\n",
    "\n"
   ]
  },
  {
   "cell_type": "code",
   "execution_count": 39,
   "id": "2976f358-2695-409b-9a97-095b0676f7ab",
   "metadata": {},
   "outputs": [
    {
     "name": "stdin",
     "output_type": "stream",
     "text": [
      "Enter a number 5\n"
     ]
    },
    {
     "name": "stdout",
     "output_type": "stream",
     "text": [
      "* \n",
      "* * \n",
      "* * * \n",
      "* * * * \n",
      "* * * * * \n"
     ]
    }
   ],
   "source": [
    "# 19. Develop a program that prints the pattern of right-angled triangles using a `for` loop. Use ‘*’ to draw the pattern\n",
    " \n",
    "n= int(input(\"Enter a number\"))\n",
    "for i in range(1,n+1):\n",
    "       print(\"* \" * i)"
   ]
  },
  {
   "cell_type": "code",
   "execution_count": 10,
   "id": "a94b5f50-9e51-48a5-8c4f-17ddb8c83606",
   "metadata": {},
   "outputs": [
    {
     "name": "stdin",
     "output_type": "stream",
     "text": [
      "Enter first number 8\n",
      "Enter second Number 6\n"
     ]
    },
    {
     "name": "stdout",
     "output_type": "stream",
     "text": [
      "GCD of 8 nd 6 is 2\n"
     ]
    }
   ],
   "source": [
    "# 20. Write a program to find the greatest common divisor (GCD) of two numbers using a `for` loop.\n",
    "\n",
    "a = int(input(\"Enter first number\"))\n",
    "b = int(input(\"Enter second Number\"))\n",
    "for i in range(min(a,b)//2+1,0,-1):\n",
    "    if(a%i==0 and b%i==0):\n",
    "        print(f\"GCD of {a} nd {b} is\",i)\n",
    "        break"
   ]
  },
  {
   "cell_type": "code",
   "execution_count": 18,
   "id": "35696137-08a5-474a-896f-d59e2526833d",
   "metadata": {},
   "outputs": [
    {
     "name": "stdout",
     "output_type": "stream",
     "text": [
      "the sum of the digits of numbers [5, 7, 9, 11, 13, 5, 6, 9, 8, 13]\n"
     ]
    }
   ],
   "source": [
    "# 21. Create a program that calculates the sum of the digits of numbers in a list using a list comprehension.\n",
    "\n",
    "list1 = [14,25,36,47,58,14,24,36,44,58]\n",
    "res = [sum([int(y) for y in str(x)]) for x in list1]\n",
    "print(\"the sum of the digits of numbers\",res)"
   ]
  },
  {
   "cell_type": "code",
   "execution_count": 27,
   "id": "69af571b-1889-42b1-a3d1-96144fa3b6be",
   "metadata": {},
   "outputs": [
    {
     "name": "stdin",
     "output_type": "stream",
     "text": [
      "Enter a number 6\n"
     ]
    },
    {
     "name": "stdout",
     "output_type": "stream",
     "text": [
      "Prime factors of a given number are  [2, 3]\n"
     ]
    }
   ],
   "source": [
    "# 22. Write a program to find the prime factors of a given number using a `for` loop and list comprehension.\n",
    "\n",
    "def isPrimeNumber(num):\n",
    "    for i in range(2,num//2+1):\n",
    "        if(num % i == 0):\n",
    "            return False    \n",
    "    else:\n",
    "        return True\n",
    "\n",
    "n= int(input(\"Enter a number\"))\n",
    "res = [x for x in range(2,n+1) if n%x==0 and isPrimeNumber(x)]\n",
    "print(\"Prime factors of a given number are \",res)"
   ]
  },
  {
   "cell_type": "code",
   "execution_count": 11,
   "id": "e92df612-46a1-4cb3-824d-aea813fb5b42",
   "metadata": {},
   "outputs": [
    {
     "name": "stdout",
     "output_type": "stream",
     "text": [
      "[25, 47, 24, 44]\n"
     ]
    }
   ],
   "source": [
    "# 23. Develop a program that extracts unique elements from a list and stores them in a new list using a list comprehension.\n",
    "\n",
    "list1 = [14,25,36,47,58,14,24,36,44,58]\n",
    "res = [x for x in list1 if list1.count(x)==1]\n",
    "print(res)"
   ]
  },
  {
   "cell_type": "code",
   "execution_count": 15,
   "id": "cbce7418-7632-4135-843c-f78739478ec9",
   "metadata": {},
   "outputs": [
    {
     "name": "stdin",
     "output_type": "stream",
     "text": [
      "Enter a string 45\n"
     ]
    },
    {
     "name": "stdout",
     "output_type": "stream",
     "text": [
      "[0, 1, 2, 3, 4, 5, 6, 7, 8, 9, 11, 22, 33, 44]\n"
     ]
    }
   ],
   "source": [
    "# 24. Create a program that generates a list of all palindromic numbers up to a specified limit using a list comprehension.\n",
    " \n",
    "n = int(input(\"Enter a string\"))\n",
    "res = [x for x in range(n+1) if str(x) == str(x)[::-1]]\n",
    "print(res)"
   ]
  },
  {
   "cell_type": "code",
   "execution_count": 16,
   "id": "eb808749-54ac-480d-8064-53ec1ab4b279",
   "metadata": {},
   "outputs": [
    {
     "name": "stdout",
     "output_type": "stream",
     "text": [
      "Flatten list is [11, 13, 57, 89, 92, 47, 94, 56, 54]\n"
     ]
    }
   ],
   "source": [
    "# 25. Write a program to flatten a nested list using list comprehension.\n",
    "\n",
    "list1 = [[11, 13, 57], [89, 92, 47], [94, 56,54]]\n",
    "result = [ y for x in list1 for y in x ]\n",
    "print('Flatten list is', result)"
   ]
  },
  {
   "cell_type": "code",
   "execution_count": 26,
   "id": "61e82ad7-3b7f-456f-8dc6-c962077ff4fa",
   "metadata": {},
   "outputs": [
    {
     "name": "stdout",
     "output_type": "stream",
     "text": [
      "sum of even numbers are 284\n",
      "sum of odd numbers are 72\n"
     ]
    }
   ],
   "source": [
    "# 26. Develop a program that computes the sum of even and odd numbers in a list separately using list comprehension.\n",
    "\n",
    "list1 = [14,25,36,47,58,14,24,36,44,58]\n",
    "\n",
    "even = [x for x in list1 if x%2==0 ]\n",
    "odd = [x for x in list1 if x%2!=0 ]\n",
    "\n",
    "\n",
    "print(f\"sum of even numbers are {sum(even)}\")\n",
    "print(f\"sum of odd numbers are {sum(odd)}\")"
   ]
  },
  {
   "cell_type": "code",
   "execution_count": 27,
   "id": "ccb82e55-c257-4282-a174-70aa233a2770",
   "metadata": {},
   "outputs": [
    {
     "name": "stdout",
     "output_type": "stream",
     "text": [
      "[1, 4, 9, 16, 25, 36, 49, 64, 81, 100]\n"
     ]
    }
   ],
   "source": [
    "# 27. Create a program that generates a list of squares of odd numbers between 1 and 10 using list comprehension.\n",
    "\n",
    "print([x*x for x in range(1,11)])"
   ]
  },
  {
   "cell_type": "code",
   "execution_count": 1,
   "id": "ed15f824-477c-4d56-af41-33b05bd6eec9",
   "metadata": {},
   "outputs": [
    {
     "data": {
      "text/plain": [
       "{11: 1, 22: 2, 33: 3, 44: 4, 55: 5}"
      ]
     },
     "execution_count": 1,
     "metadata": {},
     "output_type": "execute_result"
    }
   ],
   "source": [
    "# 28. Write a program that combines two lists into a dictionary using list comprehension.\n",
    "\n",
    "list1= [11,22,33,44,55]\n",
    "list2=[1,2,3,4,5]\n",
    "dict1 = {list1[i]:list2[i] for i in range(len(list1))}\n",
    "dict1"
   ]
  },
  {
   "cell_type": "code",
   "execution_count": 28,
   "id": "51043727-ed5b-4312-9f2d-3618684c76b8",
   "metadata": {},
   "outputs": [
    {
     "name": "stdin",
     "output_type": "stream",
     "text": [
      "enter a string nityaa\n"
     ]
    },
    {
     "name": "stdout",
     "output_type": "stream",
     "text": [
      "['i', 'a', 'a']\n"
     ]
    }
   ],
   "source": [
    "# 29. Develop a program that extracts the vowels from a string and stores them in a list using list comprehension.\n",
    "\n",
    "str1 = input(\"enter a string\")\n",
    "vowels = [x for x in str1 if x in ['a','e','i','o','u','A','E','I','O','U']]\n",
    "print(vowels)"
   ]
  },
  {
   "cell_type": "code",
   "execution_count": 30,
   "id": "1d7fbe71-8012-44d0-ac13-81386c2c0fbc",
   "metadata": {},
   "outputs": [
    {
     "name": "stdin",
     "output_type": "stream",
     "text": [
      "enter a string nitya1802\n"
     ]
    },
    {
     "name": "stdout",
     "output_type": "stream",
     "text": [
      "1802\n"
     ]
    }
   ],
   "source": [
    "# 30. Create a program that removes all non-numeric characters from a list of strings using list comprehension.\n",
    "\n",
    "str1 = input(\"enter a string\")\n",
    "str1 = \"\".join([x for x in str1 if x.isdigit()])\n",
    "print(str1)"
   ]
  },
  {
   "cell_type": "code",
   "execution_count": null,
   "id": "f7c7425e-41d1-4015-b4c4-bdc46398c55d",
   "metadata": {},
   "outputs": [],
   "source": [
    "# 31. Write a program to generate a list of prime numbers using the Sieve of Eratosthenes algorithm and list comprehension.\n",
    "\n",
    "def findPrimes(n):\n",
    "\n",
    "  primes = [True] * (n + 1) \n",
    "  primes[0] = primes[1] = False  # Mark 0 and 1 as non-prime\n",
    "\n",
    "  for p in range(2, int(n**0.5) + 1):\n",
    "    # If p is prime, mark its multiples as non-prime\n",
    "    if primes[p]:\n",
    "      for i in range(p * p, n + 1, p):\n",
    "        primes[i] = False\n",
    "\n",
    "  return [i for i, is_prime in enumerate(primes) if is_prime]\n",
    "\n",
    "# Example usage\n",
    "n = 100\n",
    "primes = findPrimes(n)\n",
    "\n",
    "print(\"Prime numbers up to\", n, \":\", primes)"
   ]
  },
  {
   "cell_type": "code",
   "execution_count": 1,
   "id": "08a452c1-def0-44ba-8393-ba9464174704",
   "metadata": {},
   "outputs": [
    {
     "name": "stdin",
     "output_type": "stream",
     "text": [
      " 10\n"
     ]
    },
    {
     "data": {
      "text/plain": [
       "[(3, 4, 5), (6, 8, 10)]"
      ]
     },
     "execution_count": 1,
     "metadata": {},
     "output_type": "execute_result"
    }
   ],
   "source": [
    "# 32. Create a program that generates a list of all Pythagorean triplets up to a specified limit using list comprehension.\n",
    "\n",
    "limit= int(input())\n",
    "triplets = [(a, b, c) for a in range(1, limit + 1) for b in range(a, limit + 1) for c in range(b, limit + 1) if a**2 + b**2 == c**2]\n",
    "triplets"
   ]
  },
  {
   "cell_type": "code",
   "execution_count": 7,
   "id": "66a6c930-86f4-4f3a-8372-0ce87ebcb3c7",
   "metadata": {},
   "outputs": [
    {
     "name": "stdout",
     "output_type": "stream",
     "text": [
      "[(1, 6), (1, 7), (1, 8), (1, 9), (1, 0), (2, 6), (2, 7), (2, 8), (2, 9), (2, 0), (3, 6), (3, 7), (3, 8), (3, 9), (3, 0), (4, 6), (4, 7), (4, 8), (4, 9), (4, 0), (5, 6), (5, 7), (5, 8), (5, 9), (5, 0)]\n"
     ]
    }
   ],
   "source": [
    "# 33. Develop a program that generates a list of all possible combinations of two lists using list comprehension.\n",
    "\n",
    "list1= [1,2,3,4,5]\n",
    "list2= [6,7,8,9,0]\n",
    "res = [(x,y) for x in list1 for y in list2]\n",
    "print(res)"
   ]
  },
  {
   "cell_type": "code",
   "execution_count": 3,
   "id": "5823fba0-fc55-440d-99bc-c7018f24ba78",
   "metadata": {},
   "outputs": [
    {
     "name": "stdin",
     "output_type": "stream",
     "text": [
      "enter a number 5\n"
     ]
    },
    {
     "name": "stdout",
     "output_type": "stream",
     "text": [
      "[1]\n",
      "[1, 1]\n",
      "[1, 2, 1]\n",
      "[1, 3, 3, 1]\n",
      "[1, 4, 6, 4, 1]\n"
     ]
    }
   ],
   "source": [
    "# 35. Create a program that generates Pascal's triangle up to a specified number of rows using list comprehension.\n",
    "\n",
    "n = int(input(\"enter a number\"))\n",
    "res= [[1]]\n",
    "for i in range(n-1):\n",
    "    res.append([1] + [res[-1][i]+ res[-1][i+1] for i in range(len(res[-1])-1)] + [1])\n",
    "for sublist in res:\n",
    "    print(sublist)"
   ]
  },
  {
   "cell_type": "code",
   "execution_count": 29,
   "id": "e84a36b1-2537-4bca-9f23-c4de57fcf26f",
   "metadata": {},
   "outputs": [
    {
     "name": "stdout",
     "output_type": "stream",
     "text": [
      "[1, 2, 6, 6, 3]\n"
     ]
    }
   ],
   "source": [
    "# 36. Develop a program that calculates the sum of the digits of a factorial of numbers from 1 to 5 using list comprehension.\n",
    "\n",
    "def factorial(n):\n",
    "    prod = 1\n",
    "    while n!=1:\n",
    "        prod*=n\n",
    "        n-=1\n",
    "    return prod\n",
    "\n",
    "res = [sum(int(y) for y in str(factorial(n))) for n in range(1,6)]\n",
    "print(res)"
   ]
  },
  {
   "cell_type": "code",
   "execution_count": 33,
   "id": "6687598b-3acc-4654-9903-f8f3c9be4bc9",
   "metadata": {},
   "outputs": [
    {
     "name": "stdin",
     "output_type": "stream",
     "text": [
      "Enter a string hi my name is nityaa\n"
     ]
    },
    {
     "name": "stdout",
     "output_type": "stream",
     "text": [
      "nityaa\n"
     ]
    }
   ],
   "source": [
    "# 37. Write a program that finds the longest word in a sentence using list comprehension.\n",
    "\n",
    "str1 = input(\"Enter a string\")\n",
    "res = [x for x in str1.split() if x == max(str1.split(),key=len)]\n",
    "print(res[0])"
   ]
  },
  {
   "cell_type": "code",
   "execution_count": 36,
   "id": "33b0d56e-ba2e-4ae7-a3b7-8979e2e474d1",
   "metadata": {},
   "outputs": [
    {
     "name": "stdout",
     "output_type": "stream",
     "text": [
      "Mean is  35.6\n",
      "Median is 36.0\n",
      "Mode is [36, 14, 58]\n"
     ]
    }
   ],
   "source": [
    "# 34. Write a program that calculates the mean, median, and mode of a list of numbers using list comprehension.\n",
    "\n",
    "list1 = [14,25,36,47,58,14,24,36,44,58]\n",
    "list1.sort()\n",
    "n= len(list1)\n",
    "mean = sum(list1)/n\n",
    "median = list1[(n+1) // 2] if n%2 != 0 else ((list1[n//2]+list1[(n+1)//2])/2)\n",
    "mode = [p for p in set(list1) if list1.count(p) == max([list1.count(x) for x in list1])]\n",
    "print(\"Mean is \",mean) \n",
    "print(\"Median is\",median)\n",
    "print(\"Mode is\",mode)"
   ]
  },
  {
   "cell_type": "code",
   "execution_count": null,
   "id": "b4e4ab85-20e0-4106-b0ae-4f22e86881e6",
   "metadata": {},
   "outputs": [],
   "source": [
    "# 38. Create a program that filters a list of strings to include only those with more than three vowels using list comprehension.\n",
    "\n",
    "str1 = input(\"Enter list elements seperated by space\")\n",
    "list1 = str1.split()\n",
    "# res = [x for x in list1 if len([y for y in x if y in 'aeiouAEIOU'])>3]\n",
    "res = [len([y for y in x if y in 'aeiouAEIOU']) for x in list1]\n",
    "\n",
    "print(res)"
   ]
  },
  {
   "cell_type": "code",
   "execution_count": 32,
   "id": "edf4eacc-cc16-4a33-b131-a489996db6eb",
   "metadata": {},
   "outputs": [
    {
     "name": "stdout",
     "output_type": "stream",
     "text": [
      "the sum of the digits of numbers from 1 to 1000 [1, 2, 3, 4, 5, 6, 7, 8, 9, 1, 2, 3, 4, 5, 6, 7, 8, 9, 10, 2, 3, 4, 5, 6, 7, 8, 9, 10, 11, 3, 4, 5, 6, 7, 8, 9, 10, 11, 12, 4, 5, 6, 7, 8, 9, 10, 11, 12, 13, 5, 6, 7, 8, 9, 10, 11, 12, 13, 14, 6, 7, 8, 9, 10, 11, 12, 13, 14, 15, 7, 8, 9, 10, 11, 12, 13, 14, 15, 16, 8, 9, 10, 11, 12, 13, 14, 15, 16, 17, 9, 10, 11, 12, 13, 14, 15, 16, 17, 18, 1, 2, 3, 4, 5, 6, 7, 8, 9, 10, 2, 3, 4, 5, 6, 7, 8, 9, 10, 11, 3, 4, 5, 6, 7, 8, 9, 10, 11, 12, 4, 5, 6, 7, 8, 9, 10, 11, 12, 13, 5, 6, 7, 8, 9, 10, 11, 12, 13, 14, 6, 7, 8, 9, 10, 11, 12, 13, 14, 15, 7, 8, 9, 10, 11, 12, 13, 14, 15, 16, 8, 9, 10, 11, 12, 13, 14, 15, 16, 17, 9, 10, 11, 12, 13, 14, 15, 16, 17, 18, 10, 11, 12, 13, 14, 15, 16, 17, 18, 19, 2, 3, 4, 5, 6, 7, 8, 9, 10, 11, 3, 4, 5, 6, 7, 8, 9, 10, 11, 12, 4, 5, 6, 7, 8, 9, 10, 11, 12, 13, 5, 6, 7, 8, 9, 10, 11, 12, 13, 14, 6, 7, 8, 9, 10, 11, 12, 13, 14, 15, 7, 8, 9, 10, 11, 12, 13, 14, 15, 16, 8, 9, 10, 11, 12, 13, 14, 15, 16, 17, 9, 10, 11, 12, 13, 14, 15, 16, 17, 18, 10, 11, 12, 13, 14, 15, 16, 17, 18, 19, 11, 12, 13, 14, 15, 16, 17, 18, 19, 20, 3, 4, 5, 6, 7, 8, 9, 10, 11, 12, 4, 5, 6, 7, 8, 9, 10, 11, 12, 13, 5, 6, 7, 8, 9, 10, 11, 12, 13, 14, 6, 7, 8, 9, 10, 11, 12, 13, 14, 15, 7, 8, 9, 10, 11, 12, 13, 14, 15, 16, 8, 9, 10, 11, 12, 13, 14, 15, 16, 17, 9, 10, 11, 12, 13, 14, 15, 16, 17, 18, 10, 11, 12, 13, 14, 15, 16, 17, 18, 19, 11, 12, 13, 14, 15, 16, 17, 18, 19, 20, 12, 13, 14, 15, 16, 17, 18, 19, 20, 21, 4, 5, 6, 7, 8, 9, 10, 11, 12, 13, 5, 6, 7, 8, 9, 10, 11, 12, 13, 14, 6, 7, 8, 9, 10, 11, 12, 13, 14, 15, 7, 8, 9, 10, 11, 12, 13, 14, 15, 16, 8, 9, 10, 11, 12, 13, 14, 15, 16, 17, 9, 10, 11, 12, 13, 14, 15, 16, 17, 18, 10, 11, 12, 13, 14, 15, 16, 17, 18, 19, 11, 12, 13, 14, 15, 16, 17, 18, 19, 20, 12, 13, 14, 15, 16, 17, 18, 19, 20, 21, 13, 14, 15, 16, 17, 18, 19, 20, 21, 22, 5, 6, 7, 8, 9, 10, 11, 12, 13, 14, 6, 7, 8, 9, 10, 11, 12, 13, 14, 15, 7, 8, 9, 10, 11, 12, 13, 14, 15, 16, 8, 9, 10, 11, 12, 13, 14, 15, 16, 17, 9, 10, 11, 12, 13, 14, 15, 16, 17, 18, 10, 11, 12, 13, 14, 15, 16, 17, 18, 19, 11, 12, 13, 14, 15, 16, 17, 18, 19, 20, 12, 13, 14, 15, 16, 17, 18, 19, 20, 21, 13, 14, 15, 16, 17, 18, 19, 20, 21, 22, 14, 15, 16, 17, 18, 19, 20, 21, 22, 23, 6, 7, 8, 9, 10, 11, 12, 13, 14, 15, 7, 8, 9, 10, 11, 12, 13, 14, 15, 16, 8, 9, 10, 11, 12, 13, 14, 15, 16, 17, 9, 10, 11, 12, 13, 14, 15, 16, 17, 18, 10, 11, 12, 13, 14, 15, 16, 17, 18, 19, 11, 12, 13, 14, 15, 16, 17, 18, 19, 20, 12, 13, 14, 15, 16, 17, 18, 19, 20, 21, 13, 14, 15, 16, 17, 18, 19, 20, 21, 22, 14, 15, 16, 17, 18, 19, 20, 21, 22, 23, 15, 16, 17, 18, 19, 20, 21, 22, 23, 24, 7, 8, 9, 10, 11, 12, 13, 14, 15, 16, 8, 9, 10, 11, 12, 13, 14, 15, 16, 17, 9, 10, 11, 12, 13, 14, 15, 16, 17, 18, 10, 11, 12, 13, 14, 15, 16, 17, 18, 19, 11, 12, 13, 14, 15, 16, 17, 18, 19, 20, 12, 13, 14, 15, 16, 17, 18, 19, 20, 21, 13, 14, 15, 16, 17, 18, 19, 20, 21, 22, 14, 15, 16, 17, 18, 19, 20, 21, 22, 23, 15, 16, 17, 18, 19, 20, 21, 22, 23, 24, 16, 17, 18, 19, 20, 21, 22, 23, 24, 25, 8, 9, 10, 11, 12, 13, 14, 15, 16, 17, 9, 10, 11, 12, 13, 14, 15, 16, 17, 18, 10, 11, 12, 13, 14, 15, 16, 17, 18, 19, 11, 12, 13, 14, 15, 16, 17, 18, 19, 20, 12, 13, 14, 15, 16, 17, 18, 19, 20, 21, 13, 14, 15, 16, 17, 18, 19, 20, 21, 22, 14, 15, 16, 17, 18, 19, 20, 21, 22, 23, 15, 16, 17, 18, 19, 20, 21, 22, 23, 24, 16, 17, 18, 19, 20, 21, 22, 23, 24, 25, 17, 18, 19, 20, 21, 22, 23, 24, 25, 26, 9, 10, 11, 12, 13, 14, 15, 16, 17, 18, 10, 11, 12, 13, 14, 15, 16, 17, 18, 19, 11, 12, 13, 14, 15, 16, 17, 18, 19, 20, 12, 13, 14, 15, 16, 17, 18, 19, 20, 21, 13, 14, 15, 16, 17, 18, 19, 20, 21, 22, 14, 15, 16, 17, 18, 19, 20, 21, 22, 23, 15, 16, 17, 18, 19, 20, 21, 22, 23, 24, 16, 17, 18, 19, 20, 21, 22, 23, 24, 25, 17, 18, 19, 20, 21, 22, 23, 24, 25, 26, 18, 19, 20, 21, 22, 23, 24, 25, 26, 27, 1]\n"
     ]
    }
   ],
   "source": [
    "# 39. Develop a program that calculates the sum of the digits of numbers from 1 to 1000 using list comprehension.\n",
    "\n",
    "res = [sum([int(y) for y in str(x)]) for x in range(1,1001)]\n",
    "print(\"the sum of the digits of numbers from 1 to 1000\",res)"
   ]
  },
  {
   "cell_type": "code",
   "execution_count": 3,
   "id": "ff1147f9-68bb-4186-91c9-61effc488dd2",
   "metadata": {},
   "outputs": [
    {
     "name": "stdin",
     "output_type": "stream",
     "text": [
      "Enter a number 10000\n"
     ]
    },
    {
     "name": "stdout",
     "output_type": "stream",
     "text": [
      "[0, 1, 2, 3, 5, 7, 11, 101, 131, 151, 181, 191, 313, 353, 373, 383, 727, 757, 787, 797, 919, 929]\n"
     ]
    }
   ],
   "source": [
    "# 40. Write a program that generates a list of prime palindromic numbers using list comprehension.\n",
    "\n",
    "def isPrimeNumber(num):\n",
    "    for i in range(2,num//2+1):\n",
    "        if(num % i == 0):\n",
    "            return False    \n",
    "    else:\n",
    "        return True\n",
    "\n",
    "n= int(input(\"Enter a number\"))\n",
    "res = [x for x in range(n+1) if str(x) == str(x)[::-1] and isPrimeNumber(x)]\n",
    "print(res)"
   ]
  }
 ],
 "metadata": {
  "kernelspec": {
   "display_name": "Python 3 (ipykernel)",
   "language": "python",
   "name": "python3"
  },
  "language_info": {
   "codemirror_mode": {
    "name": "ipython",
    "version": 3
   },
   "file_extension": ".py",
   "mimetype": "text/x-python",
   "name": "python",
   "nbconvert_exporter": "python",
   "pygments_lexer": "ipython3",
   "version": "3.10.8"
  }
 },
 "nbformat": 4,
 "nbformat_minor": 5
}
