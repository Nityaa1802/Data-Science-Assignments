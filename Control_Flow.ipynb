{
 "cells": [
  {
   "cell_type": "code",
   "execution_count": 1,
   "id": "1a6d1842-394b-4e6b-a80e-c845bda3018b",
   "metadata": {},
   "outputs": [
    {
     "name": "stdin",
     "output_type": "stream",
     "text": [
      "enter a number 10\n"
     ]
    },
    {
     "name": "stdout",
     "output_type": "stream",
     "text": [
      "Number is positive\n"
     ]
    }
   ],
   "source": [
    "# 1. Write a Python program to check if a given number is positive or negative.\n",
    "\n",
    "n = int(input(\"enter a number other than 0\"))\n",
    "if n<0:\n",
    "    print(\"Number is negative\")\n",
    "else:\n",
    "    print(\"Number is positive\")"
   ]
  },
  {
   "cell_type": "code",
   "execution_count": 5,
   "id": "98ec7617-8c13-4a59-833f-f952c93b0f32",
   "metadata": {},
   "outputs": [
    {
     "name": "stdin",
     "output_type": "stream",
     "text": [
      "enter age 22\n"
     ]
    },
    {
     "name": "stdout",
     "output_type": "stream",
     "text": [
      "Eligible to vote\n"
     ]
    }
   ],
   "source": [
    "# 2. Create a program that determines if a person is eligible to vote based on their age.\n",
    "\n",
    "age = int(input(\"enter age\"))\n",
    "if age<18:\n",
    "    print(\"Not eligible to vote\")\n",
    "else:\n",
    "    print(\"Eligible to vote\")"
   ]
  },
  {
   "cell_type": "code",
   "execution_count": 6,
   "id": "5e86982b-6369-4ec0-afe3-c7105272aead",
   "metadata": {},
   "outputs": [
    {
     "name": "stdin",
     "output_type": "stream",
     "text": [
      "enter first number 48\n",
      "enter second number 66\n"
     ]
    },
    {
     "name": "stdout",
     "output_type": "stream",
     "text": [
      "Second Number is greator\n"
     ]
    }
   ],
   "source": [
    "# 3. Develop a program to find the maximum of two numbers using if-else statements.\n",
    "\n",
    "n1 = int(input(\"enter first number\"))\n",
    "n2 = int(input(\"enter second number\"))\n",
    "if n1>n2:\n",
    "    print(\"First Number is greator\")\n",
    "elif n2>n1:\n",
    "    print(\"Second Number is greator\")\n",
    "else:\n",
    "    print(\"Both are equal\")"
   ]
  },
  {
   "cell_type": "code",
   "execution_count": 9,
   "id": "4c8524f1-cc13-4151-8498-524405b7e575",
   "metadata": {},
   "outputs": [
    {
     "name": "stdin",
     "output_type": "stream",
     "text": [
      "enter a year 1900\n"
     ]
    },
    {
     "name": "stdout",
     "output_type": "stream",
     "text": [
      "It is not a leap year\n"
     ]
    }
   ],
   "source": [
    "# 4. Write a Python script to classify a given year as a leap year or not.\n",
    "\n",
    "year = int(input(\"enter a year\"))\n",
    "if (year%4==0 and year%100!=0) or year%400==0:\n",
    "    print(\"It is a leap year\")\n",
    "else:\n",
    "    print(\"It is not a leap year\")"
   ]
  },
  {
   "cell_type": "code",
   "execution_count": 12,
   "id": "3dbfbe0a-d998-41e5-b8e5-b4ff6750a44f",
   "metadata": {},
   "outputs": [
    {
     "name": "stdin",
     "output_type": "stream",
     "text": [
      "Enter a character A\n"
     ]
    },
    {
     "name": "stdout",
     "output_type": "stream",
     "text": [
      "Its a vowel\n"
     ]
    }
   ],
   "source": [
    "# 5. Create a program that checks whether a character is a vowel or a consonant.\n",
    "\n",
    "char = input(\"Enter a character\")\n",
    "vowels= ['a','e','i','o','u','A','E','I','O','U']\n",
    "if char in vowels:\n",
    "    print(\"Its a vowel\")\n",
    "else:\n",
    "    print(\"Its a consonant\")"
   ]
  },
  {
   "cell_type": "code",
   "execution_count": 13,
   "id": "b9830b2a-7ed4-4108-8b26-4d0daca20483",
   "metadata": {},
   "outputs": [
    {
     "name": "stdin",
     "output_type": "stream",
     "text": [
      "enter a number 44\n"
     ]
    },
    {
     "name": "stdout",
     "output_type": "stream",
     "text": [
      "even Number\n"
     ]
    }
   ],
   "source": [
    "# 6. Implement a program to determine whether a given number is even or odd.\n",
    "\n",
    "n = int(input(\"enter a number\"))\n",
    "if n%2==0:\n",
    "    print(\"even Number\")\n",
    "else:\n",
    "    print(\"Odd number\")"
   ]
  },
  {
   "cell_type": "code",
   "execution_count": 16,
   "id": "7492eb6f-be06-4a49-b831-8b20dd4f60c1",
   "metadata": {},
   "outputs": [
    {
     "name": "stdin",
     "output_type": "stream",
     "text": [
      "enter a number -44\n"
     ]
    },
    {
     "name": "stdout",
     "output_type": "stream",
     "text": [
      "44\n"
     ]
    }
   ],
   "source": [
    "# 7. Write a Python function to calculate the absolute value of a number without using the `abs()` function.\n",
    "\n",
    "n = int(input(\"enter a number\"))\n",
    "if n<0:\n",
    "    print(n-2*n)\n",
    "else:\n",
    "    print(n)"
   ]
  },
  {
   "cell_type": "code",
   "execution_count": 17,
   "id": "67657310-fade-4bda-a551-3a85be86950e",
   "metadata": {},
   "outputs": [
    {
     "name": "stdin",
     "output_type": "stream",
     "text": [
      "enter first number 44\n",
      "enter second number 32\n",
      "enter third number 66\n"
     ]
    },
    {
     "name": "stdout",
     "output_type": "stream",
     "text": [
      "66 is largest among 44,32,66\n"
     ]
    }
   ],
   "source": [
    "# 8. Develop a program that determines the largest of three given numbers using if-else statements.\n",
    "\n",
    "n1 = int(input(\"enter first number\"))\n",
    "n2 = int(input(\"enter second number\"))\n",
    "n3 = int(input(\"enter third number\"))\n",
    "if n1>n2 and n1>n3:\n",
    "    print(f\"{n1} is largest among {n1},{n2},{n3}\")\n",
    "elif n2>n1 and n2>n3:\n",
    "    print(f\"{n2} is largest among {n1},{n2},{n3}\")\n",
    "else:\n",
    "    print(f\"{n3} is largest among {n1},{n2},{n3}\")"
   ]
  },
  {
   "cell_type": "code",
   "execution_count": 18,
   "id": "7a003240-8be9-41d6-ade6-1fc961bd2ff7",
   "metadata": {},
   "outputs": [
    {
     "name": "stdin",
     "output_type": "stream",
     "text": [
      "Enter a string parap\n"
     ]
    },
    {
     "name": "stdout",
     "output_type": "stream",
     "text": [
      "It is a pallidrome string\n"
     ]
    }
   ],
   "source": [
    "# 9. Create a program that checks if a given string is a palindrome.\n",
    "\n",
    "str1 = input(\"Enter a string\")\n",
    "if(str1 == str1[::-1]):\n",
    "    print(\"It is a pallidrome string\")\n",
    "else:\n",
    "    print(\"It is not a pallidrome string\")"
   ]
  },
  {
   "cell_type": "code",
   "execution_count": 19,
   "id": "98b355df-489e-4362-9262-5052ac1f0147",
   "metadata": {},
   "outputs": [
    {
     "name": "stdin",
     "output_type": "stream",
     "text": [
      "enter score 76\n"
     ]
    },
    {
     "name": "stdout",
     "output_type": "stream",
     "text": [
      "C Grade\n"
     ]
    }
   ],
   "source": [
    "# 10. Write a Python program to calculate the grade based on a student's score.\n",
    "\n",
    "score = int(input(\"enter score\"))\n",
    "\n",
    "if score >= 90:\n",
    "    print(\"A Grade\")\n",
    "elif score >= 80:\n",
    "    print(\"B Grade\")\n",
    "elif score >= 75:\n",
    "    print(\"C Grade\")\n",
    "elif score >= 55:\n",
    "    print(\"D Grade\")\n",
    "elif score >= 40:\n",
    "    print(\"E Grade\")\n",
    "else:\n",
    "    print(\"F Grade\")"
   ]
  },
  {
   "cell_type": "code",
   "execution_count": 23,
   "id": "7e06f90b-82b6-45d9-9b86-afc32bdd2b80",
   "metadata": {},
   "outputs": [
    {
     "name": "stdin",
     "output_type": "stream",
     "text": [
      "enter first number 54\n",
      "enter second number 78\n",
      "enter third number 23\n"
     ]
    },
    {
     "name": "stdout",
     "output_type": "stream",
     "text": [
      "78 is largest among 54,78,23\n"
     ]
    }
   ],
   "source": [
    "# 11. Write a program to find the largest among three numbers using nested if-else statements.\n",
    "\n",
    "n1 = int(input(\"enter first number\"))\n",
    "n2 = int(input(\"enter second number\"))\n",
    "n3 = int(input(\"enter third number\"))\n",
    "if n1>n2:\n",
    "    if n1>n3:\n",
    "        print(f\"{n1} is largest among {n1},{n2},{n3}\")\n",
    "    else:\n",
    "        print(f\"{n3} is largest among {n1},{n2},{n3}\")\n",
    "else:\n",
    "    if n2>n3:\n",
    "        print(f\"{n2} is largest among {n1},{n2},{n3}\")\n",
    "    else:\n",
    "        print(f\"{n3} is largest among {n1},{n2},{n3}\")"
   ]
  },
  {
   "cell_type": "code",
   "execution_count": 24,
   "id": "f4933cf7-e2dd-471a-a101-3ef7ebe69406",
   "metadata": {},
   "outputs": [
    {
     "name": "stdin",
     "output_type": "stream",
     "text": [
      "enter first side 23\n",
      "enter second side 34\n",
      "enter third side 23\n"
     ]
    },
    {
     "name": "stdout",
     "output_type": "stream",
     "text": [
      "triangle is isosceles\n"
     ]
    }
   ],
   "source": [
    "# 12. Implement a program to determine if a triangle is equilateral, isosceles, or scalene.\n",
    "\n",
    "n1 = int(input(\"enter first side\"))\n",
    "n2 = int(input(\"enter second side\"))\n",
    "n3 = int(input(\"enter third side\"))\n",
    "if n1==n2==n3:\n",
    "    print(\"triangle is equilateral\")\n",
    "elif n2==n1 or n2==n3 or n1==n3:\n",
    "    print(\"triangle is isosceles\")\n",
    "else:\n",
    "    print(\"triangle is scalene\")"
   ]
  },
  {
   "cell_type": "code",
   "execution_count": 29,
   "id": "2d0b9bd3-22e6-408d-a36e-df48301f563e",
   "metadata": {},
   "outputs": [
    {
     "name": "stdin",
     "output_type": "stream",
     "text": [
      "enter a year 2000\n"
     ]
    },
    {
     "name": "stdout",
     "output_type": "stream",
     "text": [
      "It is  a leap year and a century year\n"
     ]
    }
   ],
   "source": [
    "# 13. Develop a program that checks if a year is a leap year and also if it is a century year.\n",
    "\n",
    "year = int(input(\"enter a year\"))\n",
    "if year%400==0:\n",
    "    print(\"It is  a leap year and a century year\")\n",
    "elif year%4==0:\n",
    "    if year%100!=0:\n",
    "        print(\"It is a leap year\")\n",
    "    else:\n",
    "        print(\"It is a century year\")"
   ]
  },
  {
   "cell_type": "code",
   "execution_count": null,
   "id": "ccb374ea-70f9-4091-896e-fc7c08b8682b",
   "metadata": {},
   "outputs": [],
   "source": [
    "# 14 Write a Python script to determine if a number is positive, negative, or zero.\n",
    "\n",
    "n = int(input(\"enter a number\"))\n",
    "if n<0:\n",
    "    print(\"Number is negative\")\n",
    "elif n>0:\n",
    "    print(\"Number is positive\")\n",
    "else:\n",
    "    print(\"Its a O\")"
   ]
  },
  {
   "cell_type": "code",
   "execution_count": 30,
   "id": "7d22b375-76eb-41f9-95ca-302baa3049d9",
   "metadata": {},
   "outputs": [
    {
     "name": "stdin",
     "output_type": "stream",
     "text": [
      "enter age 16\n"
     ]
    },
    {
     "name": "stdout",
     "output_type": "stream",
     "text": [
      "Teenager\n"
     ]
    }
   ],
   "source": [
    "# 15. Create a program to check if a person is a teenager (between 13 and 19 years old).\n",
    "\n",
    "age = int(input(\"enter age\"))\n",
    "if 19>age>13:\n",
    "    print(\"Teenager\")\n",
    "else:\n",
    "    print(\"Not a teenange\")"
   ]
  },
  {
   "cell_type": "code",
   "execution_count": 32,
   "id": "c14d4135-258e-4cac-b194-ee81c11a8dac",
   "metadata": {},
   "outputs": [
    {
     "name": "stdin",
     "output_type": "stream",
     "text": [
      "enter a angle in degree 76\n"
     ]
    },
    {
     "name": "stdout",
     "output_type": "stream",
     "text": [
      "It is a obtuse angle\n"
     ]
    }
   ],
   "source": [
    "# 16. Develop a program that determines the type of angle based on its measure (acute, obtuse, or right).\n",
    "\n",
    "angle = int(input(\"enter a angle in degree\"))\n",
    "if angle ==90:\n",
    "    print ('It is a right angle')\n",
    "elif angle >60:\n",
    "    print ('It is a obtuse angle')\n",
    "else:\n",
    "    print ('it is a acute angle')"
   ]
  },
  {
   "cell_type": "code",
   "execution_count": 3,
   "id": "ecfffd0d-cc14-4f32-902b-b9bf99d59856",
   "metadata": {},
   "outputs": [
    {
     "name": "stdin",
     "output_type": "stream",
     "text": [
      "enter coffiecient of x^2 3\n",
      "enter coffiecient of x^1 4\n",
      "enter coffiecient of x^0 2\n"
     ]
    },
    {
     "name": "stdout",
     "output_type": "stream",
     "text": [
      "Roots are complex (not real)\n"
     ]
    }
   ],
   "source": [
    "# 17. Write a Python program to calculate the roots of a quadratic equation.\n",
    "\n",
    "a = int(input(\"enter coffiecient of x^2\"))\n",
    "b = int(input(\"enter coffiecient of x^1\"))\n",
    "c = int(input(\"enter coffiecient of x^0\"))\n",
    "\n",
    "if  (b*b > 4*a*c):\n",
    "    print(\"Roots are real and different\")\n",
    "elif (b*b < 4*a*c):\n",
    "    print(\"Roots are complex (not real)\")\n",
    "else:\n",
    "    print(\"Roots are real and equal\")"
   ]
  },
  {
   "cell_type": "code",
   "execution_count": 1,
   "id": "ff6c03eb-1cfc-4a21-8d73-f1c9a73e2b08",
   "metadata": {},
   "outputs": [
    {
     "name": "stdin",
     "output_type": "stream",
     "text": [
      "enter a day 5\n"
     ]
    },
    {
     "name": "stdout",
     "output_type": "stream",
     "text": [
      "Friday\n"
     ]
    }
   ],
   "source": [
    "# 18. Implement a program to determine the day of the week based on a user-provided number\n",
    "# (1 for Monday, 2 for Tuesday, etc.).\n",
    "\n",
    "day = int(input(\"enter a day\"))\n",
    "if day ==1:\n",
    "    print ('Monday')\n",
    "elif day ==2:\n",
    "    print ('Tuesday')\n",
    "elif day ==3:\n",
    "    print ('Wednesday')\n",
    "elif day ==4:\n",
    "    print ('Thursday')\n",
    "elif day ==5:\n",
    "    print ('Friday')\n",
    "elif day ==6:\n",
    "    print ('Saturday')\n",
    "else:\n",
    "    print ('Sunday')"
   ]
  },
  {
   "cell_type": "code",
   "execution_count": 33,
   "id": "bf206898-9ea7-4263-a5e0-b48c3a5b7e1f",
   "metadata": {},
   "outputs": [
    {
     "name": "stdin",
     "output_type": "stream",
     "text": [
      "enter a year 2000\n"
     ]
    },
    {
     "name": "stdout",
     "output_type": "stream",
     "text": [
      "It is a leap year and evenly divided by 400\n"
     ]
    }
   ],
   "source": [
    "# 19. Create a program that determines if a year is a leap year and also if it is evenly divisible by 400.\n",
    "\n",
    "year = int(input(\"enter a year\"))\n",
    "if (year%4==0 and year%100!=0) or year%400==0:\n",
    "    if  year%400==0:\n",
    "        print (\"It is a leap year and evenly divided by 400\")\n",
    "    else:\n",
    "        print(\"It is a leap year and not evenly divided by 400\")\n",
    "else:\n",
    "    print(\"It is not a leap year\")"
   ]
  },
  {
   "cell_type": "code",
   "execution_count": null,
   "id": "6cdaa9ed-1256-46f4-9521-a251028c1821",
   "metadata": {},
   "outputs": [],
   "source": [
    "# 20. Develop a program that checks if a given number is prime or not using nested if-else statements.\n"
   ]
  },
  {
   "cell_type": "code",
   "execution_count": null,
   "id": "7bb509a0-b841-4c25-91a4-8cf6062eb703",
   "metadata": {},
   "outputs": [],
   "source": [
    "# 21. Write a Python program to assign grades based on different ranges of scores using elif statements.\n",
    "\n",
    "score = int(input(\"enter score\"))\n",
    "\n",
    "if score >= 90:\n",
    "    print(\"A Grade\")\n",
    "elif score >= 80:\n",
    "    print(\"B Grade\")\n",
    "elif score >= 75:\n",
    "    print(\"C Grade\")\n",
    "elif score >= 55:\n",
    "    print(\"D Grade\")\n",
    "elif score >= 40:\n",
    "    print(\"E Grade\")\n",
    "else:\n",
    "    print(\"F Grade\")"
   ]
  },
  {
   "cell_type": "code",
   "execution_count": 4,
   "id": "a63bed65-62fb-4f16-9fd0-bee1615b0a45",
   "metadata": {},
   "outputs": [
    {
     "name": "stdin",
     "output_type": "stream",
     "text": [
      "enter first angle 44\n",
      "enter second angle 44\n",
      "enter third angle 66\n"
     ]
    },
    {
     "name": "stdout",
     "output_type": "stream",
     "text": [
      "triangle is isosceles\n"
     ]
    }
   ],
   "source": [
    "# 22. Implement a program to determine the type of a triangle based on its angles.\n",
    "\n",
    "n1 = int(input(\"enter first angle\"))\n",
    "n2 = int(input(\"enter second angle\"))\n",
    "n3 = int(input(\"enter third angle\"))\n",
    "if n1==n2==n3:\n",
    "    print(\"triangle is equilateral\")\n",
    "elif n2==n1 or n2==n3 or n1==n3:\n",
    "    print(\"triangle is isosceles\")\n",
    "else:\n",
    "    print(\"triangle is scalene\")"
   ]
  },
  {
   "cell_type": "code",
   "execution_count": 6,
   "id": "3999dbfe-1d3c-4889-9c01-e6436ccd39bb",
   "metadata": {},
   "outputs": [
    {
     "name": "stdin",
     "output_type": "stream",
     "text": [
      "Enter weight 48\n",
      "Enter height 1.55\n"
     ]
    },
    {
     "name": "stdout",
     "output_type": "stream",
     "text": [
      "Normal\n"
     ]
    }
   ],
   "source": [
    "# 23. Develop a program to categorize a given person's BMI into underweight, normal, overweight, or obese using elif statements.\n",
    "\n",
    "weight = int(input(\"Enter weight\"));\n",
    "height = float(input(\"Enter height\"));\n",
    "x = weight/float(height*height);\n",
    "if x < 18.5:\n",
    "    print('Underweight')\n",
    "if x>=18.5 and x<25:\n",
    "    print(\"Normal\")\n",
    "if x >= 25 and x < 30:\n",
    "    print('Overweight')\n",
    "if x >= 30:\n",
    "    print('Obesity')"
   ]
  },
  {
   "cell_type": "code",
   "execution_count": null,
   "id": "b23d340c-5549-4e9b-ac2d-e41d769fb68f",
   "metadata": {},
   "outputs": [],
   "source": [
    "# 24  Write a Python script to determine if a number is positive, negative, or zero.\n",
    "\n",
    "n = int(input(\"enter a number\"))\n",
    "if n<0:\n",
    "    print(\"Number is negative\")\n",
    "elif n>0:\n",
    "    print(\"Number is positive\")\n",
    "else:\n",
    "    print(\"Its a O\")"
   ]
  },
  {
   "cell_type": "code",
   "execution_count": 2,
   "id": "2fe6ecd7-0441-45dc-8591-3eb675c5b6d9",
   "metadata": {},
   "outputs": [
    {
     "name": "stdin",
     "output_type": "stream",
     "text": [
      "Enter a character *\n"
     ]
    },
    {
     "name": "stdout",
     "output_type": "stream",
     "text": [
      "Special character\n"
     ]
    }
   ],
   "source": [
    "# 25. Write a Python script to determine the type of a character (uppercase, lowercase, or special) using elif statements.\n",
    "\n",
    "char = input(\"Enter a character\")\n",
    "if char.isupper():\n",
    "    print(\"Uppercase\")\n",
    "elif char.islower():\n",
    "    print(\"Lowercase\")\n",
    "elif char.isdigit():\n",
    "    print(\"Digit\")\n",
    "else:\n",
    "    print(\"Special character\")"
   ]
  },
  {
   "cell_type": "code",
   "execution_count": 8,
   "id": "2e6ce10c-bd33-4afe-8c05-035244ae8246",
   "metadata": {},
   "outputs": [
    {
     "name": "stdin",
     "output_type": "stream",
     "text": [
      "Enter purchase  Amount 25000\n"
     ]
    },
    {
     "name": "stdout",
     "output_type": "stream",
     "text": [
      "Discount :  5000.0\n",
      "Net Pay  :  20000.0\n"
     ]
    }
   ],
   "source": [
    "# 26. Implement a program to calculate the discounted price based on different purchase amounts using elif statements.\n",
    "\n",
    "amt = int(input(\"Enter purchase  Amount\"))\n",
    "\n",
    "if amt<=5000:\n",
    "    disc = amt*0.05\n",
    "elif amt<=15000:\n",
    "    disc=amt*0.12\n",
    "elif amt<=25000:\n",
    "    disc=0.2 * amt\n",
    "else:\n",
    "    disc=0.3 * amt\n",
    "\n",
    "print(\"Discount : \",disc)\n",
    "print(\"Net Pay  : \",amt-disc)"
   ]
  },
  {
   "cell_type": "code",
   "execution_count": 9,
   "id": "3490894f-ea8f-4d07-b761-953ee0430e0b",
   "metadata": {},
   "outputs": [
    {
     "name": "stdin",
     "output_type": "stream",
     "text": [
      "Enter your unit 453\n"
     ]
    },
    {
     "name": "stdout",
     "output_type": "stream",
     "text": [
      "Total Bill: 3410.96\n"
     ]
    }
   ],
   "source": [
    "# 27. Develop a program to calculate the electricity bill based on different consumption slabs using elif\n",
    "\n",
    "unit = int(input(\"Enter your unit\"))\n",
    "if unit <= 100:\n",
    "    bill = unit * 3.46\n",
    "elif unit >= 101 and unit <= 300:\n",
    "    bill = 346 + ((unit - 100) * 7.43)\n",
    "elif unit >= 301 and unit <= 500:\n",
    "    bill = 346 + 1486 + ((unit - 300) * 10.32)\n",
    "else:\n",
    "    bill = 346 + 1486 + 2064 + ((unit - 500) * 11.71)\n",
    "print(\"Total Bill:\",bill)"
   ]
  },
  {
   "cell_type": "code",
   "execution_count": 1,
   "id": "474fc9b8-3968-438a-8e2e-95cfed57698e",
   "metadata": {},
   "outputs": [
    {
     "name": "stdout",
     "output_type": "stream",
     "text": [
      "The given quadrilateral is a Square.\n"
     ]
    }
   ],
   "source": [
    "# 28. Create a program to determine the type of quadrilateral based on its angles and sides using elif statements.\n",
    "\n",
    "def quadilateral(a, b, c, d, A, B, C, D):\n",
    "    if A == B == C == D == 90:\n",
    "        if a == b == c == d:\n",
    "            return \"Square\" if a == b == c == d else \"Rectangle\"\n",
    "    elif a == b == c == d:\n",
    "        return \"Rhombus\"\n",
    "    elif A == C and B == D:\n",
    "        return \"Parallelogram\"\n",
    "    elif A == B or B == C or C == D or D == A:\n",
    "        return \"Trapezium\"\n",
    "    elif (a == b and c == d) or (a == d and b == c):\n",
    "        return \"Kite\"\n",
    "    else:\n",
    "        return \"random Quadrilateral\"\n",
    "\n",
    "sides = [4, 4, 4, 4]  \n",
    "angles = [90, 90, 90, 90]  \n",
    "\n",
    "res = quadilateral(*sides, *angles)\n",
    "print(f\"The given quadrilateral is a {res}.\")"
   ]
  },
  {
   "cell_type": "code",
   "execution_count": 3,
   "id": "c1994178-361e-4ccf-867b-7f838735e1fc",
   "metadata": {},
   "outputs": [
    {
     "name": "stdin",
     "output_type": "stream",
     "text": [
      "Enter a month 10\n"
     ]
    },
    {
     "name": "stdout",
     "output_type": "stream",
     "text": [
      "Autumn\n"
     ]
    }
   ],
   "source": [
    "# 29. Write a Python script to determine the season based on a user-provided month using elif statements.\n",
    "\n",
    "month = int(input(\"Enter a month\"))\n",
    "if month in [12, 1, 2]:\n",
    "    print(\"Winter\")\n",
    "elif month in [3, 4, 5]:\n",
    "    print(\"Spring\")\n",
    "elif month in [6, 7, 8]:\n",
    "    print(\"Summer\")\n",
    "elif month in [9, 10, 11]:\n",
    "    print(\"Autumn\")"
   ]
  },
  {
   "cell_type": "code",
   "execution_count": 7,
   "id": "377ebb51-b546-4fe3-aa45-ed3e33ffacf2",
   "metadata": {},
   "outputs": [
    {
     "name": "stdin",
     "output_type": "stream",
     "text": [
      "Emter date in MM-YYYY format 07-2000\n"
     ]
    },
    {
     "name": "stdout",
     "output_type": "stream",
     "text": [
      "31 days month in a leap year\n"
     ]
    }
   ],
   "source": [
    "# 30. Implement a program to determine the type of a year (leap or common) and month (30 or 31 days) using\n",
    "# elif statements.\n",
    "\n",
    "date = input(\"Emter date in MM-YYYY format\")\n",
    "list1= date.split(\"-\")\n",
    "month=int(list1[0])\n",
    "year=int(list1[1])\n",
    "if month in [1, 3, 5, 7, 8, 10, 12]:\n",
    "    print(\"31 days month\",end=\" \")\n",
    "elif month in [4, 6, 9, 11]:\n",
    "    print(\"30 days month\",end=\" \")\n",
    "elif month == 2:\n",
    "    print(\"28/29 days month\",end=\" \")\n",
    "if (year%4==0 and year%100!=0) or year%400==0:  \n",
    "    print(\"in a leap year\")\n",
    "else:\n",
    "    print(\"in a common  year\")\n"
   ]
  },
  {
   "cell_type": "code",
   "execution_count": 1,
   "id": "a9323689-fdca-4166-952b-d35e5a853fa8",
   "metadata": {},
   "outputs": [
    {
     "name": "stdin",
     "output_type": "stream",
     "text": [
      "Enter a number 6\n"
     ]
    },
    {
     "name": "stdout",
     "output_type": "stream",
     "text": [
      "Factorial of 6 is 720\n"
     ]
    }
   ],
   "source": [
    "# 13. Develop a program that calculates the factorial of a given number using recursion.\n",
    "\n",
    "def fact(num):\n",
    "    if num == 0:\n",
    "        return 0\n",
    "    elif num ==1:\n",
    "        return num\n",
    "    else:\n",
    "        return num*fact(num-1)\n",
    "\n",
    "n = int(input(\"Enter a number\"))\n",
    "print(f\"Factorial of {n} is {fact(n)}\")"
   ]
  },
  {
   "cell_type": "code",
   "execution_count": 3,
   "id": "11b0a080-360b-467b-a08a-3395acd67f2c",
   "metadata": {},
   "outputs": [
    {
     "name": "stdin",
     "output_type": "stream",
     "text": [
      "enter a number 7\n"
     ]
    },
    {
     "name": "stdout",
     "output_type": "stream",
     "text": [
      "Number is positive\n"
     ]
    }
   ],
   "source": [
    "# 1. Write a Python program that checks if a given number is positive, negative, or zero.\n",
    "\n",
    "n = int(input(\"enter a number\"))\n",
    "if n<0:\n",
    "    print(\"Number is negative\")\n",
    "elif n>0:\n",
    "    print(\"Number is positive\")\n",
    "else:\n",
    "    print(\"Its a O\")"
   ]
  },
  {
   "cell_type": "code",
   "execution_count": 4,
   "id": "7b3af5c3-7101-4506-8d21-b6e74339438e",
   "metadata": {},
   "outputs": [
    {
     "name": "stdin",
     "output_type": "stream",
     "text": [
      "enter age 88\n"
     ]
    },
    {
     "name": "stdout",
     "output_type": "stream",
     "text": [
      "Eligible to vote\n"
     ]
    }
   ],
   "source": [
    "# 2. Create a program to determine if a person is eligible to vote based on their age.\n",
    "\n",
    "age = int(input(\"enter age\"))\n",
    "if age<18:\n",
    "    print(\"Not eligible to vote\")\n",
    "else:\n",
    "    print(\"Eligible to vote\")"
   ]
  },
  {
   "cell_type": "code",
   "execution_count": 6,
   "id": "f890db48-c1e5-4854-a79b-1595fd61e211",
   "metadata": {},
   "outputs": [
    {
     "name": "stdin",
     "output_type": "stream",
     "text": [
      "enter first number 44\n",
      "enter second number 87\n"
     ]
    },
    {
     "name": "stdout",
     "output_type": "stream",
     "text": [
      "Second Number is greator\n"
     ]
    }
   ],
   "source": [
    "# 3. Write a program to find the maximum of two given numbers using conditional statements. \n",
    "\n",
    "\n",
    "n1 = int(input(\"enter first number\"))\n",
    "n2 = int(input(\"enter second number\"))\n",
    "if n1>n2:\n",
    "    print(\"First Number is greator\")\n",
    "elif n2>n1:\n",
    "    print(\"Second Number is greator\")\n",
    "else:\n",
    "    print(\"Both are equal\")"
   ]
  },
  {
   "cell_type": "code",
   "execution_count": null,
   "id": "fdaa69b9-48d1-4f08-b496-6065611a5c44",
   "metadata": {},
   "outputs": [],
   "source": [
    "# 4. Develop a program that calculates the grade of a student based on their exam score.\n",
    "\n",
    "score = int(input(\"enter score\"))\n",
    "\n",
    "if score >= 90:\n",
    "    print(\"A Grade\")\n",
    "elif score >= 80:\n",
    "    print(\"B Grade\")\n",
    "elif score >= 75:\n",
    "    print(\"C Grade\")\n",
    "elif score >= 55:\n",
    "    print(\"D Grade\")\n",
    "elif score >= 40:\n",
    "    print(\"E Grade\")\n",
    "else:\n",
    "    print(\"F Grade\")"
   ]
  },
  {
   "cell_type": "code",
   "execution_count": null,
   "id": "0fcca31d-3521-4a09-86f5-6852a6873e15",
   "metadata": {},
   "outputs": [],
   "source": [
    "# 5. Create a program that checks if a year is a leap year or not.\n",
    "\n",
    "date = input(\"Emter date in MM-YYYY format\")\n",
    "list1= date.split(\"-\")\n",
    "month=int(list1[0])\n",
    "year=int(list1[1])\n",
    "if month in [1, 3, 5, 7, 8, 10, 12]:\n",
    "    print(\"31 days month\",end=\" \")\n",
    "elif month in [4, 6, 9, 11]:\n",
    "    print(\"30 days month\",end=\" \")\n",
    "elif month == 2:\n",
    "    print(\"28/29 days month\",end=\" \")\n",
    "if (year%4==0 and year%100!=0) or year%400==0:  \n",
    "    print(\"in a leap year\")\n",
    "else:\n",
    "    print(\"in a common  year\")\n"
   ]
  },
  {
   "cell_type": "code",
   "execution_count": null,
   "id": "f60f26d2-5081-4a96-83a6-5536a1d7a13b",
   "metadata": {},
   "outputs": [],
   "source": [
    "# 6. Write a program to classify a triangle based on its sides' lengths.\n",
    "\n",
    "n1 = int(input(\"enter first side\"))\n",
    "n2 = int(input(\"enter second side\"))\n",
    "n3 = int(input(\"enter third side\"))\n",
    "if n1==n2==n3:\n",
    "    print(\"triangle is equilateral\")\n",
    "elif n2==n1 or n2==n3 or n1==n3:\n",
    "    print(\"triangle is isosceles\")\n",
    "else:\n",
    "    print(\"triangle is scalene\")"
   ]
  },
  {
   "cell_type": "code",
   "execution_count": null,
   "id": "ea6b734a-0862-4548-9ef4-5007a19248d0",
   "metadata": {},
   "outputs": [],
   "source": [
    "# 7. Build a program that determines the largest of three given numbers.\n",
    "\n",
    "\n",
    "n1 = int(input(\"enter first number\"))\n",
    "n2 = int(input(\"enter second number\"))\n",
    "n3 = int(input(\"enter third number\"))\n",
    "if n1>n2 and n1>n3:\n",
    "    print(f\"{n1} is largest among {n1},{n2},{n3}\")\n",
    "elif n2>n1 and n2>n3:\n",
    "    print(f\"{n2} is largest among {n1},{n2},{n3}\")\n",
    "else:\n",
    "    print(f\"{n3} is largest among {n1},{n2},{n3}\")"
   ]
  },
  {
   "cell_type": "code",
   "execution_count": null,
   "id": "c0adf1af-4df2-40e2-b16e-36a14687bf43",
   "metadata": {},
   "outputs": [],
   "source": [
    "# 8. Develop a program that checks whether a character is a vowel or a consonant.\n",
    "\n",
    "char = input(\"Enter a character\")\n",
    "vowels= ['a','e','i','o','u','A','E','I','O','U']\n",
    "if char in vowels:\n",
    "    print(\"Its a vowel\")\n",
    "else:\n",
    "    print(\"Its a consonant\")"
   ]
  },
  {
   "cell_type": "code",
   "execution_count": null,
   "id": "71d35ed7-83c6-4298-9b15-346322fed1b6",
   "metadata": {},
   "outputs": [],
   "source": [
    "# 9. Create a program to calculate the total cost of a shopping cart based on discounts.\n",
    "\n",
    "\n",
    "amt = int(input(\"Enter purchase  Amount\"))\n",
    "\n",
    "if amt<=5000:\n",
    "    disc = amt*0.05\n",
    "elif amt<=15000:\n",
    "    disc=amt*0.12\n",
    "elif amt<=25000:\n",
    "    disc=0.2 * amt\n",
    "else:\n",
    "    disc=0.3 * amt\n",
    "\n",
    "print(\"Discount : \",disc)\n",
    "print(\"Net Pay  : \",amt-disc)"
   ]
  },
  {
   "cell_type": "code",
   "execution_count": null,
   "id": "7c6c9c7e-b146-41d5-9871-2ba89b57157a",
   "metadata": {},
   "outputs": [],
   "source": [
    "# 10. Write a program that checks if a given number is even or odd.\n",
    "\n",
    "n = int(input(\"enter a number\"))\n",
    "if n%2==0:\n",
    "    print(\"even Number\")\n",
    "else:\n",
    "    print(\"Odd number\")"
   ]
  },
  {
   "cell_type": "code",
   "execution_count": null,
   "id": "257d938e-6386-4a9f-ad27-8bf0de07bf63",
   "metadata": {},
   "outputs": [],
   "source": [
    "# 21. Write a Python program to calculate the roots of a quadratic equation.\n",
    "\n",
    "a = int(input(\"enter coffiecient of x^2\"))\n",
    "b = int(input(\"enter coffiecient of x^1\"))\n",
    "c = int(input(\"enter coffiecient of x^0\"))\n",
    "\n",
    "if  (b*b > 4*a*c):\n",
    "    print(\"Roots are real and different\")\n",
    "elif (b*b < 4*a*c):\n",
    "    print(\"Roots are complex (not real)\")\n",
    "else:\n",
    "    print(\"Roots are real and equal\")"
   ]
  },
  {
   "cell_type": "code",
   "execution_count": null,
   "id": "07b8e0a3-04b7-468b-9c7d-6d0074f246ef",
   "metadata": {},
   "outputs": [],
   "source": [
    "# 12. Implement a program to determine the day of the week based on a user-provided number\n",
    "# (1 for Monday, 2 for Tuesday, etc.).\n",
    "\n",
    "day = int(input(\"enter a day\"))\n",
    "if day ==1:\n",
    "    print ('Monday')\n",
    "elif day ==2:\n",
    "    print ('Tuesday')\n",
    "elif day ==3:\n",
    "    print ('Wednesday')\n",
    "elif day ==4:\n",
    "    print ('Thursday')\n",
    "elif day ==5:\n",
    "    print ('Friday')\n",
    "elif day ==6:\n",
    "    print ('Saturday')\n",
    "else:\n",
    "    print ('Sunday')"
   ]
  },
  {
   "cell_type": "code",
   "execution_count": null,
   "id": "4ddc82e8-3ec8-4e0d-b92e-e972a790ea05",
   "metadata": {},
   "outputs": [],
   "source": [
    "# 13. Develop a program that calculates the factorial of a given number using recursion.\n",
    "\n",
    "def fact(num):\n",
    "    if num == 0:\n",
    "        return 0\n",
    "    elif num ==1:\n",
    "        return num\n",
    "    else:\n",
    "        return num*fact(num-1)\n",
    "\n",
    "n = int(input(\"Enter a number\"))\n",
    "print(f\"Factorial of {n} is {fact(n)}\")"
   ]
  },
  {
   "cell_type": "code",
   "execution_count": null,
   "id": "9da27dad-2e33-4ed2-841f-3e3c60ba976e",
   "metadata": {},
   "outputs": [],
   "source": [
    "# 14. Write a program to find the largest among three numbers without using the `max()` function.\n",
    "\n",
    "n1 = int(input(\"enter first number\"))\n",
    "n2 = int(input(\"enter second number\"))\n",
    "n3 = int(input(\"enter third number\"))\n",
    "if n1>n2 and n1>n3:\n",
    "    print(f\"{n1} is largest among {n1},{n2},{n3}\")\n",
    "elif n2>n1 and n2>n3:\n",
    "    print(f\"{n2} is largest among {n1},{n2},{n3}\")\n",
    "else:\n",
    "    print(f\"{n3} is largest among {n1},{n2},{n3}\")"
   ]
  },
  {
   "cell_type": "code",
   "execution_count": 1,
   "id": "4c8f3f06-fb7a-4471-88d8-8bb72fd3020d",
   "metadata": {},
   "outputs": [
    {
     "name": "stdout",
     "output_type": "stream",
     "text": [
      "Your balance: $1000\n",
      "Withdrawal successful. Remaining balance: $800\n",
      "Deposit successful. New balance: $1300\n"
     ]
    }
   ],
   "source": [
    "# 15. Create a program that simulates a basic ATM transaction menu.\n",
    "balance = 1000\n",
    "\n",
    "def check_balance():\n",
    "    print(f\"Your balance: ${balance}\")\n",
    "\n",
    "def withdraw(amount):\n",
    "    global balance\n",
    "    if 0 < amount <= balance:\n",
    "        balance -= amount\n",
    "        print(f\"Withdrawal successful. Remaining balance: ${balance}\")\n",
    "    else:\n",
    "        print(\"Invalid withdrawal amount or insufficient funds.\")\n",
    "\n",
    "def deposit(amount):\n",
    "    global balance\n",
    "    if amount > 0:\n",
    "        balance += amount\n",
    "        print(f\"Deposit successful. New balance: ${balance}\")\n",
    "    else:\n",
    "        print(\"Invalid deposit amount.\")\n",
    "\n",
    "check_balance()\n",
    "withdraw(200)\n",
    "deposit(500)"
   ]
  },
  {
   "cell_type": "code",
   "execution_count": null,
   "id": "43500638-c739-45b4-b4ba-e0799e63ab49",
   "metadata": {},
   "outputs": [],
   "source": [
    "# 16. Build a program that checks if a given string is a palindrome or not.\n",
    "\n",
    "str1 = input(\"Enter a string\")\n",
    "if(str1 == str1[::-1]):\n",
    "    print(\"It is a pallidrome string\")\n",
    "else:\n",
    "    print(\"It is not a pallidrome string\")"
   ]
  },
  {
   "cell_type": "code",
   "execution_count": 1,
   "id": "defdd540-7f6d-443f-af01-cff0b72f2eaa",
   "metadata": {},
   "outputs": [
    {
     "name": "stdout",
     "output_type": "stream",
     "text": [
      "42.375\n"
     ]
    }
   ],
   "source": [
    "# 17. Write a program that calculates the average of a list of numbers, excluding the smallest and largest values.\n",
    "\n",
    "list1 = [12, 13, 58 ,89, 92, 47, 95, 56]\n",
    "print((sum(list1)-max(list1)-min(list1))/len(list1)-2)"
   ]
  },
  {
   "cell_type": "code",
   "execution_count": null,
   "id": "3669dc0e-5403-46c0-b0fd-4b31e4262da7",
   "metadata": {},
   "outputs": [],
   "source": [
    "# 18. Develop a program that converts a given temperature from Celsius to Fahrenheit.\n",
    "\n",
    "celsius = float(input('Enter the temperature in celsius'))\n",
    "\n",
    "fahrenheit = (celsius * 1.8) + 32\n",
    "\n",
    "print('Fahrenheit Temprature is :', fahrenheit)"
   ]
  },
  {
   "cell_type": "code",
   "execution_count": 1,
   "id": "562a4a61-cf4e-4b81-8a78-6ea00cd4cb2b",
   "metadata": {},
   "outputs": [
    {
     "name": "stdin",
     "output_type": "stream",
     "text": [
      "Enter the operation 6 / 2\n"
     ]
    },
    {
     "name": "stdout",
     "output_type": "stream",
     "text": [
      "3.0\n"
     ]
    }
   ],
   "source": [
    "# 19. Create a program that simulates a basic calculator for addition, subtraction, multiplication, and division.\n",
    "\n",
    "str1= input(\"Enter the operation\")\n",
    "list1=str1.split(\" \")\n",
    "n1=int(list1[0])\n",
    "operator = list1[1]\n",
    "n2 = int(list1[2])\n",
    "if operator == '+':\n",
    "    print(n1+n2)\n",
    "elif operator == '-':\n",
    "    print(n1-n2)\n",
    "elif operator == '*':\n",
    "    print(n1*n2)\n",
    "elif operator == '/':\n",
    "    print(n1/n2)\n",
    "elif operator == '%':\n",
    "    print(n1%n2)"
   ]
  },
  {
   "cell_type": "code",
   "execution_count": 2,
   "id": "5797f8bd-c4c1-4cc4-9af1-d3a694246ae3",
   "metadata": {},
   "outputs": [
    {
     "name": "stdin",
     "output_type": "stream",
     "text": [
      "Enter the coefficient a:  4\n",
      "Enter the coefficient b:  6\n",
      "Enter the coefficient c:  3\n",
      "Enter the coefficient d:  5\n"
     ]
    },
    {
     "name": "stdout",
     "output_type": "stream",
     "text": [
      "Roots: (0.5200209557629761+0.9007027163820019j)\n"
     ]
    }
   ],
   "source": [
    "# 20. Write a program that determines the roots of a cubic equation using the Cardano formula.\n",
    "\n",
    "\n",
    "import cmath\n",
    "\n",
    "def cubic_roots(a, b, c, d):\n",
    "    p = c / a - (b**2) / (3 * (a**2))\n",
    "    q = (2 * (b**3)) / (27 * (a**3)) - (b * c) / (3 * (a**2)) + d / a\n",
    "\n",
    "    delta = (q**2) / 4 + (p**3) / 27\n",
    "\n",
    "    if delta >= 0:\n",
    "        u1 = -q / 2 + cmath.sqrt(delta)\n",
    "        u2 = -q / 2 - cmath.sqrt(delta)\n",
    "        root = u1**(1/3) + u2**(1/3)\n",
    "    else:\n",
    "        r = cmath.sqrt(-(p**3) / 27)\n",
    "        theta = cmath.phase(-q / (2 * r))\n",
    "        root1 = 2 * cmath.sqrt(-p / 3) * cmath.cos(theta / 3)\n",
    "        root2 = 2 * cmath.sqrt(-p / 3) * cmath.cos((theta + 2 * cmath.pi) / 3)\n",
    "        root3 = 2 * cmath.sqrt(-p / 3) * cmath.cos((theta + 4 * cmath.pi) / 3)\n",
    "        root = [root1, root2, root3]\n",
    "\n",
    "    return root\n",
    "\n",
    "a = float(input(\"Enter the coefficient a: \"))\n",
    "b = float(input(\"Enter the coefficient b: \"))\n",
    "c = float(input(\"Enter the coefficient c: \"))\n",
    "d = float(input(\"Enter the coefficient d: \"))\n",
    "\n",
    "roots = cubic_roots(a, b, c, d)\n",
    "print(\"Roots:\", roots)"
   ]
  },
  {
   "cell_type": "code",
   "execution_count": null,
   "id": "248491d4-e6a9-40d9-bae4-e975abcfb820",
   "metadata": {},
   "outputs": [],
   "source": [
    "# 21. Create a program that calculates the income tax based on the user's income and tax brackets.\n",
    "\n",
    "#If tax is less than or equal to 85,528 tax is 18% of income - 556.02.          \n",
    "#If tax is more than 85,528, tax is 14,839.02 plus 32% of surplus above 5,528.\n",
    " \n",
    "income = float(input(\"Enter the annual income: \"))\n",
    "if income <= 85528:\n",
    "        tax = (income-556.02)*0.18\n",
    "        # Brackets are to make it do those sums first\n",
    "    else:\n",
    "        tax = (income-85528)*0.32 + 14839.02\n",
    "        # Brackets are to make it do those sums first\n",
    "tax = round(tax,0)\n",
    "print(\"The tax is:\", tax)"
   ]
  },
  {
   "cell_type": "code",
   "execution_count": 7,
   "id": "9a7908df-c7d7-4c29-9617-fa5901ad8a59",
   "metadata": {},
   "outputs": [
    {
     "name": "stdin",
     "output_type": "stream",
     "text": [
      "Enter r for rock or p for paper or s for scissors p\n"
     ]
    },
    {
     "name": "stdout",
     "output_type": "stream",
     "text": [
      "Computer is winner as comp chose scissors but user chose paper\n"
     ]
    }
   ],
   "source": [
    "# 22. Write a program that simulates a rock-paper-scissors game against the computer.\n",
    "\n",
    "import random\n",
    "\n",
    "game = {'r':'rock','p':'paper','s':'scissors'}\n",
    "inp = input(\"Enter r for rock or p for paper or s for scissors\")\n",
    "user = game.get(inp)\n",
    "comp = random.choice(list(game.values()))\n",
    "count = 0\n",
    "while(count<5):\n",
    "    if((comp=='rock' and user =='scissors') or (comp=='scissors' and user =='paper') or (comp=='paper' and user =='rock')):\n",
    "        print(f\"Computer is winner as comp chose {comp} but user chose {user}\")\n",
    "        break\n",
    "    elif ((user=='rock' and comp =='scissors') or (user=='scissors' and comp =='paper') or (user=='paper' and comp =='rock')):\n",
    "        print(f\"user is winner as user chose {user} but comp chose {comp}\")\n",
    "        break\n",
    "    else:\n",
    "        print(\"Let's play again\")\n",
    "    count+=1"
   ]
  },
  {
   "cell_type": "code",
   "execution_count": 12,
   "id": "53762246-eade-4c9c-8467-2e190f0cc7f1",
   "metadata": {},
   "outputs": [
    {
     "name": "stdin",
     "output_type": "stream",
     "text": [
      "Enter the password length:  5\n",
      "Enter the complexity level between 1-4:  4\n"
     ]
    },
    {
     "name": "stdout",
     "output_type": "stream",
     "text": [
      "Your random password is: [rTW6\n"
     ]
    }
   ],
   "source": [
    "# 23. Develop a program that generates a random password based on user preferences (length, complexity).\n",
    "\n",
    "import random\n",
    "import string\n",
    "\n",
    "def generate_password(length,complexity):\n",
    "    characters = string.ascii_letters + string.digits + string.punctuation\n",
    "    \n",
    "    characters = string.ascii_lowercase\n",
    "    if(complexity >= 2):\n",
    "        characters += string.digits\n",
    "    if(complexity >= 3):\n",
    "        characters += string.ascii_uppercase\n",
    "    if(complexity >= 4):\n",
    "        characters += string.punctuation\n",
    "        \n",
    "    \n",
    "    password = ''.join(random.choice(characters) for _ in range(length))\n",
    "    return password\n",
    "\n",
    "\n",
    "length = int(input(\"Enter the password length: \"))\n",
    "comp = int(input(\"Enter the complexity level between 1-4: \"))\n",
    "\n",
    "password = generate_password(length,comp)\n",
    "print(\"Your random password is:\", password)\n"
   ]
  },
  {
   "cell_type": "code",
   "execution_count": 27,
   "id": "da1c8262-511e-4055-b58d-6e771f7087e6",
   "metadata": {},
   "outputs": [
    {
     "name": "stdout",
     "output_type": "stream",
     "text": [
      "Welcome to the Adventure Game!\n",
      "You find yourself in a dark forest, with only a flickering torch to guide you.\n",
      "Do you go left or right?\n"
     ]
    },
    {
     "name": "stdin",
     "output_type": "stream",
     "text": [
      "Enter 'left' or 'right':  right\n"
     ]
    },
    {
     "name": "stdout",
     "output_type": "stream",
     "text": [
      "You discover a hidden chamber filled with gold and jewels!\n",
      "Congratulations, you win!\n"
     ]
    }
   ],
   "source": [
    "# 24. Create a program that implements a simple text-based adventure game with branching scenarios.\n",
    "\n",
    "def start_game():\n",
    "    print(\"Welcome to the Adventure Game!\")\n",
    "    print(\"You find yourself in a dark forest, with only a flickering torch to guide you.\")\n",
    "    print(\"Do you go left or right?\")\n",
    "\n",
    "    choice = input(\"Enter 'left' or 'right': \").lower()\n",
    "\n",
    "    if choice == \"left\":\n",
    "        encounter_bear()\n",
    "    elif choice == \"right\":\n",
    "        find_treasure()\n",
    "    else:\n",
    "        print(\"Invalid choice. Please try again.\")\n",
    "        start_game()\n",
    "\n",
    "def encounter_bear():\n",
    "    print(\"You stumble upon a giant bear guarding a cave!\")\n",
    "    print(\"Do you fight or run?\")\n",
    "\n",
    "    choice = input(\"Enter 'fight' or 'run': \").lower()\n",
    "\n",
    "    if choice == \"fight\":\n",
    "        print(\"You bravely charge at the bear, but it overpowers you. Game over.\")\n",
    "    elif choice == \"run\":\n",
    "        print(\"You manage to escape the bear's wrath and find a hidden path.\")\n",
    "        find_treasure()\n",
    "    else:\n",
    "        print(\"Invalid choice. Please try again.\")\n",
    "        encounter_bear()\n",
    "\n",
    "def find_treasure():\n",
    "    print(\"You discover a hidden chamber filled with gold and jewels!\")\n",
    "    print(\"Congratulations, you win!\")\n",
    "\n",
    "\n",
    "start_game()"
   ]
  },
  {
   "cell_type": "code",
   "execution_count": null,
   "id": "5d0e357b-b652-4641-912b-c630e667dbc2",
   "metadata": {},
   "outputs": [],
   "source": [
    "# 25. Build a program that solves a linear equation for x, considering different cases.\n",
    "\n",
    "def solve(a, b):\n",
    "    if a == 0:\n",
    "        if b == 0:\n",
    "            print(\"Infinite solutions: 0 = 0 (Identity equation)\")\n",
    "        else:\n",
    "            print(\"No solution: {} = 0 (Contradiction)\".format(b))\n",
    "    else:\n",
    "        x = -b / a\n",
    "        print(\"Solution: x = {:.2f}\".format(x))\n",
    "\n",
    "a = float(input(\"Enter the coefficient 'a': \"))\n",
    "b = float(input(\"Enter the constant term 'b': \"))\n",
    "solve(a, b)\n"
   ]
  },
  {
   "cell_type": "code",
   "execution_count": 7,
   "id": "4dd98ed9-6232-47e2-b384-73a3bef2dde8",
   "metadata": {},
   "outputs": [
    {
     "name": "stdout",
     "output_type": "stream",
     "text": [
      "What is the 56+89\n",
      "Options:\n",
      "1. 342\n",
      "2. 975\n",
      "3. 156\n",
      "4. 145\n"
     ]
    },
    {
     "name": "stdin",
     "output_type": "stream",
     "text": [
      "Enter your answer (1-4):  4\n"
     ]
    },
    {
     "name": "stdout",
     "output_type": "stream",
     "text": [
      "Correct!\n",
      "What is the largest ocean in the world?\n",
      "Options:\n",
      "1. Pacific Ocean\n",
      "2. Atlantic Ocean\n",
      "3. Indian Ocean\n",
      "4. Arctic Ocean\n"
     ]
    },
    {
     "name": "stdin",
     "output_type": "stream",
     "text": [
      "Enter your answer (1-4):  1\n"
     ]
    },
    {
     "name": "stdout",
     "output_type": "stream",
     "text": [
      "Correct!\n",
      "What is the highest mountain in the world?\n",
      "Options:\n",
      "1. Mount Everest\n",
      "2. K2\n",
      "3. Kangchenjunga\n",
      "4. Lhotse\n"
     ]
    },
    {
     "name": "stdin",
     "output_type": "stream",
     "text": [
      "Enter your answer (1-4):  1\n"
     ]
    },
    {
     "name": "stdout",
     "output_type": "stream",
     "text": [
      "Correct!\n",
      "Your final score is 3 out of 3\n"
     ]
    }
   ],
   "source": [
    "# 26. Write a program that simulates a basic quiz game with multiple-choice questions and scoring.\n",
    "\n",
    "import random\n",
    "\n",
    "def play_quiz():\n",
    "    questions = [\n",
    "    {\"question\": \"What is the 56+89\" , \"options\": [\"342\", \"975\", \"156\", \"145\"], \"answer\": \"145\"},\n",
    "    {\"question\": \"What is the highest mountain in the world?\", \"options\": [\"Mount Everest\", \"K2\", \"Kangchenjunga\", \"Lhotse\"], \"answer\": \"Mount Everest\"},\n",
    "    {\"question\": \"What is the largest ocean in the world?\", \"options\": [\"Pacific Ocean\", \"Atlantic Ocean\", \"Indian Ocean\", \"Arctic Ocean\"], \"answer\": \"Pacific Ocean\"},\n",
    "  ]\n",
    "\n",
    "    score = 0\n",
    "\n",
    "    for question in random.sample(questions, len(questions)):\n",
    "        print(question[\"question\"])\n",
    "        print(\"Options:\")\n",
    "        for i, option in enumerate(question[\"options\"]):\n",
    "            print(f\"{i + 1}. {option}\")\n",
    "\n",
    "        user_answer = input(\"Enter your answer (1-4): \")\n",
    "\n",
    "        if (question['options'][int(user_answer.lower())-1].lower() == question[\"answer\"].lower()):\n",
    "            print(\"Correct!\")\n",
    "            score += 1\n",
    "        else:\n",
    "            print(\"Incorrect. The correct answer is\", question[\"answer\"])\n",
    "\n",
    "    print(\"Your final score is\", score, \"out of\", len(questions))\n",
    "\n",
    "play_quiz()"
   ]
  },
  {
   "cell_type": "code",
   "execution_count": 20,
   "id": "217edf88-1681-410e-ba70-cf7343653bc4",
   "metadata": {},
   "outputs": [
    {
     "name": "stdin",
     "output_type": "stream",
     "text": [
      "enter a year 2024\n"
     ]
    },
    {
     "name": "stdout",
     "output_type": "stream",
     "text": [
      "is 2024 Prime Number : False\n"
     ]
    }
   ],
   "source": [
    "# 27. Develop a program that determines whether a given year is a prime number or not.\n",
    "\n",
    "def isPrimeNumber(num):\n",
    "    for i in range(2,num//2+1):\n",
    "        if(num % i == 0):\n",
    "            return False    \n",
    "    else:\n",
    "        return True\n",
    "    \n",
    "year= int(input(\"enter a year\"))\n",
    "print(f'is {year} Prime Number :',isPrimeNumber(year))"
   ]
  },
  {
   "cell_type": "code",
   "execution_count": 22,
   "id": "a5c9d42c-ad16-4c2a-b4c8-4dcb36e9242d",
   "metadata": {},
   "outputs": [
    {
     "name": "stdin",
     "output_type": "stream",
     "text": [
      "enter first number 44\n",
      "enter second number 22\n",
      "enter third number 73\n"
     ]
    },
    {
     "name": "stdout",
     "output_type": "stream",
     "text": [
      "22 44 73\n"
     ]
    }
   ],
   "source": [
    "# 28. Create a program that sorts three numbers in ascending order using conditional statements.\n",
    "\n",
    "n1 = int(input(\"enter first number\"))\n",
    "n2 = int(input(\"enter second number\"))\n",
    "n3 = int(input(\"enter third number\"))\n",
    "if n1 <n2 and n1<n3:\n",
    "    if n2<n3:\n",
    "        print(n1,n2,n3)\n",
    "    else:\n",
    "        print(n1,n3,n2)\n",
    "elif n2 <n1 and n2<n3:\n",
    "    if n1<n3:\n",
    "        print(n2,n1,n3)\n",
    "    else:\n",
    "        print(n2,n3,n1)\n",
    "else:\n",
    "    if n1<n2:\n",
    "        print(n3,n1,n2)\n",
    "    else:\n",
    "        print(n3,n2,n1)"
   ]
  },
  {
   "cell_type": "code",
   "execution_count": 23,
   "id": "8e5ce8f1-f016-480f-ada2-f92ee74c9f4b",
   "metadata": {},
   "outputs": [
    {
     "name": "stdin",
     "output_type": "stream",
     "text": [
      "coffiecient of x2 3\n",
      "coffiecient of x 4\n",
      "coffiecient of x0 1\n"
     ]
    },
    {
     "name": "stdout",
     "output_type": "stream",
     "text": [
      "Roots are real and distinct\n",
      "Root 1: -0.3333333333333333\n",
      "Root 2: -1.0\n"
     ]
    }
   ],
   "source": [
    "# 29. Build a program that determines the roots of a quartic equation using numerical methods.\n",
    "\n",
    "import math\n",
    " \n",
    "a = int(input(\"coffiecient of x2\"))\n",
    "b = int(input(\"coffiecient of x\"))\n",
    "c = int(input(\"coffiecient of x0\"))\n",
    " \n",
    "dis = b ** 2 - 4 * a * c\n",
    " \n",
    "if dis > 0:\n",
    "    root1 = (-b + math.sqrt(dis)) / (2 * a)\n",
    "    root2 = (-b - math.sqrt(dis)) / (2 * a)\n",
    "    print(\"Roots are real and distinct\")\n",
    "    print(\"Root 1:\", root1)\n",
    "    print(\"Root 2:\", root2)\n",
    "elif dis == 0:\n",
    "    root = -b / (2 * a)\n",
    "    print(\"Roots are real and same\")\n",
    "    print(\"Root:\", root)\n",
    "else:\n",
    "    realPart = -b / (2 * a)\n",
    "    imaginaryPart = math.sqrt(-dis) / (2 * a)\n",
    "    print(\"Roots are complex and different\")\n",
    "    print(\"Root 1:\", realPart, \"+\", imaginaryPart, \"i\")\n",
    "    print(\"Root 2:\", realPart, \"-\", imaginaryPart, \"i\")"
   ]
  },
  {
   "cell_type": "code",
   "execution_count": null,
   "id": "dfad7b85-ce22-4f1b-b42b-6962083641e7",
   "metadata": {},
   "outputs": [],
   "source": [
    "# 30. Write a program that calculates the BMI (Body Mass Index) and provides health recommendations based\n",
    "# on the user's input.\n",
    "\n",
    "weight = int(input(\"Enter weight\"));\n",
    "height = float(input(\"Enter height\"));\n",
    "x = weight/float(height*height);\n",
    "if x < 18.5:\n",
    "    print('Underweight')\n",
    "if x>=18.5 and x<25:\n",
    "    print(\"Normal\")\n",
    "if x >= 25 and x < 30:\n",
    "    print('Overweight')\n",
    "if x >= 30:\n",
    "    print('Obesity')"
   ]
  },
  {
   "cell_type": "code",
   "execution_count": 24,
   "id": "ed0f93fa-87a0-4446-a1bc-c2d25d751dcc",
   "metadata": {},
   "outputs": [
    {
     "name": "stdin",
     "output_type": "stream",
     "text": [
      "Enter the password length:  10\n",
      "Enter the complexity level between 1-4:  4\n"
     ]
    },
    {
     "name": "stdout",
     "output_type": "stream",
     "text": [
      "Your random password is: <U72A;V/2;\n"
     ]
    }
   ],
   "source": [
    "# 31.  Create a program that validates a password based on complexity rules (length, characters, etc.).\n",
    "\n",
    "import random\n",
    "import string\n",
    "\n",
    "def generate_password(length,complexity):\n",
    "    characters = string.ascii_letters + string.digits + string.punctuation\n",
    "    \n",
    "    characters = string.ascii_lowercase\n",
    "    if(complexity >= 2):\n",
    "        characters += string.digits\n",
    "    if(complexity >= 3):\n",
    "        characters += string.ascii_uppercase\n",
    "    if(complexity >= 4):\n",
    "        characters += string.punctuation\n",
    "        \n",
    "    \n",
    "    password = ''.join(random.choice(characters) for _ in range(length))\n",
    "    return password\n",
    "\n",
    "\n",
    "length = int(input(\"Enter the password length: \"))\n",
    "comp = int(input(\"Enter the complexity level between 1-4: \"))\n",
    "\n",
    "password = generate_password(length,comp)\n",
    "print(\"Your random password is:\", password)\n"
   ]
  },
  {
   "cell_type": "code",
   "execution_count": 19,
   "id": "2b0637ef-de22-4e26-9a06-b47182cf8b85",
   "metadata": {},
   "outputs": [
    {
     "name": "stdin",
     "output_type": "stream",
     "text": [
      "Enter + or - +\n"
     ]
    },
    {
     "name": "stdout",
     "output_type": "stream",
     "text": [
      "[12, 24, 36, 48, 60, 72, 84, 96, 108]\n"
     ]
    }
   ],
   "source": [
    "# 32. Develop a program that performs matrix addition and subtraction based on user input.\n",
    "\n",
    "list1= [[1,2,3],[4,5,6],[7,8,9]]\n",
    "list2= [[11,22,33],[44,55,66],[77,88,99]]\n",
    "\n",
    "res= list1.copy()\n",
    "user_input = input(\"Enter + or -\")\n",
    "if(user_input == '+'):\n",
    "    res = [res[i][j]+list2[i][j] for i in range(len(list1)) for j in range(len(list1[i]))]\n",
    "elif(user_input == '-'):\n",
    "     res = [res[i][j]-list2[i][j] for i in range(len(list1)) for j in range(len(list1[i]))]\n",
    "else:\n",
    "    res = []\n",
    "print(res)"
   ]
  },
  {
   "cell_type": "code",
   "execution_count": 22,
   "id": "0251623c-9116-4cad-bc2c-9443c8218814",
   "metadata": {},
   "outputs": [
    {
     "name": "stdin",
     "output_type": "stream",
     "text": [
      "enter 1st number 12\n",
      "enter 2nd number 18\n"
     ]
    },
    {
     "name": "stdout",
     "output_type": "stream",
     "text": [
      "The GCD of 12 and 18 is 6\n"
     ]
    }
   ],
   "source": [
    "# 33. Write a program that calculates the greatest common divisor (GCD) of two numbers using the Euclidean algorithm.\n",
    "\n",
    "def gcd(a, b):\n",
    "    while b != 0:\n",
    "        a,b = b,a % b\n",
    "    return a\n",
    "\n",
    "num1 = int(input(\"enter 1st number\"))\n",
    "num2 = int(input(\"enter 2nd number\"))\n",
    "gcd_value = gcd(num1, num2)\n",
    "\n",
    "print(\"The GCD of\", num1, \"and\", num2, \"is\", gcd_value)"
   ]
  },
  {
   "cell_type": "code",
   "execution_count": 41,
   "id": "4a52a1bc-7ac9-46a5-9e2f-afe066905ba2",
   "metadata": {},
   "outputs": [
    {
     "name": "stdout",
     "output_type": "stream",
     "text": [
      "[19, 22]\n",
      "[43, 50]\n"
     ]
    }
   ],
   "source": [
    "# 34. Build a program that performs matrix multiplication using nested loops and conditional statements.\n",
    "\n",
    "def matrix_multiplication(matrix1, matrix2):\n",
    "    m = len(matrix1)  \n",
    "    n = len(matrix1[0])  \n",
    "    p = len(matrix2[0]) \n",
    "\n",
    "    result = [[0 for _ in range(p)] for _ in range(m)]  \n",
    "\n",
    "    for i in range(m):\n",
    "        for j in range(p):\n",
    "            for k in range(n):\n",
    "                result[i][j] += matrix1[i][k] * matrix2[k][j]\n",
    "\n",
    "    return result\n",
    "\n",
    "matrix1 = [[1, 2], [3, 4]]\n",
    "matrix2 = [[5, 6], [7, 8]]\n",
    "\n",
    "product_matrix = matrix_multiplication(matrix1, matrix2)\n",
    "\n",
    "for row in product_matrix:\n",
    "      print(row)"
   ]
  },
  {
   "cell_type": "code",
   "execution_count": 42,
   "id": "eab69fd5-8a00-4f81-af87-a7251495e02f",
   "metadata": {},
   "outputs": [
    {
     "name": "stdin",
     "output_type": "stream",
     "text": [
      "Enter number of elements in fibonacci 10\n"
     ]
    },
    {
     "name": "stdout",
     "output_type": "stream",
     "text": [
      " Elements in fibonacci are: [0, 1, 1, 2, 3, 5, 8, 13, 21, 34]\n"
     ]
    }
   ],
   "source": [
    "#36. Write a program that generates Fibonacci numbers up to a specified term using iterative methods.\n",
    "\n",
    "n = int(input('Enter number of elements in fibonacci'))\n",
    "result = [0,1]\n",
    "for i in range(n-2):\n",
    "    result.append(result[i]+result[i+1])\n",
    "print (' Elements in fibonacci are:',result)"
   ]
  },
  {
   "cell_type": "code",
   "execution_count": 23,
   "id": "6090e213-4315-4670-8e04-b257482eeb03",
   "metadata": {},
   "outputs": [
    {
     "name": "stdin",
     "output_type": "stream",
     "text": [
      " 10\n"
     ]
    },
    {
     "name": "stdout",
     "output_type": "stream",
     "text": [
      "The 10th term of the Fibonacci sequence is: 55\n"
     ]
    }
   ],
   "source": [
    "# 37. Develop a program that calculates the nth term of the Fibonacci sequence using memoization.\n",
    "\n",
    "def fibonacci_memoized(n, memo={}):\n",
    "    if n in memo:\n",
    "        return memo[n]\n",
    "\n",
    "    if n <= 1:\n",
    "        return n\n",
    "\n",
    "    memo[n] = fibonacci_memoized(n - 1, memo) + fibonacci_memoized(n - 2, memo)\n",
    "    return memo[n]\n",
    "\n",
    "n = int(input())\n",
    "result = fibonacci_memoized(n)\n",
    "print(f\"The {n}th term of the Fibonacci sequence is: {result}\")"
   ]
  },
  {
   "cell_type": "code",
   "execution_count": 32,
   "id": "be43dc19-c476-44db-ae88-bf7ebe7531f6",
   "metadata": {},
   "outputs": [
    {
     "name": "stdin",
     "output_type": "stream",
     "text": [
      "enter month 2\n",
      "enter year 2022\n"
     ]
    },
    {
     "name": "stdout",
     "output_type": "stream",
     "text": [
      "  February 2022\n",
      "  Mo Tu We Th Fr Sa Su\n",
      "             1  2  3 \n",
      " 4  5  6  7  8  9 10 \n",
      "11 12 13 14 15 16 17 \n",
      "18 19 20 21 22 23 24 \n",
      "25 26 27 28             \n"
     ]
    }
   ],
   "source": [
    "# 38. Create a program that generates a calendar for a given month and year using conditional statements.\n",
    "\n",
    "def generate_calendar(month, year):\n",
    "    days_in_month = [31, 28, 31, 30, 31, 30, 31, 31, 30, 31, 30, 31]\n",
    "\n",
    "    if month == 2 and is_leap_year(year):\n",
    "        days_in_month[1] = 29\n",
    "\n",
    "    start_day = (year - (17 * year // 100 + 1) // 4 + year % 100 // 4 + year % 100 - year % 4 + month * 2 + (26 * (month - 2) // 12) - 1) % 7\n",
    "\n",
    "    print(f\"  {month_names[month - 1]} {year}\")\n",
    "    print(\"  Mo Tu We Th Fr Sa Su\")\n",
    "\n",
    "    day_count = 1\n",
    "    for i in range(start_day):\n",
    "        print(\"   \", end=\"\")\n",
    "    for i in range(days_in_month[month - 1]):\n",
    "        if day_count < 10:\n",
    "            print(f\" {day_count} \", end=\"\")\n",
    "        else:\n",
    "            print(f\"{day_count} \", end=\"\")\n",
    "        if (i + start_day) % 7 == 6:\n",
    "            print()\n",
    "        day_count += 1\n",
    "\n",
    "    for i in range((7 - (i + start_day) % 7) % 7):\n",
    "        print(\"   \", end=\"\")\n",
    "    print()\n",
    "\n",
    "def is_leap_year(year):\n",
    "    return (year % 4 == 0 and (year % 100 != 0 or year % 400 == 0))\n",
    "\n",
    "month_names = [\"January\", \"February\", \"March\", \"April\", \"May\", \"June\",\n",
    "               \"July\", \"August\", \"September\", \"October\", \"November\", \"December\"]\n",
    "\n",
    "month = int(input(\"enter month\"))\n",
    "year = int(input(\"enter year\"))\n",
    "generate_calendar(month, year)\n"
   ]
  },
  {
   "cell_type": "code",
   "execution_count": 14,
   "id": "269aafe0-0682-4d64-90ac-047c90104594",
   "metadata": {},
   "outputs": [],
   "source": [
    "# 39. Build a program that simulates a basic text-based blackjack game against the computer.\n",
    "\n",
    "import random\n",
    "\n",
    "def deal_card():\n",
    "  cards = [11, 2, 3, 4, 5, 6, 7, 8, 9, 10, 10, 10, 10]\n",
    "  return random.choice(cards)\n",
    "\n",
    "def calculate_score(cards):\n",
    "  score = sum(cards)\n",
    "  if 11 in cards and score > 21:\n",
    "    cards.remove(11)\n",
    "    cards.append(1)\n",
    "  return sum(cards)\n",
    "\n",
    "while True:\n",
    "  player_cards = []\n",
    "  computer_cards = []\n",
    "  for _ in range(2):\n",
    "    player_cards.append(deal_card())\n",
    "    computer_cards.append(deal_card())\n",
    "\n",
    "  while True:\n",
    "    print(f\"Your cards: {player_cards}, total = {calculate_score(player_cards)}\")\n",
    "    print(f\"Computer's first card: {computer_cards[0]}\")\n",
    "    if calculate_score(player_cards) == 21:\n",
    "      print(\"Blackjack! You win!\")\n",
    "      break\n",
    "    elif calculate_score(player_cards) > 21:\n",
    "      print(\"Bust! You lose.\")\n",
    "      break\n",
    "    hit_or_stand = input(\"Hit or stand? (h/s): \")\n",
    "    if hit_or_stand.lower() == 's':\n",
    "      break\n",
    "    player_cards.append(deal_card())\n",
    "\n",
    "  # Computer's turn (simplified)\n",
    "  while calculate_score(computer_cards) < 17:\n",
    "    computer_cards.append(deal_card())\n",
    "\n",
    "  # Determine the winner\n",
    "  print(f\"Your cards: {player_cards}, total = {calculate_score(player_cards)}\")\n",
    "  print(f\"Computer's cards: {computer_cards}, total = {calculate_score(computer_cards)}\")\n",
    "  # ... (rest of the winner determination logic)\n",
    "\n",
    "  if not input(\"Play again? (y/n): \").lower().startswith('y'):\n",
    "    break"
   ]
  },
  {
   "cell_type": "code",
   "execution_count": 39,
   "id": "aae95305-c424-4207-a375-89af7ec44d7e",
   "metadata": {},
   "outputs": [
    {
     "name": "stdin",
     "output_type": "stream",
     "text": [
      " 17\n"
     ]
    },
    {
     "data": {
      "text/plain": [
       "[17]"
      ]
     },
     "execution_count": 39,
     "metadata": {},
     "output_type": "execute_result"
    }
   ],
   "source": [
    "# 40. Write a program that generates the prime factors of a given number using trial division.\n",
    "\n",
    "def TrialDivision(N):\n",
    "\ti = 2\n",
    "\tk = int(N ** 0.5)\n",
    "\twhile(i<= k):\n",
    "\t\tif(N % i == 0):\n",
    "\t\t\treturn 0\n",
    "\t\ti += 1\n",
    "\treturn 1\n",
    "\n",
    "N = int(input())\n",
    "res = [i for i in range(2,n//2+1) if N%i==0 and TrialDivision(i)]+ ([N] if TrialDivision(i) else [])\n",
    "res"
   ]
  }
 ],
 "metadata": {
  "kernelspec": {
   "display_name": "Python 3 (ipykernel)",
   "language": "python",
   "name": "python3"
  },
  "language_info": {
   "codemirror_mode": {
    "name": "ipython",
    "version": 3
   },
   "file_extension": ".py",
   "mimetype": "text/x-python",
   "name": "python",
   "nbconvert_exporter": "python",
   "pygments_lexer": "ipython3",
   "version": "3.10.8"
  }
 },
 "nbformat": 4,
 "nbformat_minor": 5
}
