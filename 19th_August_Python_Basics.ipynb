{
 "cells": [
  {
   "cell_type": "code",
   "execution_count": null,
   "id": "666a6f0a-196d-41fd-8d79-83c229570901",
   "metadata": {},
   "outputs": [
    {
     "name": "stdin",
     "output_type": "stream",
     "text": [
      "Enter the first number 6\n",
      "Enter the second number 7\n"
     ]
    },
    {
     "name": "stdout",
     "output_type": "stream",
     "text": [
      "Before - 6 7\n",
      "After - 7 6\n"
     ]
    }
   ],
   "source": [
    "#1.Swap the values of these variables without using any temporary variable.\n",
    "\n",
    "x = int(input('Enter the first number'))\n",
    "y = int(input('Enter the second number'))\n",
    "\n",
    "print('Before -', x,y)\n",
    "\n",
    "x = x+y\n",
    "y = x-y\n",
    "x = x-y\n",
    "\n",
    "print('After -', x,y)"
   ]
  },
  {
   "cell_type": "code",
   "execution_count": 40,
   "id": "051d3eb1-1d68-4b28-9191-d859857da99b",
   "metadata": {
    "tags": []
   },
   "outputs": [
    {
     "name": "stdin",
     "output_type": "stream",
     "text": [
      "Enter the length of the rectangle 5\n",
      "Enter the width of the rectangle 6\n"
     ]
    },
    {
     "name": "stdout",
     "output_type": "stream",
     "text": [
      "Area of rectangle is : 30\n"
     ]
    }
   ],
   "source": [
    "# 2.  Take the length and width as inputs Calculate and display the area.\n",
    "\n",
    "length = int(input('Enter the length of the rectangle'))\n",
    "breath = int(input('Enter the width of the rectangle'))\n",
    "\n",
    "area = length * breath \n",
    "\n",
    "print('Area of rectangle is :', area)"
   ]
  },
  {
   "cell_type": "code",
   "execution_count": 45,
   "id": "98c5e537-1ca8-4990-94ab-b90689fa5c3b",
   "metadata": {},
   "outputs": [
    {
     "name": "stdin",
     "output_type": "stream",
     "text": [
      "Enter the temperature in celsius 6\n"
     ]
    },
    {
     "name": "stdout",
     "output_type": "stream",
     "text": [
      "Fahrenheit Temprature is : 42.8\n"
     ]
    }
   ],
   "source": [
    "# 3.  Take the temperature in Celsius as input, convert it to Fahrenheit\n",
    "\n",
    "celsius = float(input('Enter the temperature in celsius'))\n",
    "\n",
    "fahrenheit = (celsius * 1.8) + 32\n",
    "\n",
    "print('Fahrenheit Temprature is :', fahrenheit)"
   ]
  },
  {
   "cell_type": "code",
   "execution_count": 46,
   "id": "d60f2eaf-b348-462f-8a17-4d845d0a7987",
   "metadata": {},
   "outputs": [
    {
     "name": "stdin",
     "output_type": "stream",
     "text": [
      "Enter a String nitya\n"
     ]
    },
    {
     "name": "stdout",
     "output_type": "stream",
     "text": [
      "Length of the string is  5\n"
     ]
    }
   ],
   "source": [
    "# 1.  string as input and prints the length of the string.\n",
    "\n",
    "str = input('Enter a String')\n",
    "length = len(str)\n",
    "print('Length of the string is' , length)"
   ]
  },
  {
   "cell_type": "code",
   "execution_count": 47,
   "id": "0e787734-d2f5-4952-bf0e-624a2f9c1849",
   "metadata": {},
   "outputs": [
    {
     "name": "stdin",
     "output_type": "stream",
     "text": [
      "Enter a String aeIou\n"
     ]
    },
    {
     "name": "stdout",
     "output_type": "stream",
     "text": [
      "Number of vowels in the string : 5\n"
     ]
    }
   ],
   "source": [
    "# 2. counts the number of vowels (a, e, i, o, u) in the string.\n",
    "\n",
    "str = input('Enter a String')\n",
    "count = str.count('a')+str.count('e')+str.count('i')+str.count('o')+str.count('u')+str.count('A')+str.count('E')+str.count('I')+str.count('O')+str.count('U')\n",
    "print('Number of vowels in the string :', count)"
   ]
  },
  {
   "cell_type": "code",
   "execution_count": 49,
   "id": "22cf3e1a-4bf8-4af6-97b6-c5d4ff7a697a",
   "metadata": {},
   "outputs": [
    {
     "name": "stdin",
     "output_type": "stream",
     "text": [
      "Enter a String nitya\n"
     ]
    },
    {
     "name": "stdout",
     "output_type": "stream",
     "text": [
      "Reverse of nitya is aytin\n"
     ]
    }
   ],
   "source": [
    "# 3.  reverse the order of characters using string slicing \n",
    "\n",
    "str = input('Enter a String')\n",
    "reversed = str[::-1]                       # we will jump in negative direction for revered string\n",
    "print('Reverse of',str,'is', reversed)"
   ]
  },
  {
   "cell_type": "code",
   "execution_count": 50,
   "id": "9a751994-be28-46ba-907c-909d184bc98d",
   "metadata": {},
   "outputs": [
    {
     "name": "stdin",
     "output_type": "stream",
     "text": [
      " parap\n"
     ]
    },
    {
     "name": "stdout",
     "output_type": "stream",
     "text": [
      "The given string is Pallindrome\n"
     ]
    }
   ],
   "source": [
    "# 4.  checks if it is a palindrome\n",
    "\n",
    "str = input('Enter a String')\n",
    "reversed = str[::-1]\n",
    "\n",
    "is_palindrome = str == reversed  # checking reversed string and original is equal or not\n",
    "if is_palindrome:\n",
    "    print('The given string is Pallindrome')\n",
    "else:\n",
    "    print('The given string is not Pallindrome')"
   ]
  },
  {
   "cell_type": "code",
   "execution_count": 51,
   "id": "5e7a21c6-34c5-4257-9aef-3d4e18438a41",
   "metadata": {},
   "outputs": [
    {
     "name": "stdin",
     "output_type": "stream",
     "text": [
      "Enter a String ni aa\n"
     ]
    },
    {
     "name": "stdout",
     "output_type": "stream",
     "text": [
      "String without spaces : niaa\n"
     ]
    }
   ],
   "source": [
    "# 5. Cremoves all the spaces from it.\n",
    "\n",
    "str = input('Enter a String')\n",
    "changed = str.replace(' ','')  # replaced all space will with null character\n",
    "print('String without spaces :', changed)"
   ]
  }
 ],
 "metadata": {
  "kernelspec": {
   "display_name": "Python 3 (ipykernel)",
   "language": "python",
   "name": "python3"
  },
  "language_info": {
   "codemirror_mode": {
    "name": "ipython",
    "version": 3
   },
   "file_extension": ".py",
   "mimetype": "text/x-python",
   "name": "python",
   "nbconvert_exporter": "python",
   "pygments_lexer": "ipython3",
   "version": "3.10.8"
  }
 },
 "nbformat": 4,
 "nbformat_minor": 5
}
