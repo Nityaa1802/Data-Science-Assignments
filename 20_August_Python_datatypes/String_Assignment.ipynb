{
 "cells": [
  {
   "cell_type": "code",
   "execution_count": 4,
   "id": "52d00e38-78aa-4970-93f3-cf4b42f7bc26",
   "metadata": {
    "tags": []
   },
   "outputs": [
    {
     "name": "stdin",
     "output_type": "stream",
     "text": [
      "Enter the text nitya\n"
     ]
    },
    {
     "name": "stdout",
     "output_type": "stream",
     "text": [
      "Reversed string is:  aytin\n"
     ]
    }
   ],
   "source": [
    "#Write a program to reverse a string.\n",
    "\n",
    "str = input('Enter the text')\n",
    "print('Reversed string is: ',str[::-1])"
   ]
  },
  {
   "cell_type": "code",
   "execution_count": 12,
   "id": "679d6191-f97f-4795-bf6c-76830d48080a",
   "metadata": {},
   "outputs": [
    {
     "name": "stdin",
     "output_type": "stream",
     "text": [
      "Enter the text parap\n"
     ]
    },
    {
     "name": "stdout",
     "output_type": "stream",
     "text": [
      "It is a pallidrome string\n"
     ]
    }
   ],
   "source": [
    "#. 2. Check if a string is a palindrome.\n",
    "\n",
    "str = input('Enter the text')\n",
    "reversed_string = str[::-1]\n",
    "if (reversed_string == str):  \n",
    "    print('It is a pallidrome string')  \n",
    "else:\n",
    "    print('It is not a pallidrome string')"
   ]
  },
  {
   "cell_type": "code",
   "execution_count": 15,
   "id": "6bab6479-f1dd-4136-a630-1a104430664e",
   "metadata": {},
   "outputs": [
    {
     "name": "stdin",
     "output_type": "stream",
     "text": [
      "Enter the text nitya\n"
     ]
    },
    {
     "name": "stdout",
     "output_type": "stream",
     "text": [
      "NITYA\n"
     ]
    }
   ],
   "source": [
    "# 3. Convert a string to uppercase.\n",
    "\n",
    "str = input('Enter the text')\n",
    "print(str.upper())"
   ]
  },
  {
   "cell_type": "code",
   "execution_count": 16,
   "id": "c890c7e7-e6b1-456f-b58f-321e6d05eeda",
   "metadata": {},
   "outputs": [
    {
     "name": "stdin",
     "output_type": "stream",
     "text": [
      "Enter the text Nitya\n"
     ]
    },
    {
     "name": "stdout",
     "output_type": "stream",
     "text": [
      "nitya\n"
     ]
    }
   ],
   "source": [
    "# Convert a string to lowercase.\n",
    "\n",
    "str = input('Enter the text')\n",
    "print(str.lower())"
   ]
  },
  {
   "cell_type": "code",
   "execution_count": 18,
   "id": "103323cd-6e0b-4865-9b77-cd2a3822b6bd",
   "metadata": {},
   "outputs": [
    {
     "name": "stdin",
     "output_type": "stream",
     "text": [
      "Enter a String nitya\n"
     ]
    },
    {
     "name": "stdout",
     "output_type": "stream",
     "text": [
      "Number of vowels in the string : 2\n"
     ]
    }
   ],
   "source": [
    "# 5. Count the number of vowels in a string.\n",
    "\n",
    "str = input('Enter a String')\n",
    "count = str.count('a')+str.count('e')+str.count('i')+str.count('o')+str.count('u')+str.count('A')+str.count('E')+str.count('I')+str.count('O')+str.count('U')\n",
    "print('Number of vowels in the string :', count)"
   ]
  },
  {
   "cell_type": "code",
   "execution_count": 21,
   "id": "feca2099-8526-485d-973a-0037914e8d6a",
   "metadata": {},
   "outputs": [
    {
     "name": "stdin",
     "output_type": "stream",
     "text": [
      "Enter a String nitya\n"
     ]
    },
    {
     "name": "stdout",
     "output_type": "stream",
     "text": [
      "Number of consonant in the string : 3\n"
     ]
    }
   ],
   "source": [
    "# 6. Count the number of consonants in a string.\n",
    "\n",
    "str = input('Enter a String')\n",
    "vowel_count = str.count('a')+str.count('e')+str.count('i')+str.count('o')+str.count('u')+str.count('A')+str.count('E')+str.count('I')+str.count('O')+str.count('U')\n",
    "print('Number of consonant in the string :', len(str)-count)"
   ]
  },
  {
   "cell_type": "code",
   "execution_count": 24,
   "id": "e28de273-0df6-484f-b37c-994da20835af",
   "metadata": {},
   "outputs": [
    {
     "name": "stdin",
     "output_type": "stream",
     "text": [
      "Enter a String    nitya.  \n"
     ]
    },
    {
     "name": "stdout",
     "output_type": "stream",
     "text": [
      "nitya.\n"
     ]
    }
   ],
   "source": [
    "# 7. Remove all whitespaces from a string.\n",
    "\n",
    "\n",
    "str = input('Enter a String')\n",
    "print(str.strip())"
   ]
  },
  {
   "cell_type": "code",
   "execution_count": 26,
   "id": "3eb146e3-98bc-444d-abd8-147dab1d310b",
   "metadata": {},
   "outputs": [
    {
     "name": "stdin",
     "output_type": "stream",
     "text": [
      "Enter a String nitya\n"
     ]
    },
    {
     "name": "stdout",
     "output_type": "stream",
     "text": [
      "Length of string:  5\n"
     ]
    }
   ],
   "source": [
    "#. Find the length of a string without using the `len()` function.\n",
    "\n",
    "str = input('Enter a String')\n",
    "count = 0\n",
    "for a in str:\n",
    "    count+=1\n",
    "print('Length of string: ',count)"
   ]
  },
  {
   "cell_type": "code",
   "execution_count": 29,
   "id": "347f98bf-a482-433a-a37f-390e672b1a44",
   "metadata": {},
   "outputs": [
    {
     "name": "stdin",
     "output_type": "stream",
     "text": [
      "Enter a String nitya\n",
      "Enter a word itya\n"
     ]
    },
    {
     "name": "stdout",
     "output_type": "stream",
     "text": [
      "Yes it contains\n"
     ]
    }
   ],
   "source": [
    "# 9. Check if a string contains a specific word.\n",
    "\n",
    "\n",
    "str = input('Enter a String')\n",
    "word = input('Enter a word')\n",
    "if(str.find(word)):\n",
    "    print('Yes it contains')\n",
    "else:\n",
    "    print(\"No it doesn't\")"
   ]
  },
  {
   "cell_type": "code",
   "execution_count": 30,
   "id": "872befd8-364d-48fe-9911-89a15dd6f942",
   "metadata": {},
   "outputs": [
    {
     "name": "stdin",
     "output_type": "stream",
     "text": [
      "Enter a String i am happy!\n",
      "Enter a word to replace happy\n",
      "Enter word to replace with amazing\n"
     ]
    },
    {
     "name": "stdout",
     "output_type": "stream",
     "text": [
      "i am amazing!\n"
     ]
    }
   ],
   "source": [
    "#  10. Replace a word in a string with another word.\n",
    "\n",
    "str = input('Enter a String')\n",
    "word = input('Enter a word to replace')\n",
    "replaceWith = input('Enter word to replace with')\n",
    "print(str.replace(word,replaceWith))"
   ]
  },
  {
   "cell_type": "code",
   "execution_count": 32,
   "id": "11bff559-17d5-4cb4-a627-25edd89cd6d3",
   "metadata": {},
   "outputs": [
    {
     "name": "stdin",
     "output_type": "stream",
     "text": [
      "Enter a String hi hello hi\n",
      "Enter a word hi\n"
     ]
    },
    {
     "name": "stdout",
     "output_type": "stream",
     "text": [
      "2\n"
     ]
    }
   ],
   "source": [
    "# 11. Count the occurrences of a word in a string.\n",
    "\n",
    "str = input('Enter a String')\n",
    "word = input('Enter a word')\n",
    "print(str.count(word))"
   ]
  },
  {
   "cell_type": "code",
   "execution_count": 34,
   "id": "06523e50-142e-4d53-a40f-e66abf916330",
   "metadata": {},
   "outputs": [
    {
     "name": "stdin",
     "output_type": "stream",
     "text": [
      "Enter a String hi hello hi \n",
      "Enter a word hi\n"
     ]
    },
    {
     "name": "stdout",
     "output_type": "stream",
     "text": [
      "First occurrence is: 0\n",
      "Last occurrence is: 9\n"
     ]
    }
   ],
   "source": [
    "#. 12. Find the first occurrence and last occurence of a word in a string.\n",
    "\n",
    "str = input('Enter a String')\n",
    "word = input('Enter a word')\n",
    "print('First occurrence is:',str.find(word))\n",
    "print('Last occurrence is:',str.rfind(word))"
   ]
  },
  {
   "cell_type": "code",
   "execution_count": 35,
   "id": "23534844-14de-4067-a140-37251df25566",
   "metadata": {},
   "outputs": [
    {
     "name": "stdin",
     "output_type": "stream",
     "text": [
      "Enter a String nitya is amaaazing\n"
     ]
    },
    {
     "name": "stdout",
     "output_type": "stream",
     "text": [
      "['nitya', 'is', 'amaaazing']\n"
     ]
    }
   ],
   "source": [
    "# 14. Split a string into a list of words.\n",
    "\n",
    "str = input('Enter a String')\n",
    "list = str.split(' ')\n",
    "print(list)"
   ]
  },
  {
   "cell_type": "code",
   "execution_count": 40,
   "id": "b9cff538-503c-4e2b-b157-ebd60d7ede62",
   "metadata": {},
   "outputs": [
    {
     "name": "stdout",
     "output_type": "stream",
     "text": [
      "nitya is amaaazing\n"
     ]
    }
   ],
   "source": [
    "# Join a list of words into a string.\n",
    "\n",
    "list = ['nitya', 'is', 'amaaazing']\n",
    "str = \" \".join(list)\n",
    "print (str)"
   ]
  },
  {
   "cell_type": "code",
   "execution_count": 43,
   "id": "f3c016c7-4831-480f-bbad-e04f5b08b937",
   "metadata": {},
   "outputs": [
    {
     "name": "stdin",
     "output_type": "stream",
     "text": [
      "Enter a String nitya is amazing\n"
     ]
    },
    {
     "name": "stdout",
     "output_type": "stream",
     "text": [
      "nitya_is_amazing\n"
     ]
    }
   ],
   "source": [
    "# 16. Convert a string where words are separated by spaces to one where words are separated by underscores.\n",
    "\n",
    "str= str = input('Enter a String')\n",
    "replaced_string = str.replace(\" \",\"_\")\n",
    "print(replaced_string)"
   ]
  },
  {
   "cell_type": "code",
   "execution_count": 44,
   "id": "205bf372-19b8-4e7e-9b36-2b7b2c435368",
   "metadata": {},
   "outputs": [
    {
     "name": "stdin",
     "output_type": "stream",
     "text": [
      "Enter a String hi hello hi\n",
      "Enter a word hi\n"
     ]
    },
    {
     "name": "stdout",
     "output_type": "stream",
     "text": [
      "Starts with: True\n",
      "End with: True\n"
     ]
    }
   ],
   "source": [
    "# 17. Check if a string starts with a specific word or phrase. \n",
    "# 18. Check if a string ends with a specific word or phrase.\n",
    "\n",
    "str = input('Enter a String')\n",
    "word = input('Enter a word')\n",
    "print('Starts with:',str.startswith(word))\n",
    "print('End with:',str.endswith(word))"
   ]
  },
  {
   "cell_type": "code",
   "execution_count": 46,
   "id": "bbe90a78-0703-450d-9671-3f6773d2d173",
   "metadata": {},
   "outputs": [
    {
     "name": "stdin",
     "output_type": "stream",
     "text": [
      "Enter a String hi how are you\n"
     ]
    },
    {
     "name": "stdout",
     "output_type": "stream",
     "text": [
      "Hi How Are You\n"
     ]
    }
   ],
   "source": [
    "# 19. Convert a string to title case (e.g., \"hello world\" to \"Hello World\").\n",
    "\n",
    "str = input('Enter a String')\n",
    "print (str.title())"
   ]
  },
  {
   "cell_type": "code",
   "execution_count": 20,
   "id": "ae75b26b-8aab-4c7c-a83e-1b1c319fed70",
   "metadata": {},
   "outputs": [
    {
     "name": "stdin",
     "output_type": "stream",
     "text": [
      "Enter a String you are a confident girl\n"
     ]
    },
    {
     "name": "stdout",
     "output_type": "stream",
     "text": [
      "longest word is  confident\n"
     ]
    }
   ],
   "source": [
    "# 20. Find the longest word in a string.\n",
    "\n",
    "str = input('Enter a String')\n",
    "\n",
    "# METHOD 1 --- EXTRACTION ALL WORDS\n",
    "\n",
    "# p=0\n",
    "# longest_word=''\n",
    "# for char in range(len(str)):\n",
    "#     if(str[char] == \" \"):\n",
    "#         if(len(str[p:char]) > len(longest_word)):\n",
    "#             longest_word=str[p:char]\n",
    "#         p=char+1   \n",
    "\n",
    "# METHOD 2 --- SORT THE LIST ACC TO LENGTH OF WORD\n",
    "\n",
    "#list = str.split(\" \")\n",
    "# list = sorted(list,key = len)\n",
    "# longest_word = list[-1]\n",
    "\n",
    "# METHOD 3 --- FIND THE MAXIMUM WORD BY LENGTH\n",
    "\n",
    "list = str.split(\" \")\n",
    "longest_word = max(list,key=len)\n",
    "\n",
    "print('longest word is ',longest_word)\n",
    "    \n"
   ]
  },
  {
   "cell_type": "code",
   "execution_count": 21,
   "id": "49152270-6f7a-4a8b-a5fd-8a317026c574",
   "metadata": {},
   "outputs": [
    {
     "name": "stdin",
     "output_type": "stream",
     "text": [
      "Enter a String hi how are you\n"
     ]
    },
    {
     "name": "stdout",
     "output_type": "stream",
     "text": [
      "shortest word is  hi\n"
     ]
    }
   ],
   "source": [
    "# 21. Find the shortest word in a string.\n",
    "\n",
    "str = input('Enter a String')\n",
    "list = str.split(\" \")\n",
    "longest_word = min(list,key=len)\n",
    "print('shortest word is ',longest_word)"
   ]
  },
  {
   "cell_type": "code",
   "execution_count": 25,
   "id": "06c351a6-8a84-475d-b19a-de8b591f8e5d",
   "metadata": {},
   "outputs": [
    {
     "name": "stdin",
     "output_type": "stream",
     "text": [
      "Enter a String wish you a good day\n"
     ]
    },
    {
     "name": "stdout",
     "output_type": "stream",
     "text": [
      "Reversed word string is:  day good a you wish\n"
     ]
    }
   ],
   "source": [
    "# 22. Reverse the order of words in a string.\n",
    "\n",
    "str = input('Enter a String')\n",
    "list = str.split(\" \")\n",
    "reversed_string = \" \".join(list[::-1])\n",
    "print('Reversed word string is: ',reversed_string)"
   ]
  },
  {
   "cell_type": "code",
   "execution_count": 29,
   "id": "08ba4370-d457-4833-beae-c06202ea5ca2",
   "metadata": {},
   "outputs": [
    {
     "name": "stdin",
     "output_type": "stream",
     "text": [
      "Enter a String hiii hhih\n"
     ]
    },
    {
     "name": "stdout",
     "output_type": "stream",
     "text": [
      "No it not alphanumeric\n"
     ]
    }
   ],
   "source": [
    "# 23. Check if a string is alphanumeric.\n",
    "str = input('Enter a String')\n",
    "if(str.isalnum()):\n",
    "    print('Yes it is alphanumeric')\n",
    "else:\n",
    "    print(\"No it not alphanumeric\")"
   ]
  },
  {
   "cell_type": "code",
   "execution_count": 2,
   "id": "bfab7e62-34af-44ce-9c35-607ac00f361e",
   "metadata": {},
   "outputs": [
    {
     "name": "stdin",
     "output_type": "stream",
     "text": [
      "Enter a String hit768v235=- ugcgf\n"
     ]
    },
    {
     "name": "stdout",
     "output_type": "stream",
     "text": [
      "all digits are:  ['7', '6', '8', '2', '3', '5']\n",
      "all alphabets are: ['h', 'i', 't', 'v', 'u', 'g', 'c', 'g', 'f']\n"
     ]
    }
   ],
   "source": [
    "# 24. Extract all digits from a string.\n",
    "#. 25. Extract all alphabets from a string.\n",
    "\n",
    "str = input('Enter a String')\n",
    "alphabets_list=[]\n",
    "digits_list=[]\n",
    "for char in str:\n",
    "    if(char.isnumeric()):\n",
    "       digits_list.append(char)\n",
    "    if(char.isalpha()):\n",
    "        alphabets_list.append(char)\n",
    "print('all digits are: ',digits_list)\n",
    "print('all alphabets are:', alphabets_list)"
   ]
  },
  {
   "cell_type": "code",
   "execution_count": 4,
   "id": "7e7da1d7-3779-46d8-8d1e-3fdee6bd6ce7",
   "metadata": {},
   "outputs": [
    {
     "name": "stdin",
     "output_type": "stream",
     "text": [
      "Enter a String GitersbOOPcrdr99\n"
     ]
    },
    {
     "name": "stdout",
     "output_type": "stream",
     "text": [
      "total lower case are:  10\n",
      "total upper case are:  4\n"
     ]
    }
   ],
   "source": [
    "# 26. Count the number of uppercase letters in a string.\n",
    "# 27. Count the number of lowercase letters in a string.\n",
    "\n",
    "str = input('Enter a String')\n",
    "(upper,lower) = (0,0)\n",
    "for char in str:\n",
    "    if(char.isupper()):\n",
    "        upper+=1\n",
    "    elif(char.islower()):\n",
    "        lower+=1\n",
    "print('total lower case are: ',lower)\n",
    "print('total upper case are: ', upper)"
   ]
  },
  {
   "cell_type": "code",
   "execution_count": 6,
   "id": "5949a60e-c1d8-4080-bb5a-171235e0466b",
   "metadata": {},
   "outputs": [
    {
     "name": "stdin",
     "output_type": "stream",
     "text": [
      "Enter a String hIII\n"
     ]
    },
    {
     "name": "stdout",
     "output_type": "stream",
     "text": [
      "String with swaped case is:  Hiii\n"
     ]
    }
   ],
   "source": [
    "# Swap the case of each character in a string.\n",
    "\n",
    "\n",
    "str = input('Enter a String')\n",
    "print('String with swaped case is: ',str.swapcase())"
   ]
  },
  {
   "cell_type": "code",
   "execution_count": null,
   "id": "16cb85c7-54a5-4979-9cef-12b66e0e5b72",
   "metadata": {},
   "outputs": [
    {
     "name": "stdin",
     "output_type": "stream",
     "text": [
      "Enter a String hi hello hi\n",
      "Enter a word hi\n"
     ]
    },
    {
     "name": "stdout",
     "output_type": "stream",
     "text": [
      "Updated String is:  hello\n"
     ]
    }
   ],
   "source": [
    "# 29. Remove a specific word from a string.\n",
    "\n",
    "str = input('Enter a String')\n",
    "word = input('Enter a word')\n",
    "list = str.split()\n",
    "list = set(list)\n",
    "list.remove(word)\n",
    "updatedString= \" \".join(list)\n",
    "print('Updated String is: ',updatedString)"
   ]
  },
  {
   "cell_type": "code",
   "execution_count": null,
   "id": "652d382f-01a0-4ed0-971f-19f30f284a3b",
   "metadata": {},
   "outputs": [],
   "source": [
    "# 30. Check if a string is a valid email address.\n",
    "# 31. Extract the username from an email address string.\n",
    "# 32. Extract the domain name from an email address string.\n",
    "\n",
    "# taking the basic conditions should have a personal info and domain seperated by '@' and cannot have whitespace\n",
    "\n",
    "str = input('Enter a String')\n",
    "list = str.split('@')\n",
    "if(len(list)==2 and str.find(\" \")==-1):\n",
    "    print('Valid Email')\n",
    "    username = str[:str.find('@')]\n",
    "    domain = str[str.find('@')+1:]\n",
    "    print('Username: ',username)\n",
    "    print('Domain: ',domain)\n",
    "else:\n",
    "    print('Not valid Email')\n",
    "\n"
   ]
  },
  {
   "cell_type": "code",
   "execution_count": 29,
   "id": "1683212d-219a-4b06-bafa-9331ec4d67a8",
   "metadata": {},
   "outputs": [
    {
     "name": "stdin",
     "output_type": "stream",
     "text": [
      "Enter a String         hi how      are         you\n"
     ]
    },
    {
     "name": "stdout",
     "output_type": "stream",
     "text": [
      "Updated String is:  hi how are you\n"
     ]
    }
   ],
   "source": [
    "# 33. Replace multiple spaces in a string with a single space.\n",
    "\n",
    "str = input('Enter a String')\n",
    "list = str.split()\n",
    "print('Updated String is: ',\" \".join(list))"
   ]
  },
  {
   "cell_type": "code",
   "execution_count": 31,
   "id": "eaf19059-46ff-4384-86da-b037c37eeeb7",
   "metadata": {},
   "outputs": [
    {
     "name": "stdin",
     "output_type": "stream",
     "text": [
      "Enter a String http://nitya.com\n"
     ]
    },
    {
     "name": "stdout",
     "output_type": "stream",
     "text": [
      "Is is a valid URL\n",
      "Protocol is:  http\n"
     ]
    }
   ],
   "source": [
    "#34. Check if a string is a valid URL.\n",
    "#35. Extract the protocol (http or https) from a URL string.\n",
    "\n",
    "str = input('Enter a String')\n",
    "if(str.startswith(('https://','http://'))):\n",
    "   print('Is is a valid URL')\n",
    "   print('Protocol is: ',str[:str.find('://')])\n",
    "else:\n",
    "   print('It is not a valid URL')"
   ]
  },
  {
   "cell_type": "code",
   "execution_count": 4,
   "id": "a9102707-dc7b-4e8c-989b-9627aa3a0143",
   "metadata": {},
   "outputs": [
    {
     "name": "stdin",
     "output_type": "stream",
     "text": [
      "Enter a String nityaa\n"
     ]
    },
    {
     "name": "stdout",
     "output_type": "stream",
     "text": [
      "Frequecy of words are : {'n': 1, 'i': 1, 't': 1, 'y': 1, 'a': 2}\n"
     ]
    }
   ],
   "source": [
    "# 36. Find the frequency of each character in a string.\n",
    "\n",
    "str = input('Enter a String')\n",
    "dict = {}\n",
    "for char in str:\n",
    "    if(char not in dict):\n",
    "        dict[char]=str.count(char)\n",
    "print('Frequecy of words are :',dict)\n",
    "    "
   ]
  },
  {
   "cell_type": "code",
   "execution_count": 8,
   "id": "04927cf6-9467-4990-8baf-6f110902de8e",
   "metadata": {},
   "outputs": [
    {
     "name": "stdin",
     "output_type": "stream",
     "text": [
      "Enter a string ni#ty@a1802\n"
     ]
    },
    {
     "name": "stdout",
     "output_type": "stream",
     "text": [
      "Updated String is:  nitya1802\n"
     ]
    }
   ],
   "source": [
    "# 37. Remove all punctuation from a string.\n",
    "\n",
    "str = input('Enter a string')\n",
    "for char in str:\n",
    "    if(not char.isalnum()):\n",
    "        str=str.replace(char,'')\n",
    "print('Updated String is: ',str)"
   ]
  },
  {
   "cell_type": "code",
   "execution_count": 1,
   "id": "f91d4287-1509-409d-a935-d96482d1861a",
   "metadata": {},
   "outputs": [
    {
     "name": "stdin",
     "output_type": "stream",
     "text": [
      "Enter a string 123457\n"
     ]
    },
    {
     "name": "stdout",
     "output_type": "stream",
     "text": [
      "string contains only digits\n"
     ]
    }
   ],
   "source": [
    "# 38. Check if a string contains only digits.\n",
    "\n",
    "str = input('Enter a string')\n",
    "if(str.isdigit()):\n",
    "   print('string contains only digits')\n",
    "else:\n",
    "   print('string does not contains only digits')"
   ]
  },
  {
   "cell_type": "code",
   "execution_count": 11,
   "id": "f176ad03-b070-42ea-ab31-2fe218bd7d67",
   "metadata": {},
   "outputs": [
    {
     "name": "stdin",
     "output_type": "stream",
     "text": [
      "Enter a string bhiuee\n"
     ]
    },
    {
     "name": "stdout",
     "output_type": "stream",
     "text": [
      "string contains only alphabets\n"
     ]
    }
   ],
   "source": [
    "#39. Check if a string contains only alphabets.\n",
    "\n",
    "str = input('Enter a string')\n",
    "if(str.isalpha()):\n",
    "   print('string contains only alphabets')\n",
    "else:\n",
    "   print('string does not contains only alphabets')"
   ]
  },
  {
   "cell_type": "code",
   "execution_count": null,
   "id": "b0be66a2-3b77-4f8e-bda6-0d90bea6cc8e",
   "metadata": {},
   "outputs": [],
   "source": [
    "# 40. Convert a string to a list of characters.\n",
    "\n",
    "str = input('Enter a string')\n",
    "list_of_alphabets = []\n",
    "list_of_alphabets.extend(str)\n",
    "print('list of characters: ',list_of_alphabets)"
   ]
  },
  {
   "cell_type": "code",
   "execution_count": 4,
   "id": "03c218dd-09c6-4451-b21f-32ba397ed742",
   "metadata": {},
   "outputs": [
    {
     "name": "stdin",
     "output_type": "stream",
     "text": [
      "Enter first string nitya\n",
      "Enter second string aytin\n"
     ]
    },
    {
     "name": "stdout",
     "output_type": "stream",
     "text": [
      "they are anagrams\n"
     ]
    }
   ],
   "source": [
    "# 41. Check if two strings are anagrams.\n",
    "\n",
    "str1 =  input('Enter first string')\n",
    "str2 = input('Enter second string')\n",
    "if(sorted(str1) == sorted(str2)):\n",
    "   print('they are anagrams')\n",
    "else:\n",
    "   print('they are not anagrams')"
   ]
  },
  {
   "cell_type": "code",
   "execution_count": 13,
   "id": "6068c8b9-3bfc-420c-890b-3c7f9f88265b",
   "metadata": {},
   "outputs": [
    {
     "name": "stdin",
     "output_type": "stream",
     "text": [
      "Enter a String nityaa\n",
      "y for encoding and n for decoding y\n",
      " 3\n"
     ]
    },
    {
     "name": "stdout",
     "output_type": "stream",
     "text": [
      "endoded string is qlwbdd\n"
     ]
    }
   ],
   "source": [
    "# 42. Encode a string using a Caesar cipher.\n",
    "# 43. Decode a Caesar cipher encoded string.\n",
    "\n",
    "def encoder(text,encode, shift):\n",
    "    result = \"\"\n",
    "    if(not encode):\n",
    "        shift= -shift\n",
    "    for char in text:\n",
    "        if char.isalpha():\n",
    "            is_upper = char.isupper()\n",
    "            \n",
    "            shifted_char = chr((ord(char) - ord('A' if is_upper else 'a') + shift) % 26 + ord('A' if is_upper else 'a'))\n",
    "            \n",
    "            result += shifted_char\n",
    "        else:\n",
    "            result += char\n",
    "\n",
    "    return result\n",
    "\n",
    "str1 = input('Enter a String')\n",
    "encode= bool(input(\"y for encoding and n for decoding\")=='y')\n",
    "shift = int(input())\n",
    "print(f\"{'endoded' if encode else 'decoded'} string is {encoder(str1,encode,shift)}\")"
   ]
  },
  {
   "cell_type": "code",
   "execution_count": null,
   "id": "d9e58d17-6d2b-424a-b9a1-5e9545c7cb99",
   "metadata": {},
   "outputs": [],
   "source": []
  },
  {
   "cell_type": "code",
   "execution_count": 11,
   "id": "77e69d4c-e278-48e2-85ec-0946a3c74470",
   "metadata": {},
   "outputs": [
    {
     "name": "stdin",
     "output_type": "stream",
     "text": [
      "Enter a string hii hello hii\n"
     ]
    },
    {
     "name": "stdout",
     "output_type": "stream",
     "text": [
      "hii\n"
     ]
    }
   ],
   "source": [
    "# 44. Find the most frequent word in a string.\n",
    "\n",
    "str = input('Enter a string')\n",
    "list = str.split()\n",
    "print(max(list,key=list.count))"
   ]
  },
  {
   "cell_type": "code",
   "execution_count": 1,
   "id": "d77fa7f5-8f7a-4944-b7c4-0a9b9f4aec07",
   "metadata": {},
   "outputs": [
    {
     "name": "stdin",
     "output_type": "stream",
     "text": [
      "Enter a String hii hello hii\n"
     ]
    },
    {
     "name": "stdout",
     "output_type": "stream",
     "text": [
      "{'hello', 'hii'}\n"
     ]
    }
   ],
   "source": [
    "# 45. Find all unique words in a string.\n",
    "\n",
    "str = input('Enter a String')\n",
    "list = set(str.split())\n",
    "print(list)"
   ]
  },
  {
   "cell_type": "code",
   "execution_count": 2,
   "id": "837b8f0f-1a4f-4963-bdaa-b493ae07d65a",
   "metadata": {},
   "outputs": [
    {
     "name": "stdin",
     "output_type": "stream",
     "text": [
      " nityaa\n"
     ]
    },
    {
     "name": "stdout",
     "output_type": "stream",
     "text": [
      "syllables in nityaa is 2\n"
     ]
    }
   ],
   "source": [
    "# 46. Count the number of syllables in a string.\n",
    "\n",
    "def count_syllables(word):\n",
    "    vowels = \"aeiouAEIOU\"\n",
    "    count = 0\n",
    "    prev_char = ''\n",
    "\n",
    "    for char in word:\n",
    "        if char in vowels and prev_char not in vowels:\n",
    "            count += 1\n",
    "        prev_char = char\n",
    "\n",
    "    return count\n",
    "\n",
    "str1= input()\n",
    "print(f\"syllables in {str1} is {count_syllables(str1)}\")"
   ]
  },
  {
   "cell_type": "code",
   "execution_count": 4,
   "id": "3960738a-b90a-4e50-82f3-69af5e76bd77",
   "metadata": {},
   "outputs": [
    {
     "name": "stdin",
     "output_type": "stream",
     "text": [
      "Enter a String hii! how are you\n"
     ]
    },
    {
     "name": "stdout",
     "output_type": "stream",
     "text": [
      "These are the special characters:  ['!']\n"
     ]
    }
   ],
   "source": [
    "# 47. Check if a string contains any special characters.\n",
    "\n",
    "str = input('Enter a String')\n",
    "specialCharacters= []\n",
    "for char in str:\n",
    "    if(not char.isalnum() and char not in specialCharacters and char != ' '):\n",
    "        specialCharacters.append(char)\n",
    "if(len(specialCharacters)>0):\n",
    "    print(\"These are the special characters: \",specialCharacters)\n",
    "else:\n",
    "    print(\"No special characters\")"
   ]
  },
  {
   "cell_type": "code",
   "execution_count": 6,
   "id": "2216a0b9-41e0-4d0f-8a25-7672ef20fe9a",
   "metadata": {},
   "outputs": [
    {
     "name": "stdin",
     "output_type": "stream",
     "text": [
      "Enter a string nitya\n",
      "Enter the position 3\n"
     ]
    },
    {
     "name": "stdout",
     "output_type": "stream",
     "text": [
      "Updated string is:  nita\n"
     ]
    }
   ],
   "source": [
    "# 48. Remove the nth word from a string.\n",
    "\n",
    "str = input('Enter a string')\n",
    "position = int(input('Enter the position'))\n",
    "# list = str.split()\n",
    "# list.pop(position-1)\n",
    "# result = \" \".join(list)\n",
    "\n",
    "# METHOD 2\n",
    "\n",
    "result = str[0:position]+str[position+1:]\n",
    "\n",
    "print('Updated string is: ',result)\n",
    "\n"
   ]
  },
  {
   "cell_type": "code",
   "execution_count": 10,
   "id": "90f2cdf8-6b73-4f61-8fbd-e96f131f51ee",
   "metadata": {},
   "outputs": [
    {
     "name": "stdin",
     "output_type": "stream",
     "text": [
      "Enter a string hii how are you\n",
      "Enter the position 2\n",
      "Enter te word nityaa\n"
     ]
    },
    {
     "name": "stdout",
     "output_type": "stream",
     "text": [
      "Updated string is:  hii nityaa how are you\n"
     ]
    }
   ],
   "source": [
    "# 49. Insert a word at the nth position in a string.\n",
    "\n",
    "str = input('Enter a string')\n",
    "position = int(input('Enter the position'))\n",
    "word = input('Enter te word')\n",
    "list = str.split()\n",
    "list.insert(position-1,word)\n",
    "print('Updated string is: ',\" \".join(list))"
   ]
  },
  {
   "cell_type": "code",
   "execution_count": null,
   "id": "2bad7e41-fc4b-4e2a-86fb-475228bd07a1",
   "metadata": {},
   "outputs": [],
   "source": [
    "# 50. Convert a CSV string to a list of lists."
   ]
  }
 ],
 "metadata": {
  "kernelspec": {
   "display_name": "Python 3 (ipykernel)",
   "language": "python",
   "name": "python3"
  },
  "language_info": {
   "codemirror_mode": {
    "name": "ipython",
    "version": 3
   },
   "file_extension": ".py",
   "mimetype": "text/x-python",
   "name": "python",
   "nbconvert_exporter": "python",
   "pygments_lexer": "ipython3",
   "version": "3.10.8"
  }
 },
 "nbformat": 4,
 "nbformat_minor": 5
}
