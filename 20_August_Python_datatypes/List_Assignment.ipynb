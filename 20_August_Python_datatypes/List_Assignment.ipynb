{
 "cells": [
  {
   "cell_type": "code",
   "execution_count": 14,
   "id": "cda830ff-c09a-4e07-a9fe-624603b0d3a4",
   "metadata": {},
   "outputs": [
    {
     "name": "stdin",
     "output_type": "stream",
     "text": [
      "Enter number of elements 5\n",
      "Enter the list item 1\n",
      "Enter the list item 2\n",
      "Enter the list item 3\n",
      "Enter the list item 4\n",
      "Enter the list item 5\n"
     ]
    },
    {
     "name": "stdout",
     "output_type": "stream",
     "text": [
      "5\n"
     ]
    }
   ],
   "source": [
    "# 2. Find the length of a list without using the `len()` function.\n",
    "\n",
    "n= int(input('Enter number of elements'))\n",
    "list = []\n",
    "for i in range(n):\n",
    "    list.append(input('Enter the list item'))\n",
    "    \n",
    "# count = 0\n",
    "# for i in range(len(list)):\n",
    "#     count+=1\n",
    "    \n",
    "count = sum( 1 for i in range(n))\n",
    "print(count)  "
   ]
  },
  {
   "cell_type": "code",
   "execution_count": 1,
   "id": "b4f25f34-c437-4a8d-a05c-e02fd20ff170",
   "metadata": {},
   "outputs": [
    {
     "name": "stdin",
     "output_type": "stream",
     "text": [
      "Enter space seperated list items 1 2 3 4 5\n",
      "Enter item to be added 6\n"
     ]
    },
    {
     "name": "stdout",
     "output_type": "stream",
     "text": [
      "updated list is: [1, 2, 3, 4, 5, 6]\n"
     ]
    }
   ],
   "source": [
    "# 3. Append an element to the end of a list.\n",
    "\n",
    "listStr = input('Enter space seperated list items')\n",
    "item = int(input ('Enter item to be added'))\n",
    "list = list(int(x) for x in listStr.split())\n",
    "list.append(item)\n",
    "print('updated list is:',list)\n"
   ]
  },
  {
   "cell_type": "code",
   "execution_count": 1,
   "id": "1631af78-2761-4c2c-b93d-613dd508ae2c",
   "metadata": {},
   "outputs": [
    {
     "name": "stdin",
     "output_type": "stream",
     "text": [
      "Enter space seperated list items 1 2 3 4 5\n",
      "Enter item to be added 9\n",
      "Enter the position 3\n"
     ]
    },
    {
     "name": "stdout",
     "output_type": "stream",
     "text": [
      "updated list is: [1, 2, 9, 3, 4, 5]\n"
     ]
    }
   ],
   "source": [
    "# 4. Insert an element at a specific index in a list.\n",
    "\n",
    "listStr = input('Enter space seperated list items')\n",
    "item = int(input ('Enter item to be added'))\n",
    "position = int (input('Enter the position'))\n",
    "list = list(int(x) for x in listStr.split())\n",
    "list.insert(position-1,item)\n",
    "print('updated list is:',list)\n"
   ]
  },
  {
   "cell_type": "code",
   "execution_count": 1,
   "id": "f9ad17ee-d5a7-4043-8273-7d01dd767ddb",
   "metadata": {},
   "outputs": [
    {
     "name": "stdin",
     "output_type": "stream",
     "text": [
      "Enter space seperated list items 1 2 3 4 5 6\n",
      "Enter item to be added 4\n"
     ]
    },
    {
     "name": "stdout",
     "output_type": "stream",
     "text": [
      "updated list is: [1, 2, 3, 5, 6]\n"
     ]
    }
   ],
   "source": [
    "# 5. Remove an element from a list by its value.\n",
    "\n",
    "listStr = input('Enter space seperated list items')\n",
    "item = int(input ('Enter item to be added'))\n",
    "list = list(int(x) for x in listStr.split())\n",
    "list.remove(item)\n",
    "print('updated list is:',list)"
   ]
  },
  {
   "cell_type": "code",
   "execution_count": 1,
   "id": "2bfd268b-793c-4577-b249-0439ece3127e",
   "metadata": {},
   "outputs": [
    {
     "name": "stdin",
     "output_type": "stream",
     "text": [
      "Enter space seperated list items 1 2 3 4 5 6\n",
      "Enter the position 3\n"
     ]
    },
    {
     "name": "stdout",
     "output_type": "stream",
     "text": [
      "updated list is: [1, 2, 4, 5, 6]\n"
     ]
    }
   ],
   "source": [
    "# 6. Remove an element from a list by its index.\n",
    "\n",
    "listStr = input('Enter space seperated list items')\n",
    "position = int (input('Enter the position'))\n",
    "list = list(int(x) for x in listStr.split())\n",
    "list.pop(position-1)\n",
    "print('updated list is:',list)"
   ]
  },
  {
   "cell_type": "code",
   "execution_count": 2,
   "id": "bd2e008c-54f3-49f5-aa74-1679842b5ab5",
   "metadata": {},
   "outputs": [
    {
     "name": "stdin",
     "output_type": "stream",
     "text": [
      "Enter space seperated list items 44 56 22 78 93 2 12 45 65 39 83\n"
     ]
    }
   ],
   "source": [
    "listStr = input('Enter space seperated list items')\n",
    "input_list = list(int(x) for x in listStr.split())"
   ]
  },
  {
   "cell_type": "code",
   "execution_count": 3,
   "id": "b3b08804-3ff0-4bec-9b0c-679c758c750d",
   "metadata": {},
   "outputs": [
    {
     "name": "stdin",
     "output_type": "stream",
     "text": [
      "Enter item to be added 93\n"
     ]
    },
    {
     "name": "stdout",
     "output_type": "stream",
     "text": [
      "item exists in a list at index 4\n"
     ]
    }
   ],
   "source": [
    "# 7. Check if an element exists in a list.\n",
    "# 8. Find the index of the first occurrence of an element in a list.\n",
    "\n",
    "item = int(input ('Enter item to be added'))\n",
    "if(item in input_list):\n",
    "    print('item exists in a list at index',input_list.index(item))\n",
    "else:\n",
    "    print('element does not exists in a list.')"
   ]
  },
  {
   "cell_type": "code",
   "execution_count": 4,
   "id": "14543110-1401-4df6-bfeb-6d2d048b4906",
   "metadata": {},
   "outputs": [
    {
     "name": "stdin",
     "output_type": "stream",
     "text": [
      "Enter item to be added 56\n"
     ]
    },
    {
     "name": "stdout",
     "output_type": "stream",
     "text": [
      "56 occurrences in [44, 56, 22, 78, 93, 2, 12, 45, 65, 39, 83] is 1\n"
     ]
    }
   ],
   "source": [
    "# 9. Count the occurrences of an element in a list.\n",
    "\n",
    "item = int(input ('Enter item to be added'))\n",
    "count = input_list.count(item)\n",
    "print(item,'occurrences in',input_list,'is',count)"
   ]
  },
  {
   "cell_type": "code",
   "execution_count": 6,
   "id": "bd31b42b-4d55-4384-a253-2bed04bc57c3",
   "metadata": {},
   "outputs": [
    {
     "name": "stdout",
     "output_type": "stream",
     "text": [
      "Reversed list is [83, 39, 65, 45, 12, 2, 93, 78, 22, 56, 44]\n"
     ]
    }
   ],
   "source": [
    "# 10. Reverse the order of elements in a list.\n",
    "\n",
    "print('Reversed list is',input_list[::-1])"
   ]
  },
  {
   "cell_type": "code",
   "execution_count": 7,
   "id": "bc0849e1-f75c-4553-a3f3-5a613d155358",
   "metadata": {},
   "outputs": [
    {
     "name": "stdout",
     "output_type": "stream",
     "text": [
      "sorted list is [2, 12, 22, 39, 44, 45, 56, 65, 78, 83, 93]\n"
     ]
    }
   ],
   "source": [
    "# 11. Sort a list in ascending order.\n",
    "\n",
    "sorted_list = sorted(input_list)\n",
    "print('sorted list is',sorted_list)"
   ]
  },
  {
   "cell_type": "code",
   "execution_count": 9,
   "id": "2571eeda-52a0-474d-ab19-aaa345013dc9",
   "metadata": {},
   "outputs": [
    {
     "name": "stdout",
     "output_type": "stream",
     "text": [
      "sorted list is [93, 83, 78, 65, 56, 45, 44, 39, 22, 12, 2]\n"
     ]
    }
   ],
   "source": [
    "# 12. Sort a list in descending order.\n",
    "\n",
    "sorted_list = sorted(input_list,reverse=True)\n",
    "print('sorted list is',sorted_list)"
   ]
  },
  {
   "cell_type": "code",
   "execution_count": 16,
   "id": "662d517a-0e4b-4f31-be1c-d3c156970c23",
   "metadata": {},
   "outputs": [
    {
     "name": "stdout",
     "output_type": "stream",
     "text": [
      "[0, 2, 4, 6, 8, 10, 12, 14, 16, 18, 20]\n"
     ]
    }
   ],
   "source": [
    "# 13. Create a list of even numbers from 1 to 20.\n",
    "\n",
    "# even_list = list(range(2, 21,2))\n",
    "even_list = [x for x in range(21) if x%2==0] \n",
    "\n",
    "print(even_list)"
   ]
  },
  {
   "cell_type": "code",
   "execution_count": 20,
   "id": "2a1fd034-e155-4dec-9c84-b525495127e7",
   "metadata": {},
   "outputs": [
    {
     "name": "stdout",
     "output_type": "stream",
     "text": [
      "[1, 3, 5, 7, 9, 11, 13, 15, 17, 19]\n"
     ]
    }
   ],
   "source": [
    "# 14. Create a list of odd numbers from 1 to 20.\n",
    "\n",
    "# odd_list = list(range(1, 21,2))\n",
    "odd_list = [x for x in range(21) if x%2!=0] \n",
    "\n",
    "print(odd_list)"
   ]
  },
  {
   "cell_type": "code",
   "execution_count": 21,
   "id": "00bb1422-db33-4fbe-8b6b-a7d958de026e",
   "metadata": {},
   "outputs": [
    {
     "name": "stdout",
     "output_type": "stream",
     "text": [
      "539\n"
     ]
    }
   ],
   "source": [
    "# 15. Find the sum of all elements in a list.\n",
    "\n",
    "list_sum = sum(x for x in input_list)\n",
    "print(list_sum)"
   ]
  },
  {
   "cell_type": "code",
   "execution_count": 22,
   "id": "9b65fab7-a63e-439d-894f-fa472fdb55b7",
   "metadata": {},
   "outputs": [
    {
     "name": "stdout",
     "output_type": "stream",
     "text": [
      "the maximum value in a list is  93\n",
      "the minimum value in a list is  2\n"
     ]
    }
   ],
   "source": [
    "# 16. Find the maximum value in a list.\n",
    "# 17. Find the minimum value in a list.\n",
    "\n",
    "list_max = max(input_list)\n",
    "list_min = min(input_list)\n",
    "print('the maximum value in a list is ',list_max)\n",
    "print('the minimum value in a list is ',list_min)"
   ]
  },
  {
   "cell_type": "code",
   "execution_count": 23,
   "id": "e9d7da33-069c-4be3-b980-c208326d69c0",
   "metadata": {},
   "outputs": [
    {
     "name": "stdout",
     "output_type": "stream",
     "text": [
      "list of squares of numbers from 1 to 10 is: [1, 4, 9, 16, 25, 36, 49, 64, 81, 100]\n"
     ]
    }
   ],
   "source": [
    "# 18. Create a list of squares of numbers from 1 to 10.\n",
    "\n",
    "squares_list = [x*x for x in range(1,11)]\n",
    "print('list of squares of numbers from 1 to 10 is:',squares_list)"
   ]
  },
  {
   "cell_type": "code",
   "execution_count": 10,
   "id": "8f0205ea-63a8-45ea-bf62-be7227e6db66",
   "metadata": {},
   "outputs": [],
   "source": [
    "# 19. Create a list of random numbers.\n"
   ]
  },
  {
   "cell_type": "code",
   "execution_count": 1,
   "id": "1f86a607-d624-4a24-901a-30b66a5d78f1",
   "metadata": {},
   "outputs": [
    {
     "name": "stdout",
     "output_type": "stream",
     "text": [
      "List with no duplicates is [65, 39, 44, 12, 78, 83, 22, 93]\n"
     ]
    }
   ],
   "source": [
    "# 20. Remove duplicates from a list.\n",
    "\n",
    "my_list=  [83, 39, 65, 44, 12, 12, 93, 78, 22, 65, 44]\n",
    "my_list = list(set(my_list))\n",
    "print('List with no duplicates is',my_list)"
   ]
  },
  {
   "cell_type": "code",
   "execution_count": 2,
   "id": "c223369e-c2d8-4563-9669-9815fe4bcf28",
   "metadata": {},
   "outputs": [
    {
     "name": "stdout",
     "output_type": "stream",
     "text": [
      "common elements between two lists are {13, 47, 56, 89, 92}\n"
     ]
    }
   ],
   "source": [
    "# 21. Find the common elements between two lists.\n",
    "\n",
    "list1 = [11, 13, 57, 89, 92, 47, 94, 56]\n",
    "list2 = [12, 13, 58 ,89, 92, 47, 95, 56]\n",
    "\n",
    "#  METHOD 1\n",
    "\n",
    "# result = set(list1).intersection(set(list2))\n",
    "\n",
    "# METHOD 2\n",
    "\n",
    "# result = set(list1) & set(list2)\n",
    "\n",
    "# METHOD 3\n",
    "\n",
    "result = [ i for i in list1 if i in list2]\n",
    "\n",
    "print('common elements between two lists are', result )\n"
   ]
  },
  {
   "cell_type": "code",
   "execution_count": 5,
   "id": "206b179d-46a3-4aa8-b469-5f9593a3b8cc",
   "metadata": {},
   "outputs": [
    {
     "name": "stdout",
     "output_type": "stream",
     "text": [
      "common elements between two lists are [11, 57, 94]\n"
     ]
    }
   ],
   "source": [
    "# 22. Find the difference between two lists.\n",
    "\n",
    "list1 = [11, 13, 57, 89, 92, 47, 94, 56]\n",
    "list2 = [12, 13, 58 ,89, 92, 47, 95, 56]\n",
    "\n",
    "#  METHOD 1\n",
    "\n",
    "# result = set(list1)-(set(list1) & set(list2))\n",
    "\n",
    "# METHOD 2\n",
    "\n",
    "result = [ i for i in list1 if i not in list2]\n",
    "\n",
    "print('common elements between two lists are', result )\n"
   ]
  },
  {
   "cell_type": "code",
   "execution_count": 15,
   "id": "30d9ae9e-b09d-460f-97bf-f68651c16a43",
   "metadata": {},
   "outputs": [
    {
     "name": "stdout",
     "output_type": "stream",
     "text": [
      "common elements between two lists are [11, 13, 57, 89, 92, 47, 94, 56, 12, 13, 58, 89, 92, 47, 95, 56]\n"
     ]
    }
   ],
   "source": [
    "# 23. Merge two lists.\n",
    "\n",
    "list1 = [11, 13, 57, 89, 92, 47, 94, 56]\n",
    "list2 = [12, 13, 58 ,89, 92, 47, 95, 56]\n",
    "\n",
    "#  METHOD 1\n",
    "\n",
    "# list1.extend(list2)\n",
    "# result = list1\n",
    "\n",
    "# METHOD 2\n",
    "\n",
    "# result = list1 + list2\n",
    "\n",
    "# METHOD 3\n",
    "\n",
    "# result = [*list1,*list2] \n",
    "\n",
    "# METHOD 4\n",
    "\n",
    "result = [ y for x in [list1,list2] for y in x ]\n",
    "\n",
    "print('common elements between two lists are', result)\n"
   ]
  },
  {
   "cell_type": "code",
   "execution_count": null,
   "id": "612d352b-05f7-4c4e-a0ab-63e33a8b5d5c",
   "metadata": {},
   "outputs": [
    {
     "name": "stdout",
     "output_type": "stream",
     "text": [
      "elements in a list by 2 [22, 26, 114, 178, 184, 94, 188, 112]\n"
     ]
    }
   ],
   "source": [
    "# 24. Multiply all elements in a list by 2.\n",
    "\n",
    "list1 = [11, 13, 57, 89, 92, 47, 94, 56]\n",
    "\n",
    "result = [ y*2 for y in list1 ]\n",
    "\n",
    "print('elements in a list by 2', result)\n"
   ]
  },
  {
   "cell_type": "code",
   "execution_count": 17,
   "id": "bf343748-aed4-4b33-aa43-925cfcc6c21a",
   "metadata": {},
   "outputs": [
    {
     "name": "stdout",
     "output_type": "stream",
     "text": [
      "all even numbers [92, 94, 56]\n"
     ]
    }
   ],
   "source": [
    "# 25. Filter out all even numbers from a list.\n",
    "\n",
    "list1 = [11, 13, 57, 89, 92, 47, 94, 56]\n",
    "\n",
    "result = [ y for y in list1 if y%2==0 ]\n",
    "\n",
    "print('all even numbers', result)"
   ]
  },
  {
   "cell_type": "code",
   "execution_count": 1,
   "id": "83621f82-7d25-4fc2-af2b-33a3b9efc8f5",
   "metadata": {},
   "outputs": [
    {
     "name": "stdout",
     "output_type": "stream",
     "text": [
      "a list of strings to a list of integers [11, 13, 57, 89, 92, 47, 94, 56]\n"
     ]
    }
   ],
   "source": [
    "# 26. Convert a list of strings to a list of integers.\n",
    "\n",
    "list1 = ['11', '13', '57', '89', '92', '47', '94', '56']\n",
    "\n",
    "#  METHOD 1\n",
    "\n",
    "# result = [ int(y) for y in list1 ]\n",
    "\n",
    "#  METHOD 2\n",
    "\n",
    "result = list(map(int,list1))  # map func returns the iterator object that we can convert in any list set etc\n",
    "\n",
    "print('a list of strings to a list of integers', result)\n",
    "\n"
   ]
  },
  {
   "cell_type": "code",
   "execution_count": 2,
   "id": "e232ebdf-449e-428f-8a83-3f7203a2c95d",
   "metadata": {},
   "outputs": [
    {
     "name": "stdout",
     "output_type": "stream",
     "text": [
      "a list of strings to a list of integers ['11', '13', '57', '89', '92', '47', '94', '56']\n"
     ]
    }
   ],
   "source": [
    "# 27. Convert a list of integers to a list of strings.\n",
    "\n",
    "list1 = [11, 13, 57, 89, 92, 47, 94, 56]\n",
    "\n",
    "#  METHOD 1\n",
    "\n",
    "# result = [ str(y) for y in list1 ]\n",
    "\n",
    "#  METHOD 2\n",
    "\n",
    "result = list(map(str,list1))\n",
    "\n",
    "print('a list of strings to a list of integers', result)\n"
   ]
  },
  {
   "cell_type": "code",
   "execution_count": 11,
   "id": "9627ca4f-dcab-4dc9-85aa-e34b993bb054",
   "metadata": {},
   "outputs": [
    {
     "name": "stdout",
     "output_type": "stream",
     "text": [
      "Flatten list is [11, 13, 57, 89, 92, 47, 94, 56, 54]\n"
     ]
    }
   ],
   "source": [
    "# 28. Flatten a nested list.\n",
    "\n",
    "list1 = [[11, 13, 57], [89, 92, 47], [94, 56,54]]\n",
    "\n",
    "#  METHOD 1\n",
    "# result = [ y for x in list1 for y in x ]\n",
    "\n",
    "#  METHOD 2\n",
    "# result = []\n",
    "# for sublist in list1:\n",
    "#     result.extend(sublist)\n",
    "\n",
    "#  METHOD 3\n",
    "\n",
    "result = sum(list1,[]) # here we are suming every value of the list i.e. the sub list starting value is the empty list otherwise it is \n",
    "\n",
    "\n",
    "print('Flatten list is', result)"
   ]
  },
  {
   "cell_type": "code",
   "execution_count": 2,
   "id": "35ab1168-795a-4163-b37a-6f25c68c2d6f",
   "metadata": {},
   "outputs": [
    {
     "name": "stdin",
     "output_type": "stream",
     "text": [
      "Enter number of elements in fibonacci 10\n"
     ]
    },
    {
     "name": "stdout",
     "output_type": "stream",
     "text": [
      " Elements in fibonacci are: [0, 1, 1, 2, 3, 5, 8, 13, 21, 34]\n"
     ]
    }
   ],
   "source": [
    "# 29. Create a list of the first 10 Fibonacci numbers.\n",
    "\n",
    "n = int(input('Enter number of elements in fibonacci'))\n",
    "result = [0,1]\n",
    "for i in range(n-2):\n",
    "    result.append(result[i]+result[i+1])\n",
    "print (' Elements in fibonacci are:',result)"
   ]
  },
  {
   "cell_type": "code",
   "execution_count": 4,
   "id": "7e249324-b57a-4241-9c0d-679f0581036f",
   "metadata": {},
   "outputs": [
    {
     "name": "stdout",
     "output_type": "stream",
     "text": [
      "List is UnSorted\n"
     ]
    }
   ],
   "source": [
    "# 30. Check if a list is sorted.\n",
    "\n",
    "#  APPROCH USED -> if every no is greator than its prev one than the list is sorted else not.\n",
    "list1 = [1,2,5,4,3]\n",
    "flag = True\n",
    "for i in range(len(list1) - 1):\n",
    "    if list1[i + 1] < list1[i]:\n",
    "        print('List is UnSorted')\n",
    "        break\n",
    "else:\n",
    "    print('List is Sorted')\n",
    "    \n",
    "#  in this if the for excuted without the break statement that the else will be executed\n"
   ]
  },
  {
   "cell_type": "code",
   "execution_count": 5,
   "id": "6900a852-8e7c-41c9-a2bb-752fdf5752a7",
   "metadata": {},
   "outputs": [
    {
     "name": "stdin",
     "output_type": "stream",
     "text": [
      "enter the list elements seperated by space 1 2 3 4 5 6 7 8\n",
      "number of elements to be rotated 18\n"
     ]
    },
    {
     "name": "stdout",
     "output_type": "stream",
     "text": [
      "[7, 8, 1, 2, 3, 4, 5, 6]\n"
     ]
    }
   ],
   "source": [
    "# 31. Rotate a list to the left by `n` positions.\n",
    "\n",
    "listStr= input('enter the list elements seperated by space')\n",
    "list1 = list(int(x) for x in listStr.split())\n",
    "leftRotation = int(input('number of elements to be rotated'))\n",
    "n=len(list1)-leftRotation%len(list1)\n",
    "result =[*list1[n-1::-1],*list1[-1:n-1:-1]][::-1]\n",
    "print(result)\n"
   ]
  },
  {
   "cell_type": "code",
   "execution_count": 2,
   "id": "54dd5da7-ca3f-4e31-815e-254695a6b66e",
   "metadata": {},
   "outputs": [],
   "source": [
    "# 32. Rotate a list to the right by `n` positions.\n",
    "\n",
    "listStr= input('enter the list elements seperated by space')\n",
    "list1 = list(int(x) for x in listStr.split())\n",
    "rightRotation = int(input('number of elements to be rotated'))\n",
    "n=rightRotation%len(list1)\n",
    "result =[*list1[n-1::-1],*list1[-1:n-1:-1]][::-1]\n",
    "print(result)\n"
   ]
  },
  {
   "cell_type": "code",
   "execution_count": 5,
   "id": "243cf4ed-1289-4356-96ba-7cbb72901e57",
   "metadata": {},
   "outputs": [
    {
     "name": "stdout",
     "output_type": "stream",
     "text": [
      "Prime Number are : [1, 2, 3, 5, 7, 11, 13, 17, 19, 23, 29, 31, 37, 41, 43, 47]\n"
     ]
    }
   ],
   "source": [
    "# 33. Create a list of prime numbers up to 50.\n",
    "\n",
    "def isPrimeNumber(num):\n",
    "    for i in range(2,num//2+1):\n",
    "        if(num % i == 0):\n",
    "            return False    \n",
    "    else:\n",
    "        return True\n",
    "    \n",
    "primeNumbers=[]\n",
    "for i in range(1,51):\n",
    "    if(isPrimeNumber(i)):\n",
    "        primeNumbers.append(i)\n",
    "print('Prime Number are :',primeNumbers)\n",
    "    \n"
   ]
  },
  {
   "cell_type": "code",
   "execution_count": 19,
   "id": "a870f6cf-014c-4fd1-985e-1274f2fa6f0d",
   "metadata": {},
   "outputs": [
    {
     "name": "stdout",
     "output_type": "stream",
     "text": [
      "[[1, 2, 3], [4, 5, 6], [7, 8, 9], [10]]\n"
     ]
    }
   ],
   "source": [
    "# 34. Split a list into chunks of size `n`.\n",
    "          \n",
    "list1 = [1,2,3,4,5,6,7,8,9,10]\n",
    "n=3\n",
    "result=[]\n",
    "# for i in range(len(list1)):\n",
    "#     if(i*n < len(list1)):\n",
    "#         result.append(list1[i*n:(i+1)*n])\n",
    "# print(result)\n",
    "\n",
    "for i in range(0,len(list1),n):\n",
    "     result.append(list1[i:(i+n)])\n",
    "print(result)"
   ]
  },
  {
   "cell_type": "code",
   "execution_count": 21,
   "id": "b261e0d6-0e7c-41ea-98be-b4dca0a6cdad",
   "metadata": {},
   "outputs": [
    {
     "name": "stdout",
     "output_type": "stream",
     "text": [
      "92\n"
     ]
    }
   ],
   "source": [
    "# 35. Find the second largest number in a list.\n",
    "\n",
    "list1 = [11, 13, 57, 89, 92, 47, 94, 56]\n",
    "list1.remove(max(list1))\n",
    "print(max(list1))"
   ]
  },
  {
   "cell_type": "code",
   "execution_count": 23,
   "id": "c0bc53cb-0810-49a9-b07e-22d0f7a2496c",
   "metadata": {},
   "outputs": [
    {
     "name": "stdout",
     "output_type": "stream",
     "text": [
      "[121, 169, 3249, 7921, 8464, 2209, 8836, 3136]\n"
     ]
    }
   ],
   "source": [
    "# 36. Replace every element in a list with its square.\n",
    "\n",
    "list1 = [11, 13, 57, 89, 92, 47, 94, 56]\n",
    "list1 = [ x*x for x in list1]\n",
    "print(list1)"
   ]
  },
  {
   "cell_type": "code",
   "execution_count": 29,
   "id": "0056235b-4090-44e6-9509-312458f64e79",
   "metadata": {},
   "outputs": [
    {
     "name": "stdout",
     "output_type": "stream",
     "text": [
      "{11: 0, 13: 1, 57: 2, 89: 3, 92: 4, 47: 5, 94: 6, 56: 7}\n"
     ]
    }
   ],
   "source": [
    "# 37. Convert a list to a dictionary where list elements become keys and their indices become values.\n",
    "\n",
    "list1 = [11, 13, 57, 89, 92, 47, 94, 56]\n",
    "dict1 = {}\n",
    "for i,ele in enumerate(list1):\n",
    "    dict1[ele] = i\n",
    "print(dict1)"
   ]
  },
  {
   "cell_type": "code",
   "execution_count": 26,
   "id": "323d2e96-20ac-4aed-b197-dde63384f83b",
   "metadata": {},
   "outputs": [
    {
     "name": "stdout",
     "output_type": "stream",
     "text": [
      "Shuffled list [13, 56, 57, 92, 11, 94, 89, 47]\n"
     ]
    }
   ],
   "source": [
    "# 38. Shuffle the elements of a list randomly.\n",
    "\n",
    "import random \n",
    "list1 = [11, 13, 57, 89, 92, 47, 94, 56]\n",
    "random.shuffle(list1)\n",
    "print(\"Shuffled list\",list1)"
   ]
  },
  {
   "cell_type": "code",
   "execution_count": 25,
   "id": "35121ec8-c8e2-4dbc-a081-14654a62f273",
   "metadata": {},
   "outputs": [
    {
     "name": "stdout",
     "output_type": "stream",
     "text": [
      "Have common elements\n"
     ]
    }
   ],
   "source": [
    "# 40. Check if two lists have at least one element in common.\n",
    "\n",
    "list1 = [11, -13, 57, 89, -92, -47, 94, 56]\n",
    "list2 = [11, -12, 59, 59, -90, -43, 91, 55]\n",
    "common_elements = [i for i in list1 if i in list2]\n",
    "print(\"Have common elements\" if len(common_elements)>0 else \"Have no common elements\")"
   ]
  },
  {
   "cell_type": "code",
   "execution_count": 24,
   "id": "938db8bb-f1af-43e5-9132-ad2e8818db02",
   "metadata": {},
   "outputs": [
    {
     "name": "stdout",
     "output_type": "stream",
     "text": [
      "None\n",
      "<class 'NoneType'>\n"
     ]
    }
   ],
   "source": [
    "# 41. Remove all elements from a list.\n",
    "\n",
    "list1 = [11, -13, 57, 89, -92, -47, 94, 56]\n",
    "updated_list = list1.clear()\n",
    "print(updated_list)\n"
   ]
  },
  {
   "cell_type": "code",
   "execution_count": 18,
   "id": "77ed2e3e-e458-44b5-9429-e48b51e29d43",
   "metadata": {},
   "outputs": [
    {
     "name": "stdout",
     "output_type": "stream",
     "text": [
      "[11, 0, 57, 89, 0, 0, 94, 56]\n"
     ]
    }
   ],
   "source": [
    "# 42. Replace negative numbers in a list with 0.\n",
    "\n",
    "list1 = [11, -13, 57, 89, -92, -47, 94, 56]\n",
    "updated_list = [i if i>0 else 0 for i in list1]\n",
    "print(updated_list)"
   ]
  },
  {
   "cell_type": "code",
   "execution_count": 14,
   "id": "2156bd45-6ff9-4611-94b4-d738f6551a11",
   "metadata": {},
   "outputs": [
    {
     "name": "stdin",
     "output_type": "stream",
     "text": [
      "Enter a string hii nityaa here\n"
     ]
    },
    {
     "name": "stdout",
     "output_type": "stream",
     "text": [
      "['hii', 'nityaa', 'here']\n"
     ]
    }
   ],
   "source": [
    "# 43. Convert a string into a list of words.\n",
    "\n",
    "str1=input(\"Enter a string\")\n",
    "print(str1.split())"
   ]
  },
  {
   "cell_type": "code",
   "execution_count": 13,
   "id": "a133910f-57a4-42a6-9d9b-6edc61a56132",
   "metadata": {},
   "outputs": [
    {
     "name": "stdout",
     "output_type": "stream",
     "text": [
      "hii nityaa here\n"
     ]
    }
   ],
   "source": [
    "# 44. Convert a list of words into a string.\n",
    "\n",
    "list1= [\"hii\", \"nityaa\", \"here\"]\n",
    "str1= \" \".join(list1)\n",
    "print(str1)"
   ]
  },
  {
   "cell_type": "code",
   "execution_count": 11,
   "id": "bb09bc51-34c3-4e34-bec0-a92b700bc770",
   "metadata": {},
   "outputs": [
    {
     "name": "stdin",
     "output_type": "stream",
     "text": [
      "Enter a number 5\n"
     ]
    },
    {
     "name": "stdout",
     "output_type": "stream",
     "text": [
      "[1, 2, 4, 8, 16]\n"
     ]
    }
   ],
   "source": [
    "# 45. Create a list of the first `n` powers of 2.\n",
    "\n",
    "n = int(input(\"Enter a number\"))\n",
    "print([2**i for i in range(n)])"
   ]
  },
  {
   "cell_type": "code",
   "execution_count": 10,
   "id": "37f93f91-9f0b-42f8-94d9-c4391f237551",
   "metadata": {},
   "outputs": [
    {
     "name": "stdin",
     "output_type": "stream",
     "text": [
      " hii nityaa here\n"
     ]
    },
    {
     "name": "stdout",
     "output_type": "stream",
     "text": [
      "shortest word is nityaa\n"
     ]
    }
   ],
   "source": [
    "# 46. Find the longest string in a list of strings.\n",
    "\n",
    "str1 = input().split()\n",
    "longest_word = max(str1,key=len)\n",
    "print(f\"shortest word is {longest_word}\")"
   ]
  },
  {
   "cell_type": "code",
   "execution_count": 9,
   "id": "7115bcb5-2899-4bd3-90c9-d3c13f39b2be",
   "metadata": {},
   "outputs": [
    {
     "name": "stdin",
     "output_type": "stream",
     "text": [
      " hi nityaa here\n"
     ]
    },
    {
     "name": "stdout",
     "output_type": "stream",
     "text": [
      "shortest word is hi\n"
     ]
    }
   ],
   "source": [
    "# 47. Find the shortest string in a list of strings.\n",
    "\n",
    "str1 = input().split()\n",
    "shortest_word = min(str1,key=len)\n",
    "print(f\"shortest word is {shortest_word}\")"
   ]
  },
  {
   "cell_type": "code",
   "execution_count": 2,
   "id": "fd0c6db6-d369-4405-b58e-b7fd0d8bc09e",
   "metadata": {},
   "outputs": [
    {
     "name": "stdin",
     "output_type": "stream",
     "text": [
      "Enter a number 5\n"
     ]
    },
    {
     "name": "stdout",
     "output_type": "stream",
     "text": [
      "the first 5 triangular numbers [1, 3, 6, 10, 15]\n"
     ]
    }
   ],
   "source": [
    "# 48. Create a list of the first `n` triangular numbers.\n",
    "\n",
    "n = int(input(\"Enter a number\"))\n",
    "list1 = [(i*(i+1))//2 for i in range(1,n+1)]\n",
    "print(f\"the first {n} triangular numbers {list1}\")"
   ]
  },
  {
   "cell_type": "code",
   "execution_count": 9,
   "id": "59a36a78-3be6-4f9a-a516-053002d4ca01",
   "metadata": {},
   "outputs": [
    {
     "name": "stdout",
     "output_type": "stream",
     "text": [
      "It is not a subsequence\n"
     ]
    }
   ],
   "source": [
    "# 49. Check if a list contains another list as a subsequence.\n",
    "\n",
    "list1 = [1,2,3,4,5,6,7,8]\n",
    "list2=[3,4,5]\n",
    "print('It is a subsequence' if(list2 in list1) else 'It is not a subsequence')"
   ]
  },
  {
   "cell_type": "code",
   "execution_count": 5,
   "id": "67c870c7-6e44-427d-96db-ffdf24610fd0",
   "metadata": {},
   "outputs": [
    {
     "name": "stdout",
     "output_type": "stream",
     "text": [
      "Updated list is: [1, 2, 3, 7, 5, 6, 4, 8]\n"
     ]
    }
   ],
   "source": [
    "# 50. Swap two elements in a list by their indices.\n",
    "\n",
    "list1=[1,2,3,4,5,6,7,8]\n",
    "position1= 3 \n",
    "position2= 6\n",
    "list1[position1],list1[position2]=list1[position2],list1[position1]\n",
    "print('Updated list is:',list1)"
   ]
  }
 ],
 "metadata": {
  "kernelspec": {
   "display_name": "Python 3 (ipykernel)",
   "language": "python",
   "name": "python3"
  },
  "language_info": {
   "codemirror_mode": {
    "name": "ipython",
    "version": 3
   },
   "file_extension": ".py",
   "mimetype": "text/x-python",
   "name": "python",
   "nbconvert_exporter": "python",
   "pygments_lexer": "ipython3",
   "version": "3.10.8"
  }
 },
 "nbformat": 4,
 "nbformat_minor": 5
}
