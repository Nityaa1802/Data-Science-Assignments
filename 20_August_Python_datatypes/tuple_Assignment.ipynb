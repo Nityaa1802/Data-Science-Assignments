{
 "cells": [
  {
   "cell_type": "code",
   "execution_count": 4,
   "id": "f50a28f1-20c6-4fa1-ad6c-8725f0bf3ae3",
   "metadata": {},
   "outputs": [
    {
     "name": "stdout",
     "output_type": "stream",
     "text": [
      "(1, 2, 3, 4, 5)\n"
     ]
    }
   ],
   "source": [
    "# 1. Create a tuple with integers from 1 to 5.\n",
    "tuple1=tuple(range(1,6))\n",
    "print(tuple1)"
   ]
  },
  {
   "cell_type": "code",
   "execution_count": 9,
   "id": "84bf4ea0-0baf-466a-9804-26f398004711",
   "metadata": {},
   "outputs": [
    {
     "name": "stdout",
     "output_type": "stream",
     "text": [
      "Third index of the tuple is  3\n"
     ]
    }
   ],
   "source": [
    "# 2. Access the third element of a tuple.\n",
    "\n",
    "print(\"Third index of the tuple is \",tuple1[2])"
   ]
  },
  {
   "cell_type": "code",
   "execution_count": 10,
   "id": "8ef0e27d-a0f7-4b08-bff1-e41625e2de15",
   "metadata": {},
   "outputs": [
    {
     "name": "stdout",
     "output_type": "stream",
     "text": [
      "Length of the tuple is:  5\n"
     ]
    }
   ],
   "source": [
    "# 3. Find the length of a tuple without using the `len()` function.\n",
    "\n",
    "print(\"Length of the tuple is: \",sum(1 for i in tuple1))"
   ]
  },
  {
   "cell_type": "code",
   "execution_count": 16,
   "id": "bb00fd1a-75a7-41be-b9ec-bbaf18990c32",
   "metadata": {},
   "outputs": [
    {
     "name": "stdin",
     "output_type": "stream",
     "text": [
      "Enter a number 1\n"
     ]
    },
    {
     "name": "stdout",
     "output_type": "stream",
     "text": [
      "the occurrences of an element in a tuple is  0\n"
     ]
    }
   ],
   "source": [
    "# 4. Count the occurrences of an element in a tuple is \", tuple1.count(n) if tuple1.find(n) else \"0\").\n",
    "\n",
    "tuple1=(44, 56, 22, 78, 93, 22, 12, 45, 65, 22, 83)\n",
    "n = int(input(\"Enter a number\"))\n",
    "print(\"the occurrences of an element in a tuple is \", tuple1.count(n))"
   ]
  },
  {
   "cell_type": "code",
   "execution_count": 19,
   "id": "4564929d-0650-49ca-98f4-f73d45fdf0fe",
   "metadata": {},
   "outputs": [
    {
     "name": "stdin",
     "output_type": "stream",
     "text": [
      "Enter a number 22\n"
     ]
    },
    {
     "name": "stdout",
     "output_type": "stream",
     "text": [
      "the index of the first occurrence of an element in a tuple 2\n"
     ]
    }
   ],
   "source": [
    "# 5. Find the index of the first occurrence of an element in a tuple.\n",
    "\n",
    "n = int(input(\"Enter a number\"))\n",
    "print(\"the index of the first occurrence of an element in a tuple\", tuple1.index(n))"
   ]
  },
  {
   "cell_type": "code",
   "execution_count": 21,
   "id": "f6e26312-c080-450d-bb3f-72fe49cdf104",
   "metadata": {},
   "outputs": [
    {
     "name": "stdin",
     "output_type": "stream",
     "text": [
      "Enter a number 1\n"
     ]
    },
    {
     "name": "stdout",
     "output_type": "stream",
     "text": [
      "1 does not exist\n"
     ]
    }
   ],
   "source": [
    "# 6. Check if an element exists in a tuple.\n",
    "\n",
    "n = int(input(\"Enter a number\"))\n",
    "print(f\"{n} does exist\"  if tuple1.count(n) else f\"{n} does not exist\")"
   ]
  },
  {
   "cell_type": "code",
   "execution_count": 22,
   "id": "d9fe688d-8006-4155-bf49-a4c5917bdc98",
   "metadata": {},
   "outputs": [
    {
     "name": "stdout",
     "output_type": "stream",
     "text": [
      "[44, 56, 22, 78, 93, 22, 12, 45, 65, 22, 83]\n"
     ]
    }
   ],
   "source": [
    "# 7. Convert a tuple to a list.\n",
    "\n",
    "print(list(tuple1))"
   ]
  },
  {
   "cell_type": "code",
   "execution_count": 23,
   "id": "3ad20522-15ed-43da-a0d1-3106f93701a6",
   "metadata": {},
   "outputs": [
    {
     "name": "stdout",
     "output_type": "stream",
     "text": [
      "(44, 56, 22, 78, 93, 2, 12, 45, 65, 39, 83)\n"
     ]
    }
   ],
   "source": [
    "# 8. Convert a list to a tuple.\n",
    "\n",
    "list1 = [44, 56, 22, 78, 93, 2, 12, 45, 65, 39, 83]\n",
    "print(tuple(list1))"
   ]
  },
  {
   "cell_type": "code",
   "execution_count": 30,
   "id": "b52169b6-5965-4253-bd0f-dfb8ad60e05e",
   "metadata": {},
   "outputs": [
    {
     "name": "stdin",
     "output_type": "stream",
     "text": [
      "Enter three numbers seperated by space 22 33 44\n"
     ]
    },
    {
     "name": "stdout",
     "output_type": "stream",
     "text": [
      "a=22 , b=33 , c=44\n",
      "two parts of ('22', '33', '44') is 22,['33', '44']\n"
     ]
    }
   ],
   "source": [
    "# 9. Unpack the elements of a tuple into variables.\n",
    "\n",
    "tuple1 = tuple(input(\"Enter three numbers seperated by space\").split())\n",
    "a,b,c= tuple1\n",
    "print(f\"a={a} , b={b} , c={c}\")\n",
    "\n",
    "p,*r = tuple1\n",
    "print(f\"two parts of {tuple1} is {p},{r}\")"
   ]
  },
  {
   "cell_type": "code",
   "execution_count": 34,
   "id": "b9c04298-fe3f-4459-b727-82d53168f049",
   "metadata": {},
   "outputs": [
    {
     "name": "stdout",
     "output_type": "stream",
     "text": [
      " tuple of even numbers from 1 to 10 (2, 4, 6, 8, 10)\n"
     ]
    }
   ],
   "source": [
    "# 10. Create a tuple of even numbers from 1 to 10.\n",
    "even=tuple([i for i in range(1,11) if i%2==0])\n",
    "\n",
    "print(\" tuple of even numbers from 1 to 10\", even)"
   ]
  },
  {
   "cell_type": "code",
   "execution_count": 35,
   "id": "d0394432-a54c-4572-bc2f-890fa0b21412",
   "metadata": {},
   "outputs": [
    {
     "name": "stdout",
     "output_type": "stream",
     "text": [
      " tuple of odd numbers from 1 to 10 (1, 3, 5, 7, 9)\n"
     ]
    }
   ],
   "source": [
    "# 11. Create a tuple of odd numbers from 1 to 10.\n",
    "\n",
    "odd= tuple(range(1,11,2))\n",
    "print(\" tuple of odd numbers from 1 to 10\", odd)"
   ]
  },
  {
   "cell_type": "code",
   "execution_count": 37,
   "id": "8f01d3f7-8bd7-4f89-8204-4a651bcc5bd3",
   "metadata": {},
   "outputs": [
    {
     "name": "stdout",
     "output_type": "stream",
     "text": [
      " Concatenation of first even numbers then odd number from 1 to 10 is: (2, 4, 6, 8, 10, 1, 3, 5, 7, 9)\n"
     ]
    }
   ],
   "source": [
    "# 12. Concatenate two tuples.\n",
    "# 30. Merge two tuples.\n",
    "\n",
    "print(\" Concatenation of first even numbers then odd number from 1 to 10 is:\", even+odd)"
   ]
  },
  {
   "cell_type": "code",
   "execution_count": 38,
   "id": "abb6519a-4824-421d-a0a6-ccc22d096881",
   "metadata": {},
   "outputs": [
    {
     "name": "stdout",
     "output_type": "stream",
     "text": [
      "three times repeated even numbers are (2, 4, 6, 8, 10, 2, 4, 6, 8, 10, 2, 4, 6, 8, 10)\n"
     ]
    }
   ],
   "source": [
    "# 13. Repeat a tuple three times.\n",
    "\n",
    "print(\"three times repeated even numbers are\", even*3)"
   ]
  },
  {
   "cell_type": "code",
   "execution_count": 40,
   "id": "641538b8-32c1-4307-a6e1-8f21c5bc8670",
   "metadata": {},
   "outputs": [
    {
     "name": "stdin",
     "output_type": "stream",
     "text": [
      "enter something \n"
     ]
    },
    {
     "name": "stdout",
     "output_type": "stream",
     "text": [
      "tuple is empty\n"
     ]
    }
   ],
   "source": [
    "# 14. Check if a tuple is empty.\n",
    "\n",
    "tuple1 = tuple(input(\"enter something\").split())\n",
    "print(\"tuple is empty\" if tuple1 == tuple() else \"tuple is not empty\")"
   ]
  },
  {
   "cell_type": "code",
   "execution_count": 4,
   "id": "62863cb2-497d-47f6-8364-fb7caabaf94d",
   "metadata": {},
   "outputs": [
    {
     "name": "stdin",
     "output_type": "stream",
     "text": [
      "enter no of columns 3\n",
      "enter something 1 2 3 4 5 6 7 8 9\n"
     ]
    },
    {
     "name": "stdout",
     "output_type": "stream",
     "text": [
      "(('1', '2', '3'), ('4', '5', '6'), ('7', '8', '9'))\n"
     ]
    }
   ],
   "source": [
    "# 15. Create a nested tuple.\n",
    " \n",
    "col = int(input(\"enter no of columns\"))\n",
    "tuple1 = input(\"enter something\").split()\n",
    "nexted_tuple = tuple([tuple(tuple1[i:i+col]) for i in range(0,len(tuple1),col)])\n",
    "print(nexted_tuple)"
   ]
  },
  {
   "cell_type": "code",
   "execution_count": 48,
   "id": "67dc921c-fd64-474a-9bd1-78c6e4169aa4",
   "metadata": {},
   "outputs": [
    {
     "name": "stdout",
     "output_type": "stream",
     "text": [
      "first element of a nested tuple is 1\n"
     ]
    }
   ],
   "source": [
    "# 16. Access the first element of a nested tuple.\n",
    "\n",
    "print(\"first element of a nested tuple is\",nexted_tuple[0][0])"
   ]
  },
  {
   "cell_type": "code",
   "execution_count": 53,
   "id": "689a4a13-455a-4276-ae7d-d6273e944d49",
   "metadata": {},
   "outputs": [
    {
     "name": "stdout",
     "output_type": "stream",
     "text": [
      "('nityaa',)\n"
     ]
    }
   ],
   "source": [
    "# 17. Create a tuple with a single element.\n",
    "tuple1= ('nityaa',)\n",
    "print(tuple1)"
   ]
  },
  {
   "cell_type": "code",
   "execution_count": 63,
   "id": "b74e573d-e059-4f21-a347-3dd8569b0f81",
   "metadata": {},
   "outputs": [
    {
     "name": "stdout",
     "output_type": "stream",
     "text": [
      "Element of tuple 1 is greater\n"
     ]
    }
   ],
   "source": [
    "# 18. Compare two tuples.\n",
    "\n",
    "tuple1 = (1,2,3,7,5)\n",
    "tuple2= (1,2,2,4,8)\n",
    "\n",
    "if(tuple1>tuple2):\n",
    "    print(\"Element of tuple 1 is greater\")\n",
    "elif(tuple1<tuple2):\n",
    "    print(\"Element of tuple 2 is greater\")\n",
    "else:\n",
    "    print(\"Element of tuple 1 and tuple2 are equal\")"
   ]
  },
  {
   "cell_type": "code",
   "execution_count": 70,
   "id": "a526dd6b-76d4-4c72-93af-e29f66efe9da",
   "metadata": {},
   "outputs": [
    {
     "name": "stdout",
     "output_type": "stream",
     "text": [
      "(1, 2, 3, 7, 5)\n"
     ]
    },
    {
     "ename": "NameError",
     "evalue": "name 'tuple1' is not defined",
     "output_type": "error",
     "traceback": [
      "\u001b[0;31m---------------------------------------------------------------------------\u001b[0m",
      "\u001b[0;31mNameError\u001b[0m                                 Traceback (most recent call last)",
      "Cell \u001b[0;32mIn[70], line 6\u001b[0m\n\u001b[1;32m      4\u001b[0m \u001b[38;5;28mprint\u001b[39m(\u001b[38;5;124mf\u001b[39m\u001b[38;5;124m\"\u001b[39m\u001b[38;5;132;01m{\u001b[39;00mtuple1\u001b[38;5;132;01m}\u001b[39;00m\u001b[38;5;124m\"\u001b[39m \u001b[38;5;28;01mif\u001b[39;00m tuple1 \u001b[38;5;28;01melse\u001b[39;00m\u001b[38;5;124m\"\u001b[39m\u001b[38;5;124mtuple dont exist\u001b[39m\u001b[38;5;124m\"\u001b[39m)\n\u001b[1;32m      5\u001b[0m \u001b[38;5;28;01mdel\u001b[39;00m(tuple1)\n\u001b[0;32m----> 6\u001b[0m \u001b[38;5;28mprint\u001b[39m(\u001b[38;5;124mf\u001b[39m\u001b[38;5;124m\"\u001b[39m\u001b[38;5;132;01m{\u001b[39;00mtuple1\u001b[38;5;132;01m}\u001b[39;00m\u001b[38;5;124m\"\u001b[39m \u001b[38;5;28;01mif\u001b[39;00m \u001b[43mtuple1\u001b[49m\u001b[38;5;241m==\u001b[39m none \u001b[38;5;28;01melse\u001b[39;00m\u001b[38;5;124m\"\u001b[39m\u001b[38;5;124mtuple dont exist\u001b[39m\u001b[38;5;124m\"\u001b[39m)\n",
      "\u001b[0;31mNameError\u001b[0m: name 'tuple1' is not defined"
     ]
    }
   ],
   "source": [
    "# 19. Delete a tuple.\n",
    "\n",
    "tuple1 = (1,2,3,7,5)\n",
    "print(f\"{tuple1}\" if tuple1 else\"tuple dont exist\")\n",
    "del(tuple1)\n",
    "print(f\"{tuple1}\" if tuple1== none else\"tuple dont exist\")\n"
   ]
  },
  {
   "cell_type": "code",
   "execution_count": 71,
   "id": "b7009776-a82c-448c-97d8-78297fbabf87",
   "metadata": {},
   "outputs": [
    {
     "name": "stdout",
     "output_type": "stream",
     "text": [
      "(78, 93, 2)\n"
     ]
    }
   ],
   "source": [
    "# 20. Slice a tuple.\n",
    "\n",
    "tuple1= (44, 56, 22, 78, 93, 2, 12, 45, 65, 39, 83)\n",
    "print(tuple1[3:6])"
   ]
  },
  {
   "cell_type": "code",
   "execution_count": 72,
   "id": "24f152dc-d311-49cb-a257-78696493d222",
   "metadata": {},
   "outputs": [
    {
     "name": "stdout",
     "output_type": "stream",
     "text": [
      "Maximum number in (44, 56, 22, 78, 93, 2, 12, 45, 65, 39, 83) is 93\n",
      "Minimum number in (44, 56, 22, 78, 93, 2, 12, 45, 65, 39, 83) is 2\n"
     ]
    }
   ],
   "source": [
    "# 21. Find the maximum value in a tuple.\n",
    "# 22. Find the minimum value in a tuple.\n",
    "\n",
    "tuple1= (44, 56, 22, 78, 93, 2, 12, 45, 65, 39, 83)\n",
    "maxi = max(tuple1)\n",
    "mini = min(tuple1)\n",
    "print(f\"Maximum number in {tuple1} is {maxi}\")\n",
    "print(f\"Minimum number in {tuple1} is {mini}\")"
   ]
  },
  {
   "cell_type": "code",
   "execution_count": 76,
   "id": "644be2a9-1455-4006-8bc5-7ed16fd77378",
   "metadata": {},
   "outputs": [
    {
     "name": "stdin",
     "output_type": "stream",
     "text": [
      "enter a string nityaa\n"
     ]
    },
    {
     "name": "stdout",
     "output_type": "stream",
     "text": [
      "tuple of characters ('n', 'i', 't', 'y', 'a', 'a')\n"
     ]
    }
   ],
   "source": [
    "# 23. Convert a string to a tuple of characters.\n",
    "\n",
    "strr= input(\"enter a string\")\n",
    "print(\"tuple of characters\",tuple(strr))"
   ]
  },
  {
   "cell_type": "code",
   "execution_count": 81,
   "id": "2802d6c2-a26f-47d4-8fbe-e4d7a5092ba3",
   "metadata": {},
   "outputs": [
    {
     "name": "stdout",
     "output_type": "stream",
     "text": [
      "nityaa\n"
     ]
    }
   ],
   "source": [
    "# 24. Convert a tuple of characters to a string.\n",
    "\n",
    "tuple1 = ('n', 'i', 't', 'y', 'a', 'a')\n",
    "print(\"\".join(tuple1))\n"
   ]
  },
  {
   "cell_type": "code",
   "execution_count": 82,
   "id": "10024214-91a3-4f85-8879-366dd72534c1",
   "metadata": {},
   "outputs": [
    {
     "name": "stdin",
     "output_type": "stream",
     "text": [
      "Enter a string nityaa\n",
      "Input a number 4\n",
      "Input a decimal number 3.4\n"
     ]
    },
    {
     "name": "stdout",
     "output_type": "stream",
     "text": [
      "('nityaa', 4, 3.4)\n"
     ]
    }
   ],
   "source": [
    "# 25. Create a tuple from multiple data types.\n",
    "\n",
    "a= input(\"Enter a string\")\n",
    "b = int(input(\"Input a number\"))\n",
    "c = float(input(\"Input a decimal number\"))\n",
    "tuple1=(a,b,c)\n",
    "print(tuple1)\n"
   ]
  },
  {
   "cell_type": "code",
   "execution_count": 84,
   "id": "f588724a-c2c8-4695-ae6c-3997c153b5e8",
   "metadata": {},
   "outputs": [
    {
     "name": "stdout",
     "output_type": "stream",
     "text": [
      "not identical tuple\n"
     ]
    }
   ],
   "source": [
    "# 26. Check if two tuples are identical.\n",
    "\n",
    "tuple1 = (1,2,3,7,5)\n",
    "tuple2= (1,2,2,4,8)\n",
    "print(\"Indentical tuple\" if tuple1== tuple2 else\"not identical tuple\")\n"
   ]
  },
  {
   "cell_type": "code",
   "execution_count": 86,
   "id": "a49c60ef-e4e4-4f7a-8111-165cfb8bc7e1",
   "metadata": {},
   "outputs": [
    {
     "name": "stdout",
     "output_type": "stream",
     "text": [
      "[2, 12, 22, 39, 44, 45, 56, 65, 78, 83, 93]\n"
     ]
    }
   ],
   "source": [
    "# 27. Sort the elements of a tuple.\n",
    "\n",
    "tuple1= (44, 56, 22, 78, 93, 2, 12, 45, 65, 39, 83)\n",
    "print(sorted(tuple1))"
   ]
  },
  {
   "cell_type": "code",
   "execution_count": 2,
   "id": "fb1202eb-2451-4b2a-a375-c8e81454ea74",
   "metadata": {},
   "outputs": [
    {
     "name": "stdout",
     "output_type": "stream",
     "text": [
      "('44', '56', '22', '78', '93', '2', '12', '45', '65', '39', '83')\n"
     ]
    }
   ],
   "source": [
    "# 28. Convert a tuple of integers to a tuple of strings.\n",
    "\n",
    "tuple1= (44, 56, 22, 78, 93, 2, 12, 45, 65, 39, 83)\n",
    "print(tuple(str(i) for i in tuple1))"
   ]
  },
  {
   "cell_type": "code",
   "execution_count": 3,
   "id": "399d04b0-deee-4123-b9df-d74c0825e5db",
   "metadata": {},
   "outputs": [
    {
     "name": "stdout",
     "output_type": "stream",
     "text": [
      "(44, 56, 22, 78, 93, 2, 12, 45, 65, 39, 83)\n"
     ]
    }
   ],
   "source": [
    "# 29. Convert a tuple of strings to a tuple of integers.\n",
    "\n",
    "tuple1= ('44', '56', '22', '78', '93', '2', '12', '45', '65', '39', '83')\n",
    "print(tuple(int(i) for i in tuple1))"
   ]
  },
  {
   "cell_type": "code",
   "execution_count": 9,
   "id": "0b8598ef-40ce-4ac1-b5ae-cdac368895de",
   "metadata": {},
   "outputs": [
    {
     "name": "stdout",
     "output_type": "stream",
     "text": [
      "('1', '2', '3', '4', '5', '6', '7', '8', '9')\n"
     ]
    }
   ],
   "source": [
    "# 31. Flatten a nested tuple.\n",
    "\n",
    "tuple1 = (('1', '2', '3'), ('4', '5', '6'), ('7', '8', '9'))\n",
    "flattend_tuple = tuple(j for i in tuple1 for j in i)\n",
    "print(flattend_tuple)"
   ]
  },
  {
   "cell_type": "code",
   "execution_count": 11,
   "id": "b8843419-9fcd-4aa9-bb82-b56660726ec8",
   "metadata": {},
   "outputs": [
    {
     "name": "stdout",
     "output_type": "stream",
     "text": [
      "tuple of the first 5 prime numbers is (2, 3, 5, 7, 11)\n"
     ]
    }
   ],
   "source": [
    "# 32. Create a tuple of the first 5 prime numbers.\n",
    "\n",
    "\n",
    "def isPrimeNumber(num):\n",
    "    for i in range(2,num//2+1):\n",
    "        if(num % i == 0):\n",
    "            return False    \n",
    "    else:\n",
    "        return True\n",
    "prime_numbers=tuple()\n",
    "i=2\n",
    "while(len(prime_numbers)!= 5):\n",
    "    if(isPrimeNumber(i)):\n",
    "        prime_numbers+=(i,)\n",
    "    i+=1\n",
    "\n",
    "print(\"tuple of the first 5 prime numbers is\",prime_numbers)"
   ]
  },
  {
   "cell_type": "code",
   "execution_count": 12,
   "id": "c3717350-d393-407e-ab90-e019593d6a2a",
   "metadata": {},
   "outputs": [
    {
     "name": "stdout",
     "output_type": "stream",
     "text": [
      "tuple is pallindrome\n"
     ]
    }
   ],
   "source": [
    "# 33. Check if a tuple is a palindrome.\n",
    "\n",
    "tuple1=(44,33,22,11,22,33,44)\n",
    "print(\"tuple is pallindrome\" if tuple1==tuple1[::-1] else \"tuple is not pallindrome\")"
   ]
  },
  {
   "cell_type": "code",
   "execution_count": 14,
   "id": "25cc3ffc-e1df-4f3a-9f09-bd9be6fef726",
   "metadata": {},
   "outputs": [
    {
     "name": "stdout",
     "output_type": "stream",
     "text": [
      "(1, 4, 9, 16, 25)\n"
     ]
    }
   ],
   "source": [
    "# 34. Create a tuple of squares of numbers from 1 to 5.\n",
    "\n",
    "print(tuple(i**2 for i in range(1,6)))"
   ]
  },
  {
   "cell_type": "code",
   "execution_count": 15,
   "id": "4258be23-a011-433c-afdb-c2d9065421e0",
   "metadata": {},
   "outputs": [
    {
     "name": "stdout",
     "output_type": "stream",
     "text": [
      "Even no's in (44, 56, 22, 78, 93, 2, 12, 45, 65, 39, 83) are (44, 56, 22, 78, 2, 12)\n"
     ]
    }
   ],
   "source": [
    "# 35. Filter out all even numbers from a tuple.\n",
    "\n",
    "tuple1= (44, 56, 22, 78, 93, 2, 12, 45, 65, 39, 83)\n",
    "evens= tuple(i for i in tuple1 if i%2==0)\n",
    "print(f\"Even no's in {tuple1} are {evens}\")"
   ]
  },
  {
   "cell_type": "code",
   "execution_count": 16,
   "id": "b3f39cff-6f2a-4da4-994c-58f6500036a0",
   "metadata": {},
   "outputs": [
    {
     "name": "stdout",
     "output_type": "stream",
     "text": [
      "(88, 112, 44, 156, 186, 4, 24, 90, 130, 78, 166)\n"
     ]
    }
   ],
   "source": [
    "# 36. Multiply all elements in a tuple by 2.\n",
    "\n",
    "tuple1= (44, 56, 22, 78, 93, 2, 12, 45, 65, 39, 83)\n",
    "print( tuple( i*2 for i in tuple1) )"
   ]
  },
  {
   "cell_type": "code",
   "execution_count": 19,
   "id": "c1a73341-53f1-4e11-9566-a651268c1d07",
   "metadata": {},
   "outputs": [
    {
     "name": "stdin",
     "output_type": "stream",
     "text": [
      "Enter the number of random numbers you want to generate 5\n",
      "Enter the starting range 2\n",
      "Enter the ending range 15\n"
     ]
    },
    {
     "name": "stdout",
     "output_type": "stream",
     "text": [
      "(10, 9, 3, 8, 12)\n"
     ]
    }
   ],
   "source": [
    "# 37. Create a tuple of random numbers.\n",
    "\n",
    "import random \n",
    "\n",
    "n = int(input(\"Enter the number of random numbers you want to generate\"))\n",
    "a = int(input(\"Enter the starting range\"))\n",
    "b = int(input(\"Enter the ending range\"))\n",
    "random_numbers= tuple()\n",
    "for i in range(n):\n",
    "    random_numbers += (random.randint(a,b),)\n",
    "print(random_numbers)"
   ]
  },
  {
   "cell_type": "code",
   "execution_count": 24,
   "id": "5af19a9b-3316-44ab-b65c-720409ca0a63",
   "metadata": {},
   "outputs": [
    {
     "name": "stdout",
     "output_type": "stream",
     "text": [
      "(22, 33, 44, 55, 66, 77, 88, 99) is sorted\n"
     ]
    }
   ],
   "source": [
    "# 38. Check if a tuple is sorted.\n",
    "\n",
    "#  APPROCH USED -> if every no is greator than its prev one than the list is sorted else not.\n",
    "\n",
    "tuple1 = (22,33,44,55,66,77,88,99)\n",
    "\n",
    "def checkSorted(tuple1):\n",
    "    for i in range(len(tuple1)-1):\n",
    "        if tuple1[i] > tuple1[i+1]:\n",
    "            return False\n",
    "    return True\n",
    "\n",
    "print (f\"{tuple1} is sorted\" if checkSorted(tuple1) else f\"{tuple1} is unsorted\")"
   ]
  },
  {
   "cell_type": "code",
   "execution_count": 26,
   "id": "aa934dc8-5f0e-426c-9d8a-caa7f5efc0bb",
   "metadata": {},
   "outputs": [
    {
     "name": "stdin",
     "output_type": "stream",
     "text": [
      "Enter the number of rotations 3\n"
     ]
    },
    {
     "name": "stdout",
     "output_type": "stream",
     "text": [
      "After 3 left rotation (77, 88, 99, 22, 33, 44, 55, 66, 77)\n"
     ]
    }
   ],
   "source": [
    "# 39. Rotate a tuple to the left by `n` positions.\n",
    "\n",
    "tuple1 = (22,33,44,55,66,77,88,99)\n",
    "r = int(input(\"Enter the number of rotations\"))\n",
    "n= len(tuple1)\n",
    "rotated = tuple(tuple1[n-r:] + tuple1[:n-r+1])\n",
    "print(f\"After {r} left rotation {rotated}\")"
   ]
  },
  {
   "cell_type": "code",
   "execution_count": 28,
   "id": "0f6026bc-4aec-4e0a-8d25-f96bb365647f",
   "metadata": {},
   "outputs": [
    {
     "name": "stdin",
     "output_type": "stream",
     "text": [
      "Enter the number of rotations 3\n"
     ]
    },
    {
     "name": "stdout",
     "output_type": "stream",
     "text": [
      "After 3 right rotation (55, 66, 77, 88, 99, 22, 33, 44)\n"
     ]
    }
   ],
   "source": [
    "# 40. Rotate a tuple to the right by `n` positions.\n",
    "tuple1 = (22,33,44,55,66,77,88,99)\n",
    "r = int(input(\"Enter the number of rotations\"))\n",
    "n= len(tuple1)\n",
    "rotated = tuple(tuple1[r:] + tuple1[:r])\n",
    "print(f\"After {r} right rotation {rotated}\")"
   ]
  },
  {
   "cell_type": "code",
   "execution_count": 30,
   "id": "9937621e-9371-4af7-b0ae-ac8606829337",
   "metadata": {},
   "outputs": [
    {
     "name": "stdin",
     "output_type": "stream",
     "text": [
      "Enter the length of fibonacci series 5\n"
     ]
    },
    {
     "name": "stdout",
     "output_type": "stream",
     "text": [
      "(0, 1, 1, 2, 3)\n"
     ]
    }
   ],
   "source": [
    "# 41. Create a tuple of the first 5 Fibonacci numbers.\n",
    "\n",
    "n = int(input(\"Enter the length of fibonacci series\"))\n",
    "tuple1=(0,1)\n",
    "for i in range(2,n):\n",
    "    tuple1+=(tuple1[i-2]+tuple1[i-1],)\n",
    "print(tuple1)"
   ]
  },
  {
   "cell_type": "code",
   "execution_count": 34,
   "id": "7f13d5d8-ed0e-43f6-97e7-4ecc55da0ebc",
   "metadata": {},
   "outputs": [
    {
     "name": "stdin",
     "output_type": "stream",
     "text": [
      "enter the element 1\n",
      "enter the element 2\n",
      "enter the element 3\n",
      "enter the element 4\n",
      "enter the element 5\n",
      "enter the element \n"
     ]
    },
    {
     "name": "stdout",
     "output_type": "stream",
     "text": [
      "(1, 2, 3, 4, 5)\n"
     ]
    }
   ],
   "source": [
    "# 42. Create a tuple from user input.\n",
    "\n",
    "# str1 = input(\"enter the elements seperated by space\")\n",
    "# tuple1 = tuple(int(i) for i in str1.split())\n",
    "\n",
    "tuple1 = tuple()\n",
    "while(True):\n",
    "    element = input(\"enter the element\")\n",
    "    if(element == ''):\n",
    "        break\n",
    "    tuple1+= (int(element),)\n",
    "    \n",
    "print(tuple1)"
   ]
  },
  {
   "cell_type": "code",
   "execution_count": 42,
   "id": "6d76e1b6-713d-48d4-b0ae-f8613b8fe119",
   "metadata": {},
   "outputs": [
    {
     "name": "stdin",
     "output_type": "stream",
     "text": [
      "enter the position u want to split 3 5\n"
     ]
    },
    {
     "name": "stdout",
     "output_type": "stream",
     "text": [
      "(44, 56, 22, 2, 93, 78, 12, 45, 65, 39, 83)\n"
     ]
    }
   ],
   "source": [
    "# 43. Swap two elements in a tuple.\n",
    "\n",
    "tuple1= (44, 56, 22, 78, 93, 2, 12, 45, 65, 39, 83)\n",
    "a,b= tuple(int(i) for i in input(\"enter the position u want to split\").split())\n",
    "\n",
    "# updated_tuple= tuple1[:a] + (tuple1[b],) + tuple1[a+1:b] + (tuple1[a],) + tuple1[b:]\n",
    "\n",
    "list1 = list(tuple1)\n",
    "list1[a],list1[b]= list1[b],list1[a]\n",
    "updated_tuple = tuple(list1)\n",
    "\n",
    "print(updated_tuple)"
   ]
  },
  {
   "cell_type": "code",
   "execution_count": 43,
   "id": "24209014-b652-4b03-b07b-e56fe33cf078",
   "metadata": {},
   "outputs": [
    {
     "name": "stdout",
     "output_type": "stream",
     "text": [
      "Revesed tuple is (83, 39, 65, 45, 12, 2, 93, 78, 22, 56, 44)\n"
     ]
    }
   ],
   "source": [
    "# 44. Reverse the elements of a tuple.\n",
    "\n",
    "tuple1= (44, 56, 22, 78, 93, 2, 12, 45, 65, 39, 83)\n",
    "print(\"Revesed tuple is\", tuple1[::-1])"
   ]
  },
  {
   "cell_type": "code",
   "execution_count": 44,
   "id": "ba5f019f-638e-4499-ba15-e93fca2b2cae",
   "metadata": {},
   "outputs": [
    {
     "name": "stdin",
     "output_type": "stream",
     "text": [
      "Enter a number 5\n"
     ]
    },
    {
     "name": "stdout",
     "output_type": "stream",
     "text": [
      "(1, 2, 4, 8, 16, 32)\n"
     ]
    }
   ],
   "source": [
    "# 45. Create a tuple of the first `n` powers of 2.\n",
    "\n",
    "n = int(input(\"Enter a number\"))\n",
    "tuple1 = tuple()\n",
    "for i in range(n+1):\n",
    "    tuple1+=(2**i,)\n",
    "print(tuple1)"
   ]
  },
  {
   "cell_type": "code",
   "execution_count": 47,
   "id": "b4345dd0-3ac1-42ae-88fa-d263dc435ff9",
   "metadata": {},
   "outputs": [
    {
     "name": "stdin",
     "output_type": "stream",
     "text": [
      "enter a string hi wish you a happy day\n"
     ]
    },
    {
     "name": "stdout",
     "output_type": "stream",
     "text": [
      "Longest word in ('hi', 'wish', 'you', 'a', 'happy', 'day') is happy\n",
      "Shortest word in ('hi', 'wish', 'you', 'a', 'happy', 'day') is a\n"
     ]
    }
   ],
   "source": [
    "# 46. Find the longest string in a tuple of strings.\n",
    "# 47. Find the shortest string in a tuple of strings.\n",
    "\n",
    "tuple1 = tuple(input(\"enter a string\").split())\n",
    "longest = max(tuple1,key=len)\n",
    "shortest = min(tuple1,key=len)\n",
    "print(f\"Longest word in {tuple1} is {longest}\")\n",
    "print(f\"Shortest word in {tuple1} is {shortest}\")"
   ]
  },
  {
   "cell_type": "code",
   "execution_count": 48,
   "id": "3866270b-131d-4ad0-96f8-045cf742c1f5",
   "metadata": {},
   "outputs": [
    {
     "name": "stdin",
     "output_type": "stream",
     "text": [
      "Enter a number 5\n"
     ]
    },
    {
     "name": "stdout",
     "output_type": "stream",
     "text": [
      "the first 5 triangular numbers (0, 1, 3, 6, 10, 15)\n"
     ]
    }
   ],
   "source": [
    "# 48. Create a tuple of the first `n` triangular numbers.\n",
    "\n",
    "n = int(input(\"Enter a number\"))\n",
    "tuple1 = tuple()\n",
    "for i in range(n+1):\n",
    "    tuple1+=((i*(i+1))//2,)\n",
    "print(f\"the first {n} triangular numbers {tuple1}\")"
   ]
  },
  {
   "cell_type": "code",
   "execution_count": 56,
   "id": "fbf131ab-31d0-4074-a4eb-b8d9e69a489d",
   "metadata": {},
   "outputs": [
    {
     "name": "stdout",
     "output_type": "stream",
     "text": [
      "(22, 56, 44) is a subsequence of (83, 39, 65, 45, 12, 2, 93, 78, 22, 56, 44)\n"
     ]
    }
   ],
   "source": [
    "# 49. Check if a tuple contains another tuple as a subsequence.\n",
    "\n",
    "tuple1 = (83, 39, 65, 45, 12, 2, 93, 78, 22, 56, 44)\n",
    "tuple2 = (22, 56, 44)\n",
    "\n",
    "for i in range(len(tuple1)-len(tuple2)+1):\n",
    "    if(tuple2 == tuple1[i:i+len(tuple2)]):\n",
    "        print(f\"{tuple2} is a subsequence of {tuple1}\")\n",
    "        break\n",
    "else:\n",
    "        print(f\"{tuple2} is not a subsequence of {tuple1}\")\n"
   ]
  },
  {
   "cell_type": "code",
   "execution_count": 57,
   "id": "c15cfc91-619e-4db9-aefd-b8328c584354",
   "metadata": {},
   "outputs": [
    {
     "name": "stdin",
     "output_type": "stream",
     "text": [
      "Enter a number 9\n"
     ]
    },
    {
     "name": "stdout",
     "output_type": "stream",
     "text": [
      "(1, 0, 1, 0, 1, 0, 1, 0, 1)\n"
     ]
    }
   ],
   "source": [
    "# 50. Create a tuple of alternating 1s and 0s of length `n`.\n",
    "\n",
    "n = int(input(\"Enter a number\"))\n",
    "print(tuple(i%2 for i in range(1,n+1)))"
   ]
  }
 ],
 "metadata": {
  "kernelspec": {
   "display_name": "Python 3 (ipykernel)",
   "language": "python",
   "name": "python3"
  },
  "language_info": {
   "codemirror_mode": {
    "name": "ipython",
    "version": 3
   },
   "file_extension": ".py",
   "mimetype": "text/x-python",
   "name": "python",
   "nbconvert_exporter": "python",
   "pygments_lexer": "ipython3",
   "version": "3.10.8"
  }
 },
 "nbformat": 4,
 "nbformat_minor": 5
}
