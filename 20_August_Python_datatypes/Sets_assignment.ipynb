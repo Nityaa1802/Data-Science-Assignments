{
 "cells": [
  {
   "cell_type": "code",
   "execution_count": 1,
   "id": "7ef4fd66-716b-446b-8ca2-7fbe3f328de3",
   "metadata": {},
   "outputs": [
    {
     "name": "stdout",
     "output_type": "stream",
     "text": [
      "{1, 2, 3, 4, 5}\n"
     ]
    }
   ],
   "source": [
    "# 1. Create a set with integers from 1 to 5.\n",
    "\n",
    "print({i for i in range(1,6)})"
   ]
  },
  {
   "cell_type": "code",
   "execution_count": 2,
   "id": "7e2d751f-dcf7-4ca3-a674-3d6ecff2b293",
   "metadata": {},
   "outputs": [
    {
     "name": "stdin",
     "output_type": "stream",
     "text": [
      "Enter a number 34\n"
     ]
    },
    {
     "name": "stdout",
     "output_type": "stream",
     "text": [
      "Updated set {1, 2, 3, 4, 5, 34}\n"
     ]
    }
   ],
   "source": [
    "# 2. Add an element to a set.\n",
    "\n",
    "set1 = {1,2,3,4,5}\n",
    "n = int(input(\"Enter a number\"))\n",
    "set1.add(n)\n",
    "print(\"Updated set\",set1)"
   ]
  },
  {
   "cell_type": "code",
   "execution_count": 1,
   "id": "8a12de35-185e-4acf-b0ba-dee6c61b1490",
   "metadata": {},
   "outputs": [
    {
     "name": "stdin",
     "output_type": "stream",
     "text": [
      "Enter space sperated elements 1 2 3 4 5\n",
      "Enter a number 6\n"
     ]
    },
    {
     "name": "stdout",
     "output_type": "stream",
     "text": [
      "Updated set {1, 2, 3, 4, 5}\n"
     ]
    }
   ],
   "source": [
    "# 3. Remove an element from a set.\n",
    "\n",
    "set1 = {int(i) for i in input(\"Enter space sperated elements\").split()}\n",
    "n = int(input(\"Enter a number\"))\n",
    "set1.discard(n)\n",
    "print(\"Updated set\",set1)"
   ]
  },
  {
   "cell_type": "code",
   "execution_count": 9,
   "id": "a2aca925-74ca-464b-ac90-4cdf675a9d32",
   "metadata": {},
   "outputs": [
    {
     "name": "stdin",
     "output_type": "stream",
     "text": [
      "Enter space sperated elements 1 2 3 4 5\n",
      "Enter a number 4\n"
     ]
    },
    {
     "name": "stdout",
     "output_type": "stream",
     "text": [
      "Item does exist\n"
     ]
    }
   ],
   "source": [
    "# 4. Check if an element exists in a set.\n",
    "\n",
    "set1 = {int(i) for i in input(\"Enter space sperated elements\").split()}\n",
    "n = int(input(\"Enter a number\"))\n",
    "if(n in set1):\n",
    "    print(\"Item does exist\")\n",
    "else:\n",
    "    print(\"Item doesn't exist\")"
   ]
  },
  {
   "cell_type": "code",
   "execution_count": 10,
   "id": "e334cb2d-9853-4c40-8eba-39555c5e4711",
   "metadata": {},
   "outputs": [
    {
     "name": "stdin",
     "output_type": "stream",
     "text": [
      "Enter space sperated elements 1 2 3 4 5 6 7 8\n"
     ]
    },
    {
     "name": "stdout",
     "output_type": "stream",
     "text": [
      "8\n"
     ]
    }
   ],
   "source": [
    "# 5. Find the length of a set without using the `len()` function.\n",
    "\n",
    "set1 = {int(i) for i in input(\"Enter space sperated elements\").split()}\n",
    "print(sum([1 for i in set1]))"
   ]
  },
  {
   "cell_type": "code",
   "execution_count": 12,
   "id": "cd604f0b-9301-411e-9851-4546b9da7b0d",
   "metadata": {},
   "outputs": [
    {
     "name": "stdout",
     "output_type": "stream",
     "text": [
      "Set before clear {11, 13, 47, 56, 89, 92, 94, 57}\n",
      "Set after clear set()\n"
     ]
    }
   ],
   "source": [
    "# 6. Clear all elements from a set.\n",
    "\n",
    "set1 = {11, 13, 57, 89, 92, 47, 94, 56}\n",
    "print(\"Set before clear\",set1)\n",
    "set1.clear()\n",
    "print(\"Set after clear\",set1)\n",
    "\n"
   ]
  },
  {
   "cell_type": "code",
   "execution_count": 13,
   "id": "0db572b0-80f9-4a96-a544-64df3444705b",
   "metadata": {},
   "outputs": [
    {
     "name": "stdout",
     "output_type": "stream",
     "text": [
      "set of even numbers from 1 to 10 {2, 4, 6, 8, 10}\n",
      "set of odd numbers from 1 to 10 {1, 3, 5, 7, 9}\n"
     ]
    }
   ],
   "source": [
    "# 7. Create a set of even numbers from 1 to 10.\n",
    "# 8. Create a set of odd numbers from 1 to 10.\n",
    "\n",
    "even = {i for i in range(1,11) if i%2==0}\n",
    "odd = {i for i in range(1,11) if i%2!=0}\n",
    "\n",
    "print(\"set of even numbers from 1 to 10\",even)\n",
    "print(\"set of odd numbers from 1 to 10\",odd)"
   ]
  },
  {
   "cell_type": "code",
   "execution_count": 16,
   "id": "0d4b4854-340c-4346-b742-b9304c68730e",
   "metadata": {},
   "outputs": [
    {
     "name": "stdout",
     "output_type": "stream",
     "text": [
      "union of {1, 2, 3, 4, 5, 6, 7} and {2, 4, 6, 8, 10} is {1, 2, 3, 4, 5, 6, 7, 8, 10}\n",
      "intersection of {1, 2, 3, 4, 5, 6, 7} and {2, 4, 6, 8, 10} is {2, 4, 6}\n"
     ]
    }
   ],
   "source": [
    "# 9. Find the union of two sets.\n",
    "\n",
    "set1 = {1,2,3,4,5,6,7}\n",
    "set2 = {2, 4, 6, 8, 10}\n",
    "\n",
    "union = set1.union(set2)\n",
    "print(f\"union of {set1} and {set2} is {union}\")\n"
   ]
  },
  {
   "cell_type": "code",
   "execution_count": null,
   "id": "fe35da04-d0cc-40e1-933f-7605d514cd4c",
   "metadata": {},
   "outputs": [],
   "source": [
    "# 10. Find the intersection of two sets.\n",
    "\n",
    "intersection = set1.intersection(set2)\n",
    "print(f\"intersection of {set1} and {set2} is {intersection}\")"
   ]
  },
  {
   "cell_type": "code",
   "execution_count": 17,
   "id": "df3d65cd-e262-4fe6-bfee-193f485dc2d6",
   "metadata": {},
   "outputs": [
    {
     "name": "stdout",
     "output_type": "stream",
     "text": [
      "intersection of {1, 2, 3, 4, 5, 6, 7} and {2, 4, 6, 8, 10} is {1, 3, 5, 7}\n"
     ]
    }
   ],
   "source": [
    "# 11. Find the difference between two sets.\n",
    "\n",
    "diff = set1.difference(set2)\n",
    "print(f\"difference of {set1} and {set2} is {diff}\")"
   ]
  },
  {
   "cell_type": "code",
   "execution_count": 21,
   "id": "04caff7d-a86e-46ab-b113-3c03b744bbab",
   "metadata": {},
   "outputs": [
    {
     "name": "stdout",
     "output_type": "stream",
     "text": [
      "True\n"
     ]
    }
   ],
   "source": [
    "# 12. Check if a set is a subset of another set.\n",
    "\n",
    "set1 = {1,2,3,4,5,6,7,8,9,10}\n",
    "set2 = {2, 4, 6, 8, 10}\n",
    "\n",
    "print(set2.issubset(set1))\n"
   ]
  },
  {
   "cell_type": "code",
   "execution_count": 24,
   "id": "1ec03041-39b2-44c0-8ad6-2af64b3bdbcf",
   "metadata": {},
   "outputs": [
    {
     "name": "stdout",
     "output_type": "stream",
     "text": [
      "True\n"
     ]
    }
   ],
   "source": [
    "# 13. Check if a set is a superset of another set.\n",
    "\n",
    "print(set1.issuperset(set2))"
   ]
  },
  {
   "cell_type": "code",
   "execution_count": 27,
   "id": "d09b4f36-2a02-4008-bbfe-0fad1be639a3",
   "metadata": {},
   "outputs": [
    {
     "name": "stdout",
     "output_type": "stream",
     "text": [
      "Set  from list is {11, 13, 47, 56, 89, 92, 94, 57}\n",
      "List from set is [11, 13, 47, 56, 89, 92, 94, 57]\n"
     ]
    }
   ],
   "source": [
    "# 14. Create a set from a list.\n",
    "# 15. Convert a set to a list.\n",
    "\n",
    "list1 = [11, 13, 57, 89, 92, 47, 94, 56]\n",
    "\n",
    "set1 = set(list1)\n",
    "\n",
    "print(\"Set  from list is\",set1)\n",
    "print(\"List from set is\", list(set1))"
   ]
  },
  {
   "cell_type": "code",
   "execution_count": 34,
   "id": "40b6a002-b15c-4d24-b8c8-03792f67ab54",
   "metadata": {},
   "outputs": [
    {
     "name": "stdout",
     "output_type": "stream",
     "text": [
      "Updated set {11, 13, 47, 89, 92, 94, 57} after removing 56\n"
     ]
    }
   ],
   "source": [
    "# 16. Remove a random element from a set.\n",
    "\n",
    "import random\n",
    "\n",
    "set1 = {11, 13, 47, 56, 89, 92, 94, 57}\n",
    "ele = random.choice(list(set1))\n",
    "set1.remove(ele)\n",
    "print(\"Updated set\",set1,\"after removing\",ele)"
   ]
  },
  {
   "cell_type": "code",
   "execution_count": 38,
   "id": "30020c49-66ff-4a62-9494-2f01f8e775df",
   "metadata": {},
   "outputs": [
    {
     "name": "stdout",
     "output_type": "stream",
     "text": [
      "Updated set {13, 47, 56, 89, 92, 94, 57} after removing 11\n"
     ]
    }
   ],
   "source": [
    "# 17. Pop an element from a set.\n",
    "\n",
    "set1 = {11, 13, 47, 56, 89, 92, 94, 57}\n",
    "ele = set1.pop()\n",
    "print(\"Updated set\",set1,\"after removing\",ele)"
   ]
  },
  {
   "cell_type": "code",
   "execution_count": 12,
   "id": "c0c4a24e-4db4-4821-b3c7-de6168f86127",
   "metadata": {},
   "outputs": [
    {
     "name": "stdout",
     "output_type": "stream",
     "text": [
      "Have no elements in common\n"
     ]
    }
   ],
   "source": [
    "# 18. Check if two sets have no elements in common.\n",
    "\n",
    "set1 = {2, 4, 6, 8, 10}\n",
    "set2= {1, 3, 5, 7, 9}\n",
    "print(\"Have no elements in common\" if(set1.isdisjoint(set2)) else \"Have elemments in common\")"
   ]
  },
  {
   "cell_type": "code",
   "execution_count": 42,
   "id": "7a2c09cf-59e3-49db-87d2-c761038efbf6",
   "metadata": {},
   "outputs": [
    {
     "name": "stdout",
     "output_type": "stream",
     "text": [
      "symmetric difference of {2, 3, 4, 5, 6, 7} and {2, 4, 6, 8, 10} is {3, 5, 7, 8, 10}\n"
     ]
    }
   ],
   "source": [
    "# 19. Find the symmetric difference between two sets.\n",
    "\n",
    "set1 = {2,3,4,5,6,7}\n",
    "set2 = {2, 4, 6, 8, 10}\n",
    "\n",
    "diff = set1.symmetric_difference(set2)\n",
    "print(f\"symmetric difference of {set1} and {set2} is {diff}\")"
   ]
  },
  {
   "cell_type": "code",
   "execution_count": 46,
   "id": "852cbdfd-d6ad-428c-8b8c-129d32180f03",
   "metadata": {},
   "outputs": [
    {
     "name": "stdout",
     "output_type": "stream",
     "text": [
      "Updated set {2, 3, 4, 5, 6, 7, 8, 10}\n"
     ]
    }
   ],
   "source": [
    "# 20. Update a set with elements from another set.\n",
    "\n",
    "set1 = {2,3,4,5,6,7}\n",
    "set2 = {2, 4, 6, 8, 10}\n",
    "\n",
    "updatedSet = set1.update(set2)\n",
    "print(f\"Updated set {set1}\")"
   ]
  },
  {
   "cell_type": "code",
   "execution_count": 48,
   "id": "e2bf7714-6e6d-44d9-b2bf-8b38dd50f011",
   "metadata": {},
   "outputs": [
    {
     "name": "stdout",
     "output_type": "stream",
     "text": [
      "set of the first 5 prime numbers is {2, 3, 5, 7, 11}\n"
     ]
    }
   ],
   "source": [
    "# 21. Create a set of the first 5 prime numbers.\n",
    "\n",
    "def isPrimeNumber(num):\n",
    "    for i in range(2,num//2+1):\n",
    "        if(num % i == 0):\n",
    "            return False    \n",
    "    else:\n",
    "        return True\n",
    "prime_numbers=set()\n",
    "i=2\n",
    "while(len(prime_numbers)!= 5):\n",
    "    if(isPrimeNumber(i)):\n",
    "        prime_numbers.add(i)\n",
    "    i+=1\n",
    "\n",
    "print(\"set of the first 5 prime numbers is\",prime_numbers)"
   ]
  },
  {
   "cell_type": "code",
   "execution_count": 11,
   "id": "09e2d277-8cde-488a-b9e6-ba8dfd92c5e2",
   "metadata": {},
   "outputs": [
    {
     "name": "stdout",
     "output_type": "stream",
     "text": [
      "{2, 3, 4, 5, 6, 7, 8, 10} and {2, 3, 4, 5, 6, 7, 8, 10} are identical = True\n"
     ]
    }
   ],
   "source": [
    "# 22. Check if two sets are identical.\n",
    "\n",
    "set1 = {2, 3, 4, 5, 6, 7, 8, 10}\n",
    "set2 = {2, 3, 4, 5, 6, 7, 8, 10}\n",
    "\n",
    "# METHOD:1\n",
    "# isIdentical = set1==set2\n",
    "\n",
    "# METHOD:2\n",
    "# isIdentical = set1.issubset(set2) and set2.issubset(set1)\n",
    "\n",
    "# METHOD:3\n",
    "isIdentical = len(set1.symmetric_difference(set2)) == 0\n",
    "\n",
    "print(f\"{set1} and {set2} are identical = {isIdentical}\" )\n"
   ]
  },
  {
   "cell_type": "code",
   "execution_count": 10,
   "id": "1b5e981d-66e3-43e1-8b7f-1dd5b496fab4",
   "metadata": {},
   "outputs": [
    {
     "name": "stdout",
     "output_type": "stream",
     "text": [
      "Frozen set is frozenset({2, 3, 4, 5, 6, 7, 8, 10})\n"
     ]
    }
   ],
   "source": [
    "# 23. Create a frozen set.\n",
    "\n",
    "set1 = {2, 3, 4, 5, 6, 7, 8, 10}\n",
    "ff= frozenset(set1)\n",
    "print(\"Frozen set is\",ff)"
   ]
  },
  {
   "cell_type": "code",
   "execution_count": 13,
   "id": "0d3b9c6c-9772-4d2d-bdbb-ce9c8ff68e2b",
   "metadata": {},
   "outputs": [
    {
     "name": "stdout",
     "output_type": "stream",
     "text": [
      "set are disjoint\n"
     ]
    }
   ],
   "source": [
    "# 24. Check if a set is disjoint with another set.\n",
    "\n",
    "set1 = {2, 4, 6, 8, 10}\n",
    "set2= {1, 3, 5, 7, 9}\n",
    "print(\"set are disjoint\" if(set1.isdisjoint(set2)) else \"set are not disjoint\")"
   ]
  },
  {
   "cell_type": "code",
   "execution_count": 14,
   "id": "340d5adb-748d-4b52-b539-a090f45a3fdc",
   "metadata": {},
   "outputs": [
    {
     "name": "stdout",
     "output_type": "stream",
     "text": [
      "{1, 4, 9, 16, 25}\n"
     ]
    }
   ],
   "source": [
    "# 25. Create a set of squares of numbers from 1 to 5.\n",
    "\n",
    "print({ i**2 for i in range(1,6) })"
   ]
  },
  {
   "cell_type": "code",
   "execution_count": 1,
   "id": "4e95f193-c5c7-4ecf-8383-c147ed6aa279",
   "metadata": {},
   "outputs": [
    {
     "name": "stdout",
     "output_type": "stream",
     "text": [
      "{2, 4, 6, 8, 10}\n"
     ]
    }
   ],
   "source": [
    "# 26. Filter out all even numbers from a set.\n",
    "\n",
    "set1 = {2, 3, 4, 5, 6, 7, 8, 10}\n",
    "even = {i for i in set1 if i%2 == 0}\n",
    "print(even)"
   ]
  },
  {
   "cell_type": "code",
   "execution_count": 3,
   "id": "75e252d2-60c4-42bd-9fda-64aafa1ef0f8",
   "metadata": {},
   "outputs": [
    {
     "name": "stdout",
     "output_type": "stream",
     "text": [
      "{4, 6, 8, 10, 12, 14, 16, 20}\n"
     ]
    }
   ],
   "source": [
    "# 27. Multiply all elements in a set by 2.\n",
    "\n",
    "set1 = {2, 3, 4, 5, 6, 7, 8, 10}\n",
    "mul2 = {i*2 for i in set1}\n",
    "print(mul2)"
   ]
  },
  {
   "cell_type": "code",
   "execution_count": 4,
   "id": "1eb8fb30-7673-4d78-9919-797f91a9a10a",
   "metadata": {},
   "outputs": [
    {
     "name": "stdin",
     "output_type": "stream",
     "text": [
      "Enter a number 5\n"
     ]
    },
    {
     "name": "stdout",
     "output_type": "stream",
     "text": [
      "{0.39920978001660967, 0.6829120246235983, 0.07634515644213336, 0.9014955153632972, 0.4609617842795225}\n"
     ]
    }
   ],
   "source": [
    "# 28. Create a set of random numbers.\n",
    "\n",
    "import random\n",
    "\n",
    "n = int(input(\"Enter a number\"))\n",
    "set1=set()\n",
    "for i in range(n):\n",
    "    set1.add(random.random())\n",
    "print(set1)\n"
   ]
  },
  {
   "cell_type": "code",
   "execution_count": 6,
   "id": "5ce235b7-7511-4900-bd74-cc8c793e9a70",
   "metadata": {},
   "outputs": [
    {
     "name": "stdout",
     "output_type": "stream",
     "text": [
      "Set is not empty\n"
     ]
    }
   ],
   "source": [
    "# 29. Check if a set is empty.\n",
    "\n",
    "set1=set([1])\n",
    "if(set1 == set()):\n",
    "    print(\"Set is empty\")\n",
    "else:\n",
    "    print(\"Set is not empty\")"
   ]
  },
  {
   "cell_type": "code",
   "execution_count": 43,
   "id": "fa10a19e-4bfe-4477-90fa-bb23f665b05b",
   "metadata": {},
   "outputs": [
    {
     "data": {
      "text/plain": [
       "{frozenset({4, 5}), frozenset({2, 3}), frozenset({1, 2})}"
      ]
     },
     "execution_count": 43,
     "metadata": {},
     "output_type": "execute_result"
    }
   ],
   "source": [
    "# 30. Create a nested set (hint: use frozenset).\n",
    "\n",
    "s = set()\n",
    "s.add(frozenset((1,2)))\n",
    "s.add(frozenset((2,3)))\n",
    "s.add(frozenset((4,5)))\n",
    "s"
   ]
  },
  {
   "cell_type": "code",
   "execution_count": 7,
   "id": "077ea512-45df-4fae-8f57-22d09be49f61",
   "metadata": {},
   "outputs": [
    {
     "name": "stdin",
     "output_type": "stream",
     "text": [
      "Enter space sperated elements 1 2 3 4 5\n",
      "Enter a number 4\n"
     ]
    },
    {
     "name": "stdout",
     "output_type": "stream",
     "text": [
      "Updated set {1, 2, 3, 5}\n"
     ]
    }
   ],
   "source": [
    "# 31. Remove an element from a set using the discard method.\n",
    "\n",
    "set1 = {int(i) for i in input(\"Enter space sperated elements\").split()}\n",
    "n = int(input(\"Enter a number\"))\n",
    "set1.discard(n)\n",
    "print(\"Updated set\",set1)"
   ]
  },
  {
   "cell_type": "code",
   "execution_count": 10,
   "id": "5c8ab46c-57f8-4fc1-a6b6-0bd42f22b104",
   "metadata": {},
   "outputs": [
    {
     "name": "stdout",
     "output_type": "stream",
     "text": [
      "both are not equal\n"
     ]
    }
   ],
   "source": [
    "# 32. Compare two sets.\n",
    "\n",
    "set1 = {1,2,3,7,5}\n",
    "set2= {1,2,2,4,8}\n",
    "\n",
    "if(len(set1) == len(set2)):\n",
    "    if(set1==set2):\n",
    "        print(\"both are eqal\")\n",
    "else:\n",
    "    print(\"both are not equal\")"
   ]
  },
  {
   "cell_type": "code",
   "execution_count": 12,
   "id": "b9bd137c-b209-4774-a5be-e001fbd2e8f2",
   "metadata": {},
   "outputs": [
    {
     "name": "stdin",
     "output_type": "stream",
     "text": [
      " hii \n"
     ]
    },
    {
     "name": "stdout",
     "output_type": "stream",
     "text": [
      "{'h', 'i', ' '}\n"
     ]
    }
   ],
   "source": [
    "# 33. Create a set from a string.\n",
    "\n",
    "st1= input()\n",
    "print(set(st1))"
   ]
  },
  {
   "cell_type": "code",
   "execution_count": 14,
   "id": "f025edff-8223-4078-88a4-dc34ee448d0b",
   "metadata": {},
   "outputs": [
    {
     "name": "stdin",
     "output_type": "stream",
     "text": [
      " 1 2 3 4 5\n"
     ]
    },
    {
     "name": "stdout",
     "output_type": "stream",
     "text": [
      "{1, 2, 3, 4, 5}\n"
     ]
    }
   ],
   "source": [
    "# 34. Convert a set of strings to a set of integers.\n",
    "\n",
    "set1 = set(input().split())\n",
    "setInt = set(map(int,set1))\n",
    "print(setInt)"
   ]
  },
  {
   "cell_type": "code",
   "execution_count": 16,
   "id": "410de5b0-4b79-4a4e-987f-4ae265f49b11",
   "metadata": {},
   "outputs": [
    {
     "name": "stdout",
     "output_type": "stream",
     "text": [
      "{'3', '4', '1', '2', '5'}\n"
     ]
    }
   ],
   "source": [
    "# 35. Convert a set of integers to a set of strings.\n",
    "\n",
    "set1= {1, 2, 3, 4, 5}\n",
    "setStr = set(map(str,set1))\n",
    "print(setStr)"
   ]
  },
  {
   "cell_type": "code",
   "execution_count": 18,
   "id": "e0d88aec-d3d5-49e6-94e9-3543ba1194a1",
   "metadata": {},
   "outputs": [
    {
     "name": "stdout",
     "output_type": "stream",
     "text": [
      "(1, 2, 3, 4, 5)\n"
     ]
    }
   ],
   "source": [
    "# 36. Create a set from a tuple.\n",
    "\n",
    "ex= {1, 2, 3, 4, 5}\n",
    "exTuple = tuple(ex)\n",
    "print(exTuple)"
   ]
  },
  {
   "cell_type": "code",
   "execution_count": 19,
   "id": "33852ffe-ccee-4d39-bc40-139ef520b1c1",
   "metadata": {},
   "outputs": [
    {
     "name": "stdout",
     "output_type": "stream",
     "text": [
      "{1, 2, 3, 4, 5}\n"
     ]
    }
   ],
   "source": [
    "# 37. Convert a set to a tuple.\n",
    "\n",
    "ex= (1, 2, 3, 4, 5)\n",
    "exSet = set(ex)\n",
    "print(exSet)"
   ]
  },
  {
   "cell_type": "code",
   "execution_count": 21,
   "id": "b4a61d51-17c7-41a2-bbad-56ab66ec0bc8",
   "metadata": {},
   "outputs": [
    {
     "name": "stdout",
     "output_type": "stream",
     "text": [
      "Maximum number in {11, 13, 47, 56, 89, 92, 94, 57} is 94\n",
      "Minimum number in {11, 13, 47, 56, 89, 92, 94, 57} is 11\n"
     ]
    }
   ],
   "source": [
    "# 38. Find the maximum value in a set.\n",
    "# 39. Find the minimum value in a set.\n",
    "\n",
    "set1 = {11, 13, 47, 56, 89, 92, 94, 57}\n",
    "maxi = max(set1)\n",
    "mini = min(set1)\n",
    "print(f\"Maximum number in {set1} is {maxi}\")\n",
    "print(f\"Minimum number in {set1} is {mini}\")"
   ]
  },
  {
   "cell_type": "code",
   "execution_count": 23,
   "id": "050224e6-6810-471f-853c-ab601acfd509",
   "metadata": {},
   "outputs": [
    {
     "name": "stdin",
     "output_type": "stream",
     "text": [
      "enter numbers seperated by space 1 2 3 4 5\n"
     ]
    },
    {
     "name": "stdout",
     "output_type": "stream",
     "text": [
      "{1, 2, 3, 4, 5}\n"
     ]
    }
   ],
   "source": [
    "# 40. Create a set from user input.\n",
    "\n",
    "set1 = set(map(int,input(\"enter numbers seperated by space\").split()))\n",
    "print(set1)"
   ]
  },
  {
   "cell_type": "code",
   "execution_count": 24,
   "id": "b59caae8-0dbd-4f7d-965d-2195c577e162",
   "metadata": {},
   "outputs": [
    {
     "name": "stdout",
     "output_type": "stream",
     "text": [
      "intersection is empty\n"
     ]
    }
   ],
   "source": [
    "# 41. Check if the intersection of two sets is empty.\n",
    "\n",
    "set1 = {2, 4, 6, 8, 10}\n",
    "set2= {1, 3, 5, 7, 9}\n",
    "print(\"intersection is empty\" if(set1.isdisjoint(set2)) else \"intersection is not empty\")"
   ]
  },
  {
   "cell_type": "code",
   "execution_count": 26,
   "id": "18cab079-745d-4d15-b5a9-18b1f8a7d121",
   "metadata": {},
   "outputs": [
    {
     "name": "stdin",
     "output_type": "stream",
     "text": [
      "Enter the length of fibonacci series 5\n"
     ]
    },
    {
     "name": "stdout",
     "output_type": "stream",
     "text": [
      "{0, 1, 2, 3, 5}\n"
     ]
    }
   ],
   "source": [
    "# 42. Create a set of the first 5 Fibonacci numbers.\n",
    "\n",
    "n = int(input(\"Enter the length of fibonacci series\"))\n",
    "set1=set()\n",
    "a,b=0,1\n",
    "while(len(set1)!=n):\n",
    "    set1.add(a)\n",
    "    a,b=b,a+b\n",
    "print(set1)"
   ]
  },
  {
   "cell_type": "code",
   "execution_count": null,
   "id": "fa414e08-4107-4738-9173-745a691f6ac2",
   "metadata": {},
   "outputs": [],
   "source": [
    "# 43. Remove duplicates from a list using sets.\n",
    "\n",
    "my_list=  [83, 39, 65, 44, 12, 12, 93, 78, 22, 65, 44]\n",
    "my_list = list(set(my_list))\n",
    "print('List with no duplicates is',my_list)"
   ]
  },
  {
   "cell_type": "code",
   "execution_count": 29,
   "id": "95da3f06-a465-4791-9668-6a2c9751c2da",
   "metadata": {},
   "outputs": [
    {
     "name": "stdout",
     "output_type": "stream",
     "text": [
      "both are eqaul\n"
     ]
    }
   ],
   "source": [
    "# 44. Check if two sets have the same elements, regardless of their count.\n",
    "\n",
    "set1 = {1, 2, 2, 3, 3, 3}\n",
    "set2 = {3, 2, 1}\n",
    "if(set1==set2):\n",
    "    print(\"both are eqaul\")\n",
    "else:\n",
    "    print(\"both are not equal\")"
   ]
  },
  {
   "cell_type": "code",
   "execution_count": 31,
   "id": "6905d326-a4c3-4945-86ca-c1a091361f56",
   "metadata": {},
   "outputs": [
    {
     "name": "stdin",
     "output_type": "stream",
     "text": [
      "Enter a number 5\n"
     ]
    },
    {
     "name": "stdout",
     "output_type": "stream",
     "text": [
      "{32, 1, 2, 4, 8, 16}\n"
     ]
    }
   ],
   "source": [
    "# 45. Create a set of the first `n` powers of 2.\n",
    "\n",
    "n = int(input(\"Enter a number\"))\n",
    "set1 = set()\n",
    "for i in range(n+1):\n",
    "    set1.add(2**i)\n",
    "print(set1)"
   ]
  },
  {
   "cell_type": "code",
   "execution_count": 36,
   "id": "8039e21a-c813-4bb4-a4e4-a9051eeb24e3",
   "metadata": {},
   "outputs": [
    {
     "name": "stdout",
     "output_type": "stream",
     "text": [
      "[65, 22, 44, 93, 78]\n"
     ]
    }
   ],
   "source": [
    "# 46. Find the common elements between a set and a list.\n",
    "\n",
    "my_list=  [83, 39, 65, 44, 12, 12, 93, 78, 22, 65, 44]\n",
    "my_set= {93, 78, 22, 65, 44}\n",
    "print([i for i in my_set if i in my_list])"
   ]
  },
  {
   "cell_type": "code",
   "execution_count": 37,
   "id": "97c5c8b9-2b9c-40a3-ad1d-d182b8a2a7d3",
   "metadata": {},
   "outputs": [
    {
     "name": "stdin",
     "output_type": "stream",
     "text": [
      "Enter a number 5\n"
     ]
    },
    {
     "name": "stdout",
     "output_type": "stream",
     "text": [
      "the first 5 triangular numbers {0, 1, 3, 6, 10, 15}\n"
     ]
    }
   ],
   "source": [
    "# 47. Create a set of the first `n` triangular numbers.\n",
    "\n",
    "n = int(input(\"Enter a number\"))\n",
    "set1 = set()\n",
    "for i in range(n+1):\n",
    "    set1.add((i*(i+1))//2)\n",
    "print(f\"the first {n} triangular numbers {set1}\")"
   ]
  },
  {
   "cell_type": "code",
   "execution_count": 39,
   "id": "7ab7b3d0-f96f-4834-b81e-fa87f57ad2d0",
   "metadata": {},
   "outputs": [
    {
     "name": "stdout",
     "output_type": "stream",
     "text": [
      "True\n"
     ]
    }
   ],
   "source": [
    "# 48. Check if a set contains another set as a subset.\n",
    "\n",
    "set1 = {1,2,3,4,5,6,7,8,9,10}\n",
    "set2 = {2, 4, 6, 8, 10}\n",
    "\n",
    "print(set2.issubset(set1) or set1.issubset(set2))"
   ]
  },
  {
   "cell_type": "code",
   "execution_count": 40,
   "id": "f1e100d8-8944-4aa6-ac03-a14c781242b9",
   "metadata": {},
   "outputs": [
    {
     "name": "stdin",
     "output_type": "stream",
     "text": [
      "Enter a number 8\n"
     ]
    },
    {
     "name": "stdout",
     "output_type": "stream",
     "text": [
      "{0, 1}\n"
     ]
    }
   ],
   "source": [
    "# 49. Create a set of alternating 1s and 0s of length `n`.\n",
    "\n",
    "n = int(input(\"Enter a number\"))\n",
    "print(set(i%2 for i in range(1,n+1)))"
   ]
  },
  {
   "cell_type": "code",
   "execution_count": 42,
   "id": "01c4bd30-2f21-403d-8279-b5c92f80a006",
   "metadata": {},
   "outputs": [
    {
     "name": "stdout",
     "output_type": "stream",
     "text": [
      "{1, 2, 3, 4, 5, 6, 7, 8, 9, 10, 66, 11, 21}\n"
     ]
    }
   ],
   "source": [
    "# 50. Merge multiple sets into one.\n",
    "\n",
    "\n",
    "set1 = {1,2,3,4,5,6,7,8,9,10}\n",
    "set2 = {21, 4, 66, 8, 11}\n",
    "print(set1.union(set2))"
   ]
  },
  {
   "cell_type": "code",
   "execution_count": null,
   "id": "2407a1d2-67e1-4869-949f-9c2733821d5c",
   "metadata": {},
   "outputs": [],
   "source": []
  }
 ],
 "metadata": {
  "kernelspec": {
   "display_name": "Python 3 (ipykernel)",
   "language": "python",
   "name": "python3"
  },
  "language_info": {
   "codemirror_mode": {
    "name": "ipython",
    "version": 3
   },
   "file_extension": ".py",
   "mimetype": "text/x-python",
   "name": "python",
   "nbconvert_exporter": "python",
   "pygments_lexer": "ipython3",
   "version": "3.10.8"
  }
 },
 "nbformat": 4,
 "nbformat_minor": 5
}
