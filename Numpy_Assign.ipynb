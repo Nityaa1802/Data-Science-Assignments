{
 "cells": [
  {
   "cell_type": "code",
   "execution_count": 1,
   "id": "a53cf80e-f955-4294-97e0-bf9f0d28591d",
   "metadata": {},
   "outputs": [],
   "source": [
    "import numpy as np"
   ]
  },
  {
   "cell_type": "raw",
   "id": "5460abc9-a8c0-42c1-81d8-85bf44f5230d",
   "metadata": {},
   "source": [
    "1. What is a Python library? Why do we use Python libraries?\n",
    "\n",
    "A Python library is a collection of pre-written code modules that extend the functionality of Python. \n",
    "These libraries contain reusable functions, classes, and variables that can be imported into Python scripts \n",
    "or programs to perform specific tasks without having to write the code from scratch\n",
    "\n",
    "Code Reusability: Libraries provide pre-written code that can be reused across projects, saving time and effort in development.\n",
    "\n",
    "Efficiency: Using libraries allows developers to leverage optimized and well-tested code, leading to more efficient development processes.\n",
    "\n",
    "Functionality: Libraries often offer specialized functionality that may not be available in the Python standard library, enabling developers to perform complex tasks with ease.\n",
    "\n",
    "Community Support: Many Python libraries are open-source and have active communities of developers contributing to their improvement and maintenance. This means access to documentation, tutorials, and community support for troubleshooting.\n"
   ]
  },
  {
   "cell_type": "raw",
   "id": "89815b2f-407f-4542-a2af-e3160f265835",
   "metadata": {},
   "source": [
    "2. What is the difference between Numpy array and List?\n",
    "\n",
    "NData Types:\n",
    "\n",
    "Numpy arrays: Numpy arrays are homogeneous, meaning they can only store elements of the same data type. This allows for more efficient storage and manipulation of large datasets.\n",
    "Lists: Python lists can store elements of different data types. They are heterogeneous and can hold any Python object.\n",
    "\n",
    "Performance:\n",
    "\n",
    "Numpy arrays: Numpy arrays are implemented in C and are more memory efficient and faster in execution compared to Python lists, especially for large datasets and numerical computations.\n",
    "Lists: Python lists are implemented as dynamic arrays, which provide flexibility but may result in slower performance for certain operations, especially when dealing with large datasets\n",
    "\n",
    "Memory Usage:\n",
    "\n",
    "Numpy arrays: Numpy arrays typically consume less memory compared to Python lists, especially for large datasets, due to their homogeneous nature and efficient storage format.\n",
    "Lists: Python lists may consume more memory, especially when storing heterogeneous data types or when the list needs to dynamically resize."
   ]
  },
  {
   "cell_type": "code",
   "execution_count": 5,
   "id": "9733a7de-8782-435e-b425-aacde0e4e138",
   "metadata": {},
   "outputs": [
    {
     "name": "stdout",
     "output_type": "stream",
     "text": [
      "(3, 4)\n",
      "12\n",
      "2\n"
     ]
    }
   ],
   "source": [
    "# 3. Find the shape, size and dimension of the following array?\n",
    "# [[1, 2, 3, 4]\n",
    "# [5, 6, 7, 8],\n",
    "# [9, 10, 11, 12]]\n",
    "\n",
    "arr= np.array([[1, 2, 3, 4],[5, 6, 7, 8],[9, 10, 11, 12]])\n",
    "\n",
    "print(arr.shape)\n",
    "print(arr.size)\n",
    "print(arr.ndim)"
   ]
  },
  {
   "cell_type": "code",
   "execution_count": 6,
   "id": "cb37e2b2-bdde-42d0-a136-80e1b87ca2bd",
   "metadata": {},
   "outputs": [
    {
     "data": {
      "text/plain": [
       "array([1, 2, 3, 4])"
      ]
     },
     "execution_count": 6,
     "metadata": {},
     "output_type": "execute_result"
    }
   ],
   "source": [
    "# 4. Write python code to access the first row of the following array?\n",
    "# [[1, 2, 3, 4]\n",
    "# [5, 6, 7, 8],\n",
    "# [9, 10, 11, 12]]\n",
    "\n",
    "\n",
    "arr= np.array([[1, 2, 3, 4],[5, 6, 7, 8],[9, 10, 11, 12]])\n",
    "arr[0]"
   ]
  },
  {
   "cell_type": "code",
   "execution_count": 7,
   "id": "5a876076-2b79-45aa-ab91-5b878963a857",
   "metadata": {},
   "outputs": [
    {
     "data": {
      "text/plain": [
       "12"
      ]
     },
     "execution_count": 7,
     "metadata": {},
     "output_type": "execute_result"
    }
   ],
   "source": [
    "# 5. How do you access the element at the third row and fourth column from the given numpy array?\n",
    "# [[1, 2, 3, 4]\n",
    "# [5, 6, 7, 8],\n",
    "# [9, 10, 11, 12]]\n",
    "\n",
    "\n",
    "arr= np.array([[1, 2, 3, 4],[5, 6, 7, 8],[9, 10, 11, 12]])\n",
    "arr[2][3]"
   ]
  },
  {
   "cell_type": "code",
   "execution_count": 8,
   "id": "69b84c5f-00bd-439e-91dd-889d6f60ee85",
   "metadata": {},
   "outputs": [
    {
     "name": "stdout",
     "output_type": "stream",
     "text": [
      "[[ 2  4]\n",
      " [ 6  8]\n",
      " [10 12]]\n"
     ]
    }
   ],
   "source": [
    "# 6. Write code to extract all odd-indexed elements from the given numpy array?\n",
    "# [[1, 2, 3, 4]\n",
    "# [5, 6, 7, 8],\n",
    "# [9, 10, 11, 12]]\n",
    "\n",
    "arr= np.array([[1, 2, 3, 4],[5, 6, 7, 8],[9, 10, 11, 12]])\n",
    "print(arr[:,1::2])"
   ]
  },
  {
   "cell_type": "code",
   "execution_count": 21,
   "id": "53284296-9a91-4ba3-a083-002486c41742",
   "metadata": {},
   "outputs": [
    {
     "data": {
      "text/plain": [
       "array([[0.69605265, 0.85709497, 0.25159818],\n",
       "       [0.70779099, 0.70751556, 0.19937646],\n",
       "       [0.86756338, 0.92826903, 0.41897149]])"
      ]
     },
     "execution_count": 21,
     "metadata": {},
     "output_type": "execute_result"
    }
   ],
   "source": [
    "# 7. How can you generate a random 3x3 matrix with values between 0 and 1?\n",
    "\n",
    "np.random.rand(3,3)"
   ]
  },
  {
   "cell_type": "raw",
   "id": "830f66e2-c738-4486-8a2c-7299305bca03",
   "metadata": {},
   "source": [
    "# 8. Describe the difference between np.random.rand and np.random.randn?\n",
    "\n",
    "np.random.rand:\n",
    "\n",
    "This function generates random numbers from a uniform distribution over the range [0, 1).\n",
    "                                                                                   \n",
    "np.random.randn:\n",
    "\n",
    "This function generates random numbers from a standard normal distribution (mean=0, standard deviation=1)."
   ]
  },
  {
   "cell_type": "code",
   "execution_count": 22,
   "id": "0b827b09-db69-490c-8cb2-86f6e7f199b0",
   "metadata": {},
   "outputs": [
    {
     "data": {
      "text/plain": [
       "array([[[ 1,  2,  3,  4],\n",
       "        [ 5,  6,  7,  8],\n",
       "        [ 9, 10, 11, 12]]])"
      ]
     },
     "execution_count": 22,
     "metadata": {},
     "output_type": "execute_result"
    }
   ],
   "source": [
    "# 9. Write code to increase the dimension of the following array?\n",
    "# [[1, 2, 3, 4]\n",
    "# [5, 6, 7, 8],\n",
    "# [9, 10, 11, 12]]\n",
    "\n",
    "arr= np.array([[1, 2, 3, 4],[5, 6, 7, 8],[9, 10, 11, 12]])\n",
    "np.expand_dims(arr,axis=0)\n"
   ]
  },
  {
   "cell_type": "code",
   "execution_count": 23,
   "id": "2221b465-968d-4525-86bf-602920ec28a9",
   "metadata": {},
   "outputs": [
    {
     "data": {
      "text/plain": [
       "array([[ 1,  5,  9],\n",
       "       [ 2,  6, 10],\n",
       "       [ 3,  7, 11],\n",
       "       [ 4,  8, 12]])"
      ]
     },
     "execution_count": 23,
     "metadata": {},
     "output_type": "execute_result"
    }
   ],
   "source": [
    "# 10. How to transpose the following array in NumPy?\n",
    "# [[1, 2, 3, 4]\n",
    "# [5, 6, 7, 8],\n",
    "# [9, 10, 11, 12]]\n",
    "\n",
    "arr= np.array([[1, 2, 3, 4],[5, 6, 7, 8],[9, 10, 11, 12]])\n",
    "np.transpose(arr)"
   ]
  },
  {
   "cell_type": "code",
   "execution_count": 41,
   "id": "0805ef49-f198-4b1a-bcd1-7af3dcfe3a12",
   "metadata": {},
   "outputs": [
    {
     "name": "stdout",
     "output_type": "stream",
     "text": [
      "multiply\n",
      "[[  1   4   9  16]\n",
      " [ 25  36  49  64]\n",
      " [ 81 100 121 144]]\n",
      "addition\n",
      "[[ 2  4  6  8]\n",
      " [10 12 14 16]\n",
      " [18 20 22 24]]\n",
      "subtract\n",
      "[[0 0 0 0]\n",
      " [0 0 0 0]\n",
      " [0 0 0 0]]\n",
      "divide\n",
      "[[1. 1. 1. 1.]\n",
      " [1. 1. 1. 1.]\n",
      " [1. 1. 1. 1.]]\n"
     ]
    }
   ],
   "source": [
    "# 11. Consider the following matrix:\n",
    "# Matrix A2 [[1, 2, 3, 4] [5, 6, 7, 8],[9, 10, 11, 12]]\n",
    "# Matrix B2 [[1, 2, 3, 4] [5, 6, 7, 8],[9, 10, 11, 12]]\n",
    "\n",
    "mat1=np.matrix([[1, 2, 3, 4] ,[5, 6, 7, 8],[9, 10, 11, 12]])\n",
    "mat2=np.matrix([[1, 2, 3, 4] ,[5, 6, 7, 8],[9, 10, 11, 12]])\n",
    "\n",
    "# Perform the following operation using Python1\n",
    "\n",
    "# 1.) Index whiLe multiplication\n",
    "\n",
    "print('multiply')\n",
    "print(np.multiply(mat1,mat2)) \n",
    "# The * operator between NumPy matrices does not perform element-wise multiplication; instead, it performs matrix multiplication\n",
    "\n",
    "# 2.) Matix multiplication\n",
    "# we cant because it does not follow (n,p)*(p,m)\n",
    "\n",
    "# 3.) Add both the maticx\n",
    "print('addition')\n",
    "print(np.add(mat1,mat2)) \n",
    "# print(mat1+mat2)\n",
    "\n",
    "# 4.) Subtact matix B from A\n",
    "print('subtract')\n",
    "print(np.subtract(mat2,mat1)) \n",
    "# print(mat2-mat1)\n",
    "\n",
    "# 5.) Divide Matix B by A\n",
    "\n",
    "print('divide')\n",
    "print(np.divide(mat2,mat1)) \n",
    "# print(mat2-mat1)"
   ]
  },
  {
   "cell_type": "code",
   "execution_count": 42,
   "id": "77d8a600-24a7-4703-a41d-ec5613bdea53",
   "metadata": {},
   "outputs": [
    {
     "data": {
      "text/plain": [
       "array([[ 72057594037927936, 144115188075855872, 216172782113783808,\n",
       "        288230376151711744],\n",
       "       [360287970189639680, 432345564227567616, 504403158265495552,\n",
       "        576460752303423488],\n",
       "       [648518346341351424, 720575940379279360, 792633534417207296,\n",
       "        864691128455135232]])"
      ]
     },
     "execution_count": 42,
     "metadata": {},
     "output_type": "execute_result"
    }
   ],
   "source": [
    "# 12. Which function in Numpy can be used to swap the byte order of an array?\n",
    "\n",
    "arr= np.array([[1, 2, 3, 4],[5, 6, 7, 8],[9, 10, 11, 12]])\n",
    "arr.byteswap()"
   ]
  },
  {
   "cell_type": "raw",
   "id": "35214ae4-3211-41ad-975a-40ae208f85c2",
   "metadata": {},
   "source": [
    "# 13. What is the significance of the np.linalg.inv function?\n",
    "\n",
    "The np.linalg.inv() function in NumPy is used to compute the multiplicative inverse of a square matrix."
   ]
  },
  {
   "cell_type": "code",
   "execution_count": 46,
   "id": "1fb4cb6d-ff2e-4414-ada8-d8089b07a3ec",
   "metadata": {},
   "outputs": [
    {
     "data": {
      "text/plain": [
       "array([[ 1,  2,  3,  4,  5,  6],\n",
       "       [ 7,  8,  9, 10, 11, 12]])"
      ]
     },
     "execution_count": 46,
     "metadata": {},
     "output_type": "execute_result"
    }
   ],
   "source": [
    "# # 14. What does the np.reshape function do, and how is it used?\n",
    "\n",
    "# used to reshape numpy array\n",
    "arr= np.array([[1, 2, 3, 4],[5, 6, 7, 8],[9, 10, 11, 12]])\n",
    "np.reshape(arr,(2,6))"
   ]
  },
  {
   "cell_type": "markdown",
   "id": "9ab32531-1595-46b1-9f1d-a77450b8c678",
   "metadata": {},
   "source": [
    "15. What is broadcasting in Numpy? \n",
    "\n",
    "broadcasting is a mechanism that is "
   ]
  },
  {
   "cell_type": "code",
   "execution_count": null,
   "id": "5d48f6ba-0651-4a79-a64e-0709d29ef8b0",
   "metadata": {},
   "outputs": [],
   "source": []
  }
 ],
 "metadata": {
  "kernelspec": {
   "display_name": "Python 3 (ipykernel)",
   "language": "python",
   "name": "python3"
  },
  "language_info": {
   "codemirror_mode": {
    "name": "ipython",
    "version": 3
   },
   "file_extension": ".py",
   "mimetype": "text/x-python",
   "name": "python",
   "nbconvert_exporter": "python",
   "pygments_lexer": "ipython3",
   "version": "3.10.8"
  }
 },
 "nbformat": 4,
 "nbformat_minor": 5
}
